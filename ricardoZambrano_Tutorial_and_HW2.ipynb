{
  "cells": [
    {
      "cell_type": "markdown",
      "metadata": {
        "id": "pi9xptL0610e"
      },
      "source": [
        "# **Python Tutorial and Homework 2**"
      ]
    },
    {
      "cell_type": "markdown",
      "metadata": {
        "id": "BLA0tK0D6Jiu"
      },
      "source": [
        "\n",
        "This Colab Notebook contains 2 sections. The first section is a Python Tutorial intended to make you familiar with Numpy and Colab functionalities. **This section will not be graded**.\n",
        "\n",
        "The second section is a coding assignment (Homework 2). **This section will be graded**"
      ]
    },
    {
      "cell_type": "markdown",
      "metadata": {
        "id": "Nna9fw7nQV9n"
      },
      "source": [
        "# 1.0 **Python Tutorial**\n",
        "\n",
        "This assignment section won't be graded but is intended as a tutorial to refresh the basics of python and its dependencies. It also allows one to get familiarized with Google Colab."
      ]
    },
    {
      "cell_type": "markdown",
      "source": [],
      "metadata": {
        "id": "K8pTiC3H9kJ3"
      }
    },
    {
      "cell_type": "markdown",
      "source": [],
      "metadata": {
        "id": "NeZCBbzQ99yz"
      }
    },
    {
      "cell_type": "markdown",
      "metadata": {
        "id": "ZNUg9w0GVZPJ"
      },
      "source": [
        "## 1.0.0 Array manipulation using numpy"
      ]
    },
    {
      "cell_type": "markdown",
      "metadata": {
        "id": "dwFjdjtq42v7"
      },
      "source": [
        "#### Q1 - Matrix multiplication"
      ]
    },
    {
      "cell_type": "code",
      "execution_count": null,
      "metadata": {
        "id": "c6Lrkst6QS38",
        "colab": {
          "base_uri": "https://localhost:8080/"
        },
        "outputId": "e6a8cc38-3c17-4f3e-945d-7c71bdc9bdcc"
      },
      "outputs": [
        {
          "output_type": "stream",
          "name": "stdout",
          "text": [
            "[[ 2  4]\n",
            " [ 6  8]\n",
            " [10 12]]\n",
            "\n",
            "[[ 7 10 13]\n",
            " [16 19 22]]\n",
            "\n",
            "[[ 78  96 114]\n",
            " [170 212 254]\n",
            " [262 328 394]]\n"
          ]
        }
      ],
      "source": [
        "import numpy as np\n",
        "\n",
        "### Create two numpy arrays with the dimensions 3x2 and 2x3 respectively using  np.arange().\n",
        "### The elements of the vector are\n",
        "### Vector 1 elements = [ 2,  4,  6,  8, 10, 12];\n",
        "### Vector 2 elements = [ 7, 10, 13, 16, 19, 22]\n",
        "\n",
        "### Starting at 2, stepping by 2\n",
        "vector1 = np.arange(2,14,2).reshape(3,2)\n",
        "### Starting at 7, stepping by 3\n",
        "vector2 = np.arange(7,25,3).reshape(2,3)\n",
        "\n",
        "### Print vec\n",
        "print(vector1)\n",
        "print(\"\")\n",
        "print(vector2)\n",
        "\n",
        "### Take product of the two matricies (Matrix product)\n",
        "prod = np.matmul(vector1,vector2)\n",
        "\n",
        "### Print\n",
        "print(\"\")\n",
        "print(prod)"
      ]
    },
    {
      "cell_type": "markdown",
      "metadata": {
        "id": "vasaB_7a4_23"
      },
      "source": [
        "#### Q2 - Diagonals"
      ]
    },
    {
      "cell_type": "code",
      "execution_count": null,
      "metadata": {
        "id": "OvOzhJZTdbb7",
        "colab": {
          "base_uri": "https://localhost:8080/"
        },
        "outputId": "3e040aad-0dd2-437b-cc9c-94208061582c"
      },
      "outputs": [
        {
          "output_type": "stream",
          "name": "stdout",
          "text": [
            "[[  2   5   8  11  14  17  20  23  26  29]\n",
            " [ 32  35  38  41  44  47  50  53  56  59]\n",
            " [ 62  65  68  71  74  77  80  83  86  89]\n",
            " [ 92  95  98 101 104 107 110 113 116 119]\n",
            " [122 125 128 131 134 137 140 143 146 149]\n",
            " [152 155 158 161 164 167 170 173 176 179]\n",
            " [182 185 188 191 194 197 200 203 206 209]\n",
            " [212 215 218 221 224 227 230 233 236 239]\n",
            " [242 245 248 251 254 257 260 263 266 269]\n",
            " [272 275 278 281 284 287 290 293 296 299]]\n",
            "Dimensions:  (10, 10)\n",
            "\n",
            "[[ 35  44  53  62  71  80  89  98 107 116]\n",
            " [125 134 143 152 161 170 179 188 197 206]\n",
            " [215 224 233 242 251 260 269 278 287 296]\n",
            " [305 314 323 332 341 350 359 368 377 386]\n",
            " [395 404 413 422 431 440 449 458 467 476]\n",
            " [485 494 503 512 521 530 539 548 557 566]\n",
            " [575 584 593 602 611 620 629 638 647 656]\n",
            " [665 674 683 692 701 710 719 728 737 746]\n",
            " [755 764 773 782 791 800 809 818 827 836]\n",
            " [845 854 863 872 881 890 899 908 917 926]]\n",
            "Dimensions:  (10, 10)\n",
            "\n",
            "[[ 92   0   0   0   0   0   0]\n",
            " [  0 125   0   0   0   0   0]\n",
            " [  0   0 158   0   0   0   0]\n",
            " [  0   0   0 191   0   0   0]\n",
            " [  0   0   0   0 224   0   0]\n",
            " [  0   0   0   0   0 257   0]\n",
            " [  0   0   0   0   0   0 290]]\n",
            "Dimensions:  (7, 7)\n",
            "\n",
            "[[ 62   0   0   0   0   0   0]\n",
            " [  0 161   0   0   0   0   0]\n",
            " [  0   0 260   0   0   0   0]\n",
            " [  0   0   0 359   0   0   0]\n",
            " [  0   0   0   0 458   0   0]\n",
            " [  0   0   0   0   0 557   0]\n",
            " [  0   0   0   0   0   0 656]]\n",
            "Dimensions:  (7, 7)\n",
            "\n",
            "[[  5704      0      0      0      0      0      0]\n",
            " [     0  20125      0      0      0      0      0]\n",
            " [     0      0  41080      0      0      0      0]\n",
            " [     0      0      0  68569      0      0      0]\n",
            " [     0      0      0      0 102592      0      0]\n",
            " [     0      0      0      0      0 143149      0]\n",
            " [     0      0      0      0      0      0 190240]]\n"
          ]
        }
      ],
      "source": [
        "### Create two numpy arrays with the dimensions 10x10 using the function np.arange().\n",
        "\n",
        "### Using formula np.arange(0,num)*step+start wheere num is the number of\n",
        "### elements of the vector. In this case, num = 100 (10x10)\n",
        "\n",
        "### Starting at 2, stepping by 3\n",
        "vector1 = (np.arange(0,100)*3+2).reshape(10,10)\n",
        "### Starting at 35, stepping by 9\n",
        "vector2 = (np.arange(0,100)*9+35).reshape(10,10)\n",
        "\n",
        "### Print vec\n",
        "print(vector1)\n",
        "print(\"Dimensions: \",vector1.shape)\n",
        "print(\"\")\n",
        "print(vector2)\n",
        "print(\"Dimensions: \",vector2.shape)\n",
        "\n",
        "### Obtain the diagonal matrix of each vector1 such that the start of the diagonal is from (3,0) and the end is (10,7)\n",
        "### Reshape the the matrix such that it form a diagonal maritix of shape(7,7)\n",
        "vector1_offset_diagonal = np.diag(np.diagonal(vector1,offset=-3))\n",
        "\n",
        "\n",
        "### Obtain a 7x7 matrix from the vector 2\n",
        "### starting from (left top element) = (0,3)\n",
        "### ending at (right bottom element) = (7,10)\n",
        "vector2_offset_diagonal = np.diag(np.diagonal(vector2,offset=3))\n",
        "\n",
        "### Print diagonal matrix\n",
        "print(\"\")\n",
        "print(vector1_offset_diagonal)\n",
        "print(\"Dimensions: \",vector1_offset_diagonal.shape)\n",
        "print(\"\")\n",
        "print(vector2_offset_diagonal)\n",
        "print(\"Dimensions: \",vector2_offset_diagonal.shape)\n",
        "\n",
        "### Take product of the two diagonal matricies (Matrix product)\n",
        "prod = np.matmul(vector1_offset_diagonal,vector2_offset_diagonal)\n",
        "\n",
        "### Print\n",
        "print(\"\")\n",
        "print(prod)"
      ]
    },
    {
      "cell_type": "markdown",
      "metadata": {
        "id": "O9nEhxof5SG8"
      },
      "source": [
        "#### Q3 - Sin wave"
      ]
    },
    {
      "cell_type": "markdown",
      "metadata": {
        "id": "BQpyqNI88_xX"
      },
      "source": [
        "Sample outputs,\n",
        "![download.png](data:image/png;base64,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) ![download (1).png](data:image/png;base64,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)\n",
        "\n"
      ]
    },
    {
      "cell_type": "code",
      "execution_count": null,
      "metadata": {
        "id": "jU5-fwkyuZ35",
        "colab": {
          "base_uri": "https://localhost:8080/",
          "height": 916
        },
        "outputId": "4ad1ff96-37bc-4407-8e51-e17158861df8"
      },
      "outputs": [
        {
          "output_type": "stream",
          "name": "stdout",
          "text": [
            "[  0   1   2   3   4   5   6   7   8   9  10  11  12  13  14  15  16  17\n",
            "  18  19  20  21  22  23  24  25  26  27  28  29  30  31  32  33  34  35\n",
            "  36  37  38  39  40  41  42  43  44  45  46  47  48  49  50  51  52  53\n",
            "  54  55  56  57  58  59  60  61  62  63  64  65  66  67  68  69  70  71\n",
            "  72  73  74  75  76  77  78  79  80  81  82  83  84  85  86  87  88  89\n",
            "  90  91  92  93  94  95  96  97  98  99 100 101 102 103 104 105 106 107\n",
            " 108 109 110 111 112 113 114 115 116 117 118 119 120 121 122 123 124 125\n",
            " 126 127 128 129 130 131 132 133 134 135 136 137 138 139 140 141 142 143\n",
            " 144 145 146 147 148 149 150 151 152 153 154 155 156 157 158 159 160 161\n",
            " 162 163 164 165 166 167 168 169 170 171 172 173 174 175 176 177 178 179\n",
            " 180 181 182 183 184 185 186 187 188 189 190 191 192 193 194 195 196 197\n",
            " 198 199 200 201 202 203 204 205 206 207 208 209 210 211 212 213 214 215\n",
            " 216 217 218 219 220 221 222 223 224 225 226 227 228 229 230 231 232 233\n",
            " 234 235 236 237 238 239 240 241 242 243 244 245 246 247 248 249 250 251\n",
            " 252 253 254 255 256 257 258 259 260 261 262 263 264 265 266 267 268 269\n",
            " 270 271 272 273 274 275 276 277 278 279 280 281 282 283 284 285 286 287\n",
            " 288 289 290 291 292 293 294 295 296 297 298 299 300 301 302 303 304 305\n",
            " 306 307 308 309 310 311 312 313 314 315 316 317 318 319 320 321 322 323\n",
            " 324 325 326 327 328 329 330 331 332 333 334 335 336 337 338 339 340 341\n",
            " 342 343 344 345 346 347 348 349 350 351 352 353 354 355 356 357 358 359\n",
            " 360 361 362 363 364 365 366 367 368 369 370 371 372 373 374 375 376 377\n",
            " 378 379 380 381 382 383 384 385 386 387 388 389 390 391 392 393 394 395\n",
            " 396 397 398 399 400 401 402 403 404 405 406 407 408 409 410 411 412 413\n",
            " 414 415 416 417 418 419 420 421 422 423 424 425 426 427 428 429 430 431\n",
            " 432 433 434 435 436 437 438 439 440 441 442 443 444 445 446 447 448 449\n",
            " 450 451 452 453 454 455 456 457 458 459 460 461 462 463 464 465 466 467\n",
            " 468 469 470 471 472 473 474 475 476 477 478 479 480 481 482 483 484 485\n",
            " 486 487 488 489 490 491 492 493 494 495 496 497 498 499 500]\n"
          ]
        },
        {
          "output_type": "display_data",
          "data": {
            "text/plain": [
              "<Figure size 640x480 with 1 Axes>"
            ],
            "image/png": "[encoded data removed]"
          },
          "metadata": {}
        }
      ],
      "source": [
        "import matplotlib.pyplot as plt\n",
        "### Create a time matrix that evenly samples a sine wave at a frequency of 1Hz\n",
        "### Starting at time step T = 0\n",
        "### End at time step T = 500\n",
        "time = np.arange(0,501)\n",
        "print(time)\n",
        "\n",
        "### Given wavelength of\n",
        "wavelength = 500\n",
        "\n",
        "### Construct a sin wave using the formula sin(2*pi*(time/wavelength))\n",
        "y = np.sin(2*np.pi*(time/wavelength))\n",
        "\n",
        "#### Plot the wave\n",
        "plt.plot(time, y)\n",
        "plt.show()"
      ]
    },
    {
      "cell_type": "code",
      "execution_count": null,
      "metadata": {
        "id": "bJn8tudh5jL8",
        "colab": {
          "base_uri": "https://localhost:8080/",
          "height": 487
        },
        "outputId": "4033a781-7f8b-45ce-8a7c-775555f8ee3b"
      },
      "outputs": [
        {
          "output_type": "stream",
          "name": "stdout",
          "text": [
            "(501, 501)\n",
            "\n",
            "(501, 501)\n"
          ]
        },
        {
          "output_type": "display_data",
          "data": {
            "text/plain": [
              "<Figure size 640x480 with 1 Axes>"
            ],
            "image/png": "[encoded data removed]"
          },
          "metadata": {}
        }
      ],
      "source": [
        "#### Given a 2D mesh grid\n",
        "X, Y = np.meshgrid(time, time)\n",
        "print(X.shape)\n",
        "print(\"\")\n",
        "print(Y.shape)\n",
        "\n",
        "#### wavelength and angle of rotation(phi) of the sin wave in 2d. Imagine a 2D sine wave is being rotating about the Z axes\n",
        "wavelength = 200\n",
        "phi = np.pi / 3\n",
        "\n",
        "#### Calculate the sin wave in 2d space using the formula sin(2*pi*(x'/wavelength)) where x'=Xcos(phi) + Ysin(phi)\n",
        "\n",
        "grating = np.sin(2*np.pi*((X*np.cos(phi) + Y*np.sin(phi))/wavelength))\n",
        "\n",
        "#### Plot the wave\n",
        "#### Intuition, think of the white area as hills and the black areas as valleys\n",
        "plt.set_cmap(\"gray\")\n",
        "plt.imshow(grating)\n",
        "plt.show()"
      ]
    },
    {
      "cell_type": "markdown",
      "metadata": {
        "id": "laDacTVv96_z"
      },
      "source": [
        "#### Q4 Car Brands"
      ]
    },
    {
      "cell_type": "code",
      "execution_count": null,
      "metadata": {
        "id": "-pBauPLI9fRn",
        "colab": {
          "base_uri": "https://localhost:8080/"
        },
        "outputId": "02dc9d0b-c811-4f03-9531-68f54af27fbf"
      },
      "outputs": [
        {
          "output_type": "stream",
          "name": "stdout",
          "text": [
            "['Civic' 'Insight' 'Fit' 'Accord' 'Ridgeline' 'Avancier' 'Pilot' 'Legend'\n",
            " 'Beat' 'FR-V' 'HR-V' 'Shuttle']\n",
            "\n",
            "[[['Civic' 'Insight']\n",
            "  ['Fit' 'Accord']\n",
            "  ['Ridgeline' 'Avancier']]\n",
            "\n",
            " [['Pilot' 'Legend']\n",
            "  ['Beat' 'FR-V']\n",
            "  ['HR-V' 'Shuttle']]]\n",
            "=========================\n",
            "\n",
            "Top Layer \n",
            "  [['Civic' 'Insight']\n",
            " ['Fit' 'Accord']\n",
            " ['Ridgeline' 'Avancier']] \n",
            "Bottom Layer\n",
            " [['Pilot' 'Legend']\n",
            " ['Beat' 'FR-V']\n",
            " ['HR-V' 'Shuttle']]\n",
            "\n",
            "Top Flattened :  ['Civic' 'Insight' 'Fit' 'Accord' 'Ridgeline' 'Avancier'] \n",
            "Bottom Flattened :  ['Pilot' 'Legend' 'Beat' 'FR-V' 'HR-V' 'Shuttle']\n",
            "\n",
            "['Civic' 'Pilot' 'Fit' 'Beat' 'Ridgeline' 'HR-V' 'Insight' 'Legend'\n",
            " 'Accord' 'FR-V' 'Avancier' 'Shuttle']\n",
            "\n",
            "['Civic' 'Insight' 'Pilot' 'Legend' 'Fit' 'Accord' 'Beat' 'FR-V'\n",
            " 'Ridgeline' 'Avancier' 'HR-V' 'Shuttle']\n",
            "\n",
            "\n",
            "Interwoven -  ['Civic' 'Pilot' 'Fit' 'Beat' 'Ridgeline' 'HR-V' 'Insight' 'Legend'\n",
            " 'Accord' 'FR-V' 'Avancier' 'Shuttle'] \n",
            "Concatenate and flatten -  ['Civic' 'Insight' 'Pilot' 'Legend' 'Fit' 'Accord' 'Beat' 'FR-V'\n",
            " 'Ridgeline' 'Avancier' 'HR-V' 'Shuttle']\n"
          ]
        }
      ],
      "source": [
        "cars = ['Civic', 'Insight', 'Fit', 'Accord', 'Ridgeline', 'Avancier','Pilot', 'Legend', 'Beat', 'FR-V', 'HR-V', 'Shuttle']\n",
        "\n",
        "#### Create a 3D array of cars of shape 2,3,2\n",
        "#### reference for dimensions https://towardsdatascience.com/a-visual-guide-to-multidimensional-numpy-array-aggregation-97a8960b3c59\n",
        "\n",
        "carsArr = np.array(cars)\n",
        "print(carsArr)\n",
        "print(\"\")\n",
        "cars_3d = carsArr.reshape(2,3,2)\n",
        "print(cars_3d)\n",
        "print(\"=========================\")\n",
        "\n",
        "#### Extract the top layer of the matrix. Top layer of a matrix A of shape(2,3,2) will have the following structue\n",
        "#### A_top = [[A[0,0,0], A[0,0,1]],[A[0,1,0],A[0,1,1]],[A[0,2,0],A[0,2,1]]]\n",
        "#### HINT - Array slicing or splitting\n",
        "cars_top_layer = cars_3d[0]\n",
        "# print(\"Top Layer\")\n",
        "# print(cars_top_layer)\n",
        "# print(\"\")\n",
        "\n",
        "#### Similarly extract the bottom layer\n",
        "#### HINT - Array slicing or splitting\n",
        "cars_bottom_layer = cars_3d[1]\n",
        "# print(\"Bottom Layer\")\n",
        "# print(cars_bottom_layer)\n",
        "\n",
        "#### Print layers\n",
        "print(\"\\nTop Layer \\n \",cars_top_layer,\"\\nBottom Layer\\n\", cars_bottom_layer)\n",
        "\n",
        "#### Flatten the top layer\n",
        "cars_top_flat = cars_top_layer.flatten()\n",
        "#### Flatten the bottom layer\n",
        "cars_bottom_flat = cars_bottom_layer.flatten()\n",
        "\n",
        "#### Print layers\n",
        "print(\"\\nTop Flattened : \",cars_top_flat,\"\\nBottom Flattened : \",cars_bottom_flat)\n",
        "\n",
        "new_car_list = np.empty((cars_top_layer.size + cars_bottom_layer.size,), dtype=object)\n",
        "print(\"\")\n",
        "#print(new_car_list)\n",
        "\n",
        "#### Interweave the to flattened lists and insert into new_car_list such that\n",
        "#### new_car_list=['Civic' 'Pilot' 'Fit' 'Beat' 'Ridgeline' 'HR-V' 'Insight' 'Legend' 'Accord' 'FR-V' 'Avancier' 'Shuttle']\n",
        "#### Using only array slicing\n",
        "new_car_list[0::2] = np.hstack((cars_top_flat[0::2],cars_top_flat[1::2]))\n",
        "new_car_list[1::2] = np.hstack((cars_bottom_flat[0::2],cars_bottom_flat[1::2]))\n",
        "\n",
        "#print(['Civic','Pilot','Fit', 'Beat', 'Ridgeline', 'HR-V', 'Insight', 'Legend', 'Accord', 'FR-V', 'Avancier', 'Shuttle'])\n",
        "print(new_car_list)\n",
        "\n",
        "#### Concatenate and flatten the top and bottom layer such that the final list is of the form\n",
        "#### cat_flat = ['Civic' 'Insight' 'Pilot' 'Legend' 'Fit' 'Accord' 'Beat' 'FR-V' 'Ridgeline' 'Avancier' 'HR-V' 'Shuttle']\n",
        "\n",
        "cat_flat = np.concatenate((cars_top_layer,cars_bottom_layer),axis=1).flatten()\n",
        "print(\"\")\n",
        "print(cat_flat)\n",
        "\n",
        "#### Print layers\n",
        "print(\"\\n\\nInterwoven - \",new_car_list,\"\\nConcatenate and flatten - \", cat_flat)"
      ]
    },
    {
      "cell_type": "code",
      "source": [
        "# new_car_list=['Civic' 'Pilot' 'Fit' 'Beat' 'Ridgeline' 'HR-V' 'Insight' 'Legend' 'Accord' 'FR-V' 'Avancier' 'Shuttle']\n",
        "# cat_flat = ['Civic' 'Insight' 'Pilot' 'Legend' 'Fit' 'Accord' 'Beat' 'FR-V' 'Ridgeline' 'Avancier' 'HR-V' 'Shuttle']"
      ],
      "metadata": {
        "id": "3CeKgof8uOum"
      },
      "execution_count": null,
      "outputs": []
    },
    {
      "cell_type": "markdown",
      "metadata": {
        "id": "tNwe-NoOI--l"
      },
      "source": [
        "## 1.0.1 Basics tensorflow"
      ]
    },
    {
      "cell_type": "markdown",
      "metadata": {
        "id": "SDPS9BkZNLwL"
      },
      "source": [
        "#### Helper functions"
      ]
    },
    {
      "cell_type": "code",
      "execution_count": null,
      "metadata": {
        "id": "29xMFUWtIaIT"
      },
      "outputs": [],
      "source": [
        "import tensorflow as tf\n",
        "from keras.utils import to_categorical"
      ]
    },
    {
      "cell_type": "code",
      "execution_count": null,
      "metadata": {
        "id": "M95vh2HNNNOv"
      },
      "outputs": [],
      "source": [
        "def plot_image(i, predictions_array, true_label, img):\n",
        "  true_label, img = true_label[i], img[i].reshape(28,28) # Added reshape(28,28) to de-flatten array\n",
        "  plt.grid(False)\n",
        "  plt.xticks([])\n",
        "  plt.yticks([])\n",
        "\n",
        "  plt.imshow(img, cmap=plt.cm.binary)\n",
        "\n",
        "  predicted_label = np.argmax(predictions_array)\n",
        "  if predicted_label == true_label:\n",
        "    color = 'blue'\n",
        "  else:\n",
        "    color = 'red'\n",
        "\n",
        "def plot_value_array(i, predictions_array, true_label):\n",
        "  true_label = true_label[i]\n",
        "  plt.grid(False)\n",
        "  plt.xticks(range(10))\n",
        "  plt.yticks([])\n",
        "  thisplot = plt.bar(range(10), predictions_array, color=\"#777777\")\n",
        "  plt.ylim([0, 1])\n",
        "  predicted_label = np.argmax(predictions_array)\n",
        "\n",
        "  thisplot[predicted_label].set_color('red')\n",
        "  thisplot[true_label].set_color('blue')"
      ]
    },
    {
      "cell_type": "markdown",
      "metadata": {
        "id": "MDPVHyakJVi0"
      },
      "source": [
        "#### Q1 MNIST Classifier"
      ]
    },
    {
      "cell_type": "code",
      "execution_count": null,
      "metadata": {
        "id": "42zICs6NJIQy",
        "colab": {
          "base_uri": "https://localhost:8080/"
        },
        "outputId": "638684d8-2e7e-4d91-a05b-99c5a393641e"
      },
      "outputs": [
        {
          "output_type": "stream",
          "name": "stdout",
          "text": [
            "Downloading data from https://storage.googleapis.com/tensorflow/tf-keras-datasets/mnist.npz\n",
            "11490434/11490434 [==============================] - 0s 0us/step\n"
          ]
        },
        {
          "output_type": "execute_result",
          "data": {
            "text/plain": [
              "(60000, 28, 28)"
            ]
          },
          "metadata": {},
          "execution_count": 112
        }
      ],
      "source": [
        "## Import the MNIST dataset from keras\n",
        "mnist = tf.keras.datasets.mnist\n",
        "### Load the data\n",
        "(x_train, y_train), (x_test, y_test) = mnist.load_data()\n",
        "\n",
        "### Normalize the 8bit images with values in the range [0,255]\n",
        "#x_train, x_test =\n",
        "x_train.shape\n"
      ]
    },
    {
      "cell_type": "code",
      "source": [
        "notNormalized = 0\n",
        "for i in range(x_train.shape[0]):\n",
        "  if np.max(x_train[i]) > 255:\n",
        "    notNormalized += 1\n",
        "\n",
        "print(notNormalized)\n",
        "\n",
        "digit = x_train[0]\n",
        "plt.imshow(digit, cmap=plt.cm.binary)\n",
        "plt.grid(False)\n",
        "plt.xticks([])\n",
        "plt.yticks([])\n",
        "plt.show()"
      ],
      "metadata": {
        "colab": {
          "base_uri": "https://localhost:8080/",
          "height": 423
        },
        "id": "AECO3KQf4E42",
        "outputId": "bd73856b-7ed2-4293-e091-91833f926077"
      },
      "execution_count": null,
      "outputs": [
        {
          "output_type": "stream",
          "name": "stdout",
          "text": [
            "0\n"
          ]
        },
        {
          "output_type": "display_data",
          "data": {
            "text/plain": [
              "<Figure size 640x480 with 1 Axes>"
            ],
            "image/png": "[encoded data removed]"
          },
          "metadata": {}
        }
      ]
    },
    {
      "cell_type": "code",
      "source": [
        "### Normalize the 8bit images with values in the range [0,255]\n",
        "x_train = x_train.reshape((60000,28*28)) # Flattening step\n",
        "x_train = x_train.astype(\"float32\")/255  # Normalization step - Between [0,1]\n",
        "\n",
        "x_test = x_test.reshape((10000,28*28)) # Flattening step\n",
        "x_test = x_test.astype(\"float32\")/255  # Normalization step - Between [0,1]"
      ],
      "metadata": {
        "id": "_rv71pe-bzUL"
      },
      "execution_count": null,
      "outputs": []
    },
    {
      "cell_type": "code",
      "source": [
        "print(x_train.shape)\n",
        "print(x_test.shape)"
      ],
      "metadata": {
        "colab": {
          "base_uri": "https://localhost:8080/"
        },
        "id": "lJIONto7clM7",
        "outputId": "ecc6d015-a781-45d8-950c-d03e2aace7fb"
      },
      "execution_count": null,
      "outputs": [
        {
          "output_type": "stream",
          "name": "stdout",
          "text": [
            "(60000, 784)\n",
            "(10000, 784)\n"
          ]
        }
      ]
    },
    {
      "cell_type": "code",
      "execution_count": null,
      "metadata": {
        "id": "W-PL5IHsJ4u6"
      },
      "outputs": [],
      "source": [
        "## Create a model with the following architecture Flatten -> Dense(128, relu) -> Dense(64,relu) -> outpuLayer(size=10)\n",
        "\n",
        "inputs = tf.keras.Input(shape=(784,))\n",
        "x1 = tf.keras.layers.Dense(128, activation=\"relu\")(inputs)\n",
        "x2 = tf.keras.layers.Dense(128, activation=\"relu\")(x1)\n",
        "outputs = tf.keras.layers.Dense(10)(x2)\n",
        "\n",
        "model = tf.keras.Model(inputs=inputs, outputs=outputs, name=\"mnist_model\")\n",
        "\n",
        "### Complie the model with the adam optimizer and crossentropy loss\n",
        "### HINT - No One hot encoding\n",
        "model.compile(\n",
        "    optimizer = \"Adam\",\n",
        "    loss = \"sparse_categorical_crossentropy\",\n",
        "    metrics=[tf.keras.metrics.SparseCategoricalAccuracy()]\n",
        ")"
      ]
    },
    {
      "cell_type": "code",
      "source": [
        "model.summary()"
      ],
      "metadata": {
        "colab": {
          "base_uri": "https://localhost:8080/"
        },
        "id": "k6JfKgqPl4if",
        "outputId": "d0954115-91da-41b9-8f77-33fb723241bb"
      },
      "execution_count": null,
      "outputs": [
        {
          "output_type": "stream",
          "name": "stdout",
          "text": [
            "Model: \"mnist_model\"\n",
            "_________________________________________________________________\n",
            " Layer (type)                Output Shape              Param #   \n",
            "=================================================================\n",
            " input_1 (InputLayer)        [(None, 784)]             0         \n",
            "                                                                 \n",
            " dense (Dense)               (None, 128)               100480    \n",
            "                                                                 \n",
            " dense_1 (Dense)             (None, 128)               16512     \n",
            "                                                                 \n",
            " dense_2 (Dense)             (None, 10)                1290      \n",
            "                                                                 \n",
            "=================================================================\n",
            "Total params: 118282 (462.04 KB)\n",
            "Trainable params: 118282 (462.04 KB)\n",
            "Non-trainable params: 0 (0.00 Byte)\n",
            "_________________________________________________________________\n"
          ]
        }
      ]
    },
    {
      "cell_type": "code",
      "execution_count": null,
      "metadata": {
        "id": "8OGSLuqfKdHY",
        "colab": {
          "base_uri": "https://localhost:8080/"
        },
        "outputId": "6b254280-ae21-43cb-b3c0-996e7d923a6e"
      },
      "outputs": [
        {
          "output_type": "stream",
          "name": "stdout",
          "text": [
            "Epoch 1/5\n",
            "1875/1875 [==============================] - 11s 5ms/step - loss: 2.3066 - sparse_categorical_accuracy: 0.3121\n",
            "Epoch 2/5\n",
            "1875/1875 [==============================] - 9s 5ms/step - loss: 2.2774 - sparse_categorical_accuracy: 0.2283\n",
            "Epoch 3/5\n",
            "1875/1875 [==============================] - 9s 5ms/step - loss: 2.3023 - sparse_categorical_accuracy: 0.1568\n",
            "Epoch 4/5\n",
            "1875/1875 [==============================] - 12s 6ms/step - loss: 2.3021 - sparse_categorical_accuracy: 0.1273\n",
            "Epoch 5/5\n",
            "1875/1875 [==============================] - 14s 7ms/step - loss: 2.3026 - sparse_categorical_accuracy: 0.1004\n"
          ]
        },
        {
          "output_type": "execute_result",
          "data": {
            "text/plain": [
              "<keras.src.callbacks.History at 0x7888a0188820>"
            ]
          },
          "metadata": {},
          "execution_count": 118
        }
      ],
      "source": [
        "### Train the model on the train data for 5 epochs\n",
        "model.fit(x_train, y_train,epochs=5)"
      ]
    },
    {
      "cell_type": "code",
      "execution_count": null,
      "metadata": {
        "id": "SggUHdYkMFa7",
        "colab": {
          "base_uri": "https://localhost:8080/"
        },
        "outputId": "7efc84c8-805f-4862-e7c0-3b76909b816b"
      },
      "outputs": [
        {
          "output_type": "stream",
          "name": "stdout",
          "text": [
            "313/313 - 1s - loss: 2.3026 - sparse_categorical_accuracy: 0.1040 - 986ms/epoch - 3ms/step\n",
            "\n",
            "Test accuracy: 0.10400000214576721\n"
          ]
        }
      ],
      "source": [
        "### Check the accuracy of the trained model\n",
        "test_scores = model.evaluate(x_test,  y_test, verbose=2)\n",
        "#print(test_scores)\n",
        "test_loss = test_scores[0]\n",
        "test_acc = test_scores[1]\n",
        "print('\\nTest accuracy:', test_acc)"
      ]
    },
    {
      "cell_type": "code",
      "source": [
        "### Convert the above model to a probabilistic model with a softmax as the output layer\n",
        "\n",
        "inputs = tf.keras.Input(shape=(784,))\n",
        "x1 = tf.keras.layers.Dense(128, activation=\"relu\")(inputs)\n",
        "x2 = tf.keras.layers.Dense(128, activation=\"relu\")(x1)\n",
        "outputs = tf.keras.layers.Dense(10,activation=\"softmax\")(x2)\n",
        "\n",
        "probability_model = tf.keras.Model(inputs=inputs, outputs=outputs, name=\"mnist_model_probabilistic\")\n",
        "\n",
        "### Complie the model with the adam optimizer and crossentropy loss\n",
        "\n",
        "probability_model.compile(\n",
        "    optimizer = \"Adam\",\n",
        "    loss = \"sparse_categorical_crossentropy\",\n",
        "    metrics=[tf.keras.metrics.SparseCategoricalAccuracy()]\n",
        ")\n",
        "\n",
        "probability_model.summary()"
      ],
      "metadata": {
        "colab": {
          "base_uri": "https://localhost:8080/"
        },
        "id": "zNSMDxlft-pe",
        "outputId": "f69d0d7c-ffa4-46f4-b798-122618c7cf20"
      },
      "execution_count": null,
      "outputs": [
        {
          "output_type": "stream",
          "name": "stdout",
          "text": [
            "Model: \"mnist_model_probabilistic\"\n",
            "_________________________________________________________________\n",
            " Layer (type)                Output Shape              Param #   \n",
            "=================================================================\n",
            " input_2 (InputLayer)        [(None, 784)]             0         \n",
            "                                                                 \n",
            " dense_3 (Dense)             (None, 128)               100480    \n",
            "                                                                 \n",
            " dense_4 (Dense)             (None, 128)               16512     \n",
            "                                                                 \n",
            " dense_5 (Dense)             (None, 10)                1290      \n",
            "                                                                 \n",
            "=================================================================\n",
            "Total params: 118282 (462.04 KB)\n",
            "Trainable params: 118282 (462.04 KB)\n",
            "Non-trainable params: 0 (0.00 Byte)\n",
            "_________________________________________________________________\n"
          ]
        }
      ]
    },
    {
      "cell_type": "code",
      "source": [
        "probability_model.fit(x_train, y_train,epochs=5)"
      ],
      "metadata": {
        "colab": {
          "base_uri": "https://localhost:8080/"
        },
        "id": "Son1k5DZuP7P",
        "outputId": "cff4fc94-354d-4bda-9fb4-82a100d8a8fc"
      },
      "execution_count": null,
      "outputs": [
        {
          "output_type": "stream",
          "name": "stdout",
          "text": [
            "Epoch 1/5\n",
            "1875/1875 [==============================] - 14s 7ms/step - loss: 0.2310 - sparse_categorical_accuracy: 0.9326\n",
            "Epoch 2/5\n",
            "1875/1875 [==============================] - 13s 7ms/step - loss: 0.0988 - sparse_categorical_accuracy: 0.9691\n",
            "Epoch 3/5\n",
            "1875/1875 [==============================] - 11s 6ms/step - loss: 0.0691 - sparse_categorical_accuracy: 0.9781\n",
            "Epoch 4/5\n",
            "1875/1875 [==============================] - 10s 5ms/step - loss: 0.0530 - sparse_categorical_accuracy: 0.9834\n",
            "Epoch 5/5\n",
            "1875/1875 [==============================] - 15s 8ms/step - loss: 0.0428 - sparse_categorical_accuracy: 0.9864\n"
          ]
        },
        {
          "output_type": "execute_result",
          "data": {
            "text/plain": [
              "<keras.src.callbacks.History at 0x78889efe3610>"
            ]
          },
          "metadata": {},
          "execution_count": 121
        }
      ]
    },
    {
      "cell_type": "code",
      "source": [
        "### Check the accuracy of the trained model\n",
        "test_scores_prob = probability_model.evaluate(x_test,  y_test, verbose=2)\n",
        "#print(test_scores)\n",
        "test_loss_prob = test_scores_prob[0]\n",
        "test_acc_prob = test_scores_prob[1]\n",
        "print('\\nTest accuracy:', test_acc_prob)"
      ],
      "metadata": {
        "colab": {
          "base_uri": "https://localhost:8080/"
        },
        "id": "_cvDdbo-uS9X",
        "outputId": "329ff1b4-6282-4eef-eaee-2f947affde23"
      },
      "execution_count": null,
      "outputs": [
        {
          "output_type": "stream",
          "name": "stdout",
          "text": [
            "313/313 - 1s - loss: 0.0770 - sparse_categorical_accuracy: 0.9769 - 850ms/epoch - 3ms/step\n",
            "\n",
            "Test accuracy: 0.9768999814987183\n"
          ]
        }
      ]
    },
    {
      "cell_type": "code",
      "execution_count": null,
      "metadata": {
        "id": "Kitvyb3bMh4O",
        "colab": {
          "base_uri": "https://localhost:8080/",
          "height": 308
        },
        "outputId": "a9436bac-4aaf-4ec1-98fd-debeb1ba383d"
      },
      "outputs": [
        {
          "output_type": "stream",
          "name": "stdout",
          "text": [
            "313/313 [==============================] - 1s 4ms/step\n"
          ]
        },
        {
          "output_type": "display_data",
          "data": {
            "text/plain": [
              "<Figure size 600x300 with 2 Axes>"
            ],
            "image/png": "[encoded data removed]"
          },
          "metadata": {}
        }
      ],
      "source": [
        "### Run the test data through the new model and get predictions\n",
        "predictions = probability_model.predict(x_test)\n",
        "\n",
        "### Plot a test output\n",
        "rand = np.random.randint(0, x_test.shape[0])\n",
        "i = rand ### <---- Change this to some random number to see different predictions\n",
        "plt.figure(figsize=(6,3))\n",
        "plt.subplot(1,2,1)\n",
        "plot_image(i, predictions[i], y_test, x_test)\n",
        "plt.subplot(1,2,2)\n",
        "plot_value_array(i, predictions[i],  y_test)\n",
        "plt.show()\n",
        "### Blue bars mean correct guess red bar means wrong guess!!"
      ]
    },
    {
      "cell_type": "code",
      "source": [
        "print(rand)\n",
        "print(y_test[rand])\n",
        "print(np.max(predictions[rand]))\n",
        "predictions[rand]"
      ],
      "metadata": {
        "colab": {
          "base_uri": "https://localhost:8080/"
        },
        "id": "_0JKyhUPxEyn",
        "outputId": "dc2382ab-517a-41cf-ba84-9f4542fb7f35"
      },
      "execution_count": null,
      "outputs": [
        {
          "output_type": "stream",
          "name": "stdout",
          "text": [
            "6864\n",
            "8\n",
            "0.9932972\n"
          ]
        },
        {
          "output_type": "execute_result",
          "data": {
            "text/plain": [
              "array([1.3056831e-06, 5.0190511e-08, 3.0854542e-05, 6.6685262e-03,\n",
              "       8.4242480e-09, 3.2322575e-07, 1.1318045e-08, 3.4388603e-07,\n",
              "       9.9329722e-01, 1.2827926e-06], dtype=float32)"
            ]
          },
          "metadata": {},
          "execution_count": 124
        }
      ]
    },
    {
      "cell_type": "code",
      "source": [
        "y_test[rand]"
      ],
      "metadata": {
        "colab": {
          "base_uri": "https://localhost:8080/"
        },
        "id": "sR8YZaawFhhb",
        "outputId": "59ba4edf-8a23-4914-a870-e0a0eed45c6d"
      },
      "execution_count": null,
      "outputs": [
        {
          "output_type": "execute_result",
          "data": {
            "text/plain": [
              "8"
            ]
          },
          "metadata": {},
          "execution_count": 125
        }
      ]
    },
    {
      "cell_type": "markdown",
      "source": [
        "## 1.0.2 Basic Pytorch Tutorial\n"
      ],
      "metadata": {
        "id": "zhNXjiQtnNx3"
      }
    },
    {
      "cell_type": "code",
      "source": [
        "import torch\n",
        "import torch.nn as nn\n",
        "import torch.optim as optim\n",
        "import torchvision\n",
        "import torchvision.transforms as transforms\n",
        "\n",
        "# Set the random seed for reproducibility\n",
        "torch.manual_seed(42)\n",
        "\n",
        "# Define a simple feedforward neural network\n",
        "class Net(nn.Module):\n",
        "    def __init__(self):\n",
        "        super(Net, self).__init__()\n",
        "        self.fc1 = nn.Linear(784, 128)  # 28x28 input size (MNIST images are 28x28 pixels)\n",
        "        self.relu = nn.ReLU()\n",
        "        self.fc2 = nn.Linear(128, 10)   # 10 output classes (digits 0-9)\n",
        "\n",
        "    def forward(self, x):\n",
        "        x = x.view(-1, 784)  # Flatten the input image\n",
        "        x = self.fc1(x)\n",
        "        x = self.relu(x)\n",
        "        x = self.fc2(x)\n",
        "        return x\n",
        "\n",
        "# Load the MNIST dataset and apply transformations\n",
        "transform = transforms.Compose([transforms.ToTensor(), transforms.Normalize((0.5,), (0.5,))])\n",
        "\n",
        "trainset = torchvision.datasets.MNIST(root='./data', train=True, download=True, transform=transform)\n",
        "trainloader = torch.utils.data.DataLoader(trainset, batch_size=64, shuffle=True)\n",
        "\n",
        "testset = torchvision.datasets.MNIST(root='./data', train=False, download=True, transform=transform)\n",
        "testloader = torch.utils.data.DataLoader(testset, batch_size=64, shuffle=False)\n",
        "\n",
        "# Initialize the neural network and optimizer\n",
        "net = Net()\n",
        "criterion = nn.CrossEntropyLoss()\n",
        "optimizer = optim.SGD(net.parameters(), lr=0.01)\n",
        "\n",
        "# Training loop\n",
        "num_epochs = 10\n",
        "for epoch in range(num_epochs):\n",
        "    running_loss = 0.0\n",
        "    for i, data in enumerate(trainloader, 0):\n",
        "        inputs, labels = data\n",
        "\n",
        "        optimizer.zero_grad()\n",
        "\n",
        "        outputs = net(inputs)\n",
        "        loss = criterion(outputs, labels)\n",
        "        loss.backward()\n",
        "        optimizer.step()\n",
        "\n",
        "        running_loss += loss.item()\n",
        "\n",
        "    print(f'Epoch {epoch+1}, Loss: {running_loss / len(trainloader)}')\n",
        "\n",
        "print('Finished Training')\n",
        "\n",
        "# Evaluate the model on the test set\n",
        "correct = 0\n",
        "total = 0\n",
        "with torch.no_grad():\n",
        "    for data in testloader:\n",
        "        images, labels = data\n",
        "        outputs = net(images)\n",
        "        _, predicted = torch.max(outputs.data, 1)\n",
        "        total += labels.size(0)\n",
        "        correct += (predicted == labels).sum().item()\n",
        "\n",
        "print(f'Accuracy on test set: {100 * correct / total}%')\n"
      ],
      "metadata": {
        "id": "Lwv29fkWnNi2",
        "colab": {
          "base_uri": "https://localhost:8080/"
        },
        "outputId": "bb6428c1-ad54-4608-ef40-27289dd6b578"
      },
      "execution_count": null,
      "outputs": [
        {
          "output_type": "stream",
          "name": "stdout",
          "text": [
            "Downloading http://yann.lecun.com/exdb/mnist/train-images-idx3-ubyte.gz\n",
            "Downloading http://yann.lecun.com/exdb/mnist/train-images-idx3-ubyte.gz to ./data/MNIST/raw/train-images-idx3-ubyte.gz\n"
          ]
        },
        {
          "output_type": "stream",
          "name": "stderr",
          "text": [
            "100%|██████████| 9912422/9912422 [00:00<00:00, 172640118.45it/s]"
          ]
        },
        {
          "output_type": "stream",
          "name": "stdout",
          "text": [
            "Extracting ./data/MNIST/raw/train-images-idx3-ubyte.gz to ./data/MNIST/raw\n"
          ]
        },
        {
          "output_type": "stream",
          "name": "stderr",
          "text": [
            "\n"
          ]
        },
        {
          "output_type": "stream",
          "name": "stdout",
          "text": [
            "\n",
            "Downloading http://yann.lecun.com/exdb/mnist/train-labels-idx1-ubyte.gz\n",
            "Downloading http://yann.lecun.com/exdb/mnist/train-labels-idx1-ubyte.gz to ./data/MNIST/raw/train-labels-idx1-ubyte.gz\n"
          ]
        },
        {
          "output_type": "stream",
          "name": "stderr",
          "text": [
            "100%|██████████| 28881/28881 [00:00<00:00, 27233744.12it/s]\n"
          ]
        },
        {
          "output_type": "stream",
          "name": "stdout",
          "text": [
            "Extracting ./data/MNIST/raw/train-labels-idx1-ubyte.gz to ./data/MNIST/raw\n",
            "\n",
            "Downloading http://yann.lecun.com/exdb/mnist/t10k-images-idx3-ubyte.gz\n",
            "Downloading http://yann.lecun.com/exdb/mnist/t10k-images-idx3-ubyte.gz to ./data/MNIST/raw/t10k-images-idx3-ubyte.gz\n"
          ]
        },
        {
          "output_type": "stream",
          "name": "stderr",
          "text": [
            "100%|██████████| 1648877/1648877 [00:00<00:00, 36435672.31it/s]\n"
          ]
        },
        {
          "output_type": "stream",
          "name": "stdout",
          "text": [
            "Extracting ./data/MNIST/raw/t10k-images-idx3-ubyte.gz to ./data/MNIST/raw\n",
            "\n",
            "Downloading http://yann.lecun.com/exdb/mnist/t10k-labels-idx1-ubyte.gz\n",
            "Downloading http://yann.lecun.com/exdb/mnist/t10k-labels-idx1-ubyte.gz to ./data/MNIST/raw/t10k-labels-idx1-ubyte.gz\n"
          ]
        },
        {
          "output_type": "stream",
          "name": "stderr",
          "text": [
            "100%|██████████| 4542/4542 [00:00<00:00, 9297476.22it/s]\n"
          ]
        },
        {
          "output_type": "stream",
          "name": "stdout",
          "text": [
            "Extracting ./data/MNIST/raw/t10k-labels-idx1-ubyte.gz to ./data/MNIST/raw\n",
            "\n",
            "Epoch 1, Loss: 0.7497771851766084\n",
            "Epoch 2, Loss: 0.3669367114395729\n",
            "Epoch 3, Loss: 0.3210167052077332\n",
            "Epoch 4, Loss: 0.29383885016096933\n",
            "Epoch 5, Loss: 0.2732162083000707\n",
            "Epoch 6, Loss: 0.2538067396285374\n",
            "Epoch 7, Loss: 0.23667215858139337\n",
            "Epoch 8, Loss: 0.22128436360945072\n",
            "Epoch 9, Loss: 0.20731170845629054\n",
            "Epoch 10, Loss: 0.1948725388272167\n",
            "Finished Training\n",
            "Accuracy on test set: 94.49%\n"
          ]
        }
      ]
    },
    {
      "cell_type": "markdown",
      "metadata": {
        "id": "IgMqXLIv7Tkr"
      },
      "source": [
        "# 2.0 **Homework 2**\n",
        "90 points\n",
        "\n",
        "*Note : This section will be graded*\n",
        "\n",
        "You can choose to attempt either of the two sections. Please choose only one section to work with as only one section will be graded and points will not be transfered across sections."
      ]
    },
    {
      "cell_type": "markdown",
      "source": [
        "## Section 1: CMAC Implementation\n",
        "\n"
      ],
      "metadata": {
        "id": "YOG1GEndnf5Y"
      }
    },
    {
      "cell_type": "markdown",
      "metadata": {
        "id": "fd85mOBx8CiJ"
      },
      "source": [
        "1. Program a Discrete CMAC and train it on a 1-D function (ref: Albus 1975, Fig. 5)\n",
        "Explore effect of overlap area on generalization and time to convergence.\n",
        "Use only 35 weights weights for your CMAC, and sample your function at 100\n",
        "evenly spaced points. Use 70 for training and 30 for testing. Report the\n",
        "accuracy of your CMAC network using only the 30 test points."
      ]
    },
    {
      "cell_type": "code",
      "execution_count": null,
      "metadata": {
        "id": "TIZRpdR97xwJ"
      },
      "outputs": [],
      "source": [
        "# Write code for Discrete CMAC"
      ]
    },
    {
      "cell_type": "markdown",
      "metadata": {
        "id": "WW48wocl8K1s"
      },
      "source": [
        "2. Program a Continuous CMAC by allowing partial cell overlap, and modifying\n",
        "the weight update rule accordingly. Use only 35 weights weights for your CMAC,\n",
        "and sample your function at 100 evenly spaced points. Use 70 for training and 30\n",
        "for testing. Report the accuracy of your CMAC network using only the 30 test\n",
        "points. Compare the output of the Discrete CMAC with that of the Continuous CMAC."
      ]
    },
    {
      "cell_type": "code",
      "execution_count": null,
      "metadata": {
        "id": "qeX3wFwT8Yyi"
      },
      "outputs": [],
      "source": [
        "# Write code for Continuous CMAC"
      ]
    },
    {
      "cell_type": "markdown",
      "metadata": {
        "id": "d8KA3sqb8c1D"
      },
      "source": [
        "3. Discuss how you might use recurrent connections to train a CMAC to output\n",
        "a desired trajectory without using time as an input (e.g., state only). You may earn\n",
        "up to 5 extra homework points if you implement your idea and show that it\n",
        "works."
      ]
    },
    {
      "cell_type": "code",
      "execution_count": null,
      "metadata": {
        "id": "PDEPlYe98ddw"
      },
      "outputs": [],
      "source": [
        "# Program a Recurrent CMAC"
      ]
    },
    {
      "cell_type": "markdown",
      "source": [
        "## Section 2 : Deep Learning Approach"
      ],
      "metadata": {
        "id": "siIdfSJFnosi"
      }
    },
    {
      "cell_type": "markdown",
      "source": [
        "Time-Series Prediction\n",
        "Time series and sequence prediction could be a really amazing to predict/estimate a robot's trajectory which requires temporal data at hand. In this assignemnt we will see how this could be done using Deep Learning.\n",
        "\n",
        "Given a dataset [link](https://raw.githubusercontent.com/jbrownlee/Datasets/master/airline-passengers.csv) for airline passengers prediction problem. Predict the number of international airline passengers in units of 1,000 given a year and a month.\n",
        "Here is how the data looks like."
      ],
      "metadata": {
        "id": "7s0xWLTGpFv7"
      }
    },
    {
      "cell_type": "code",
      "source": [
        "# ETL Imports\n",
        "import matplotlib.pyplot as plt\n",
        "%matplotlib inline\n",
        "#from matplotlib.dates import strpdate2num, num2date\n",
        "from datetime import datetime\n",
        "import datetime\n",
        "import pandas as pd\n",
        "import numpy as np\n",
        "import math\n",
        "\n",
        "# Pytorch Boilerplate\n",
        "import torch\n",
        "import torch.nn as nn\n",
        "import torch.nn.functional as F\n",
        "import torch.optim as optim\n",
        "torch.set_printoptions(edgeitems=2) # Number of array items in summary at beginning and end of each dimension (default = 3).\n",
        "# Set the random seed for reproducibility\n",
        "torch.manual_seed(42)\n",
        "\n",
        "# Pytorch\n",
        "import torchvision\n",
        "import torchvision.transforms as transforms\n",
        "from torch.utils.data import Dataset, DataLoader # Dataloader Question\n",
        "\n"
      ],
      "metadata": {
        "id": "cwnM-TdYObYU"
      },
      "execution_count": null,
      "outputs": []
    },
    {
      "cell_type": "code",
      "source": [
        "file_url = 'https://raw.githubusercontent.com/jbrownlee/Datasets/master/airline-passengers.csv'\n",
        "#file_name = '/content/airline.csv'\n",
        "\n",
        "# Reading data using pandas or csv\n",
        "df = pd.read_csv(file_url)"
      ],
      "metadata": {
        "id": "L-UQQ7Emn9f8"
      },
      "execution_count": null,
      "outputs": []
    },
    {
      "cell_type": "code",
      "source": [
        "df"
      ],
      "metadata": {
        "colab": {
          "base_uri": "https://localhost:8080/",
          "height": 423
        },
        "id": "RCGEsWQePyvk",
        "outputId": "b10b817e-79f6-40a6-9c03-84d805a8c7db"
      },
      "execution_count": null,
      "outputs": [
        {
          "output_type": "execute_result",
          "data": {
            "text/plain": [
              "       Month  Passengers\n",
              "0    1949-01         112\n",
              "1    1949-02         118\n",
              "2    1949-03         132\n",
              "3    1949-04         129\n",
              "4    1949-05         121\n",
              "..       ...         ...\n",
              "139  1960-08         606\n",
              "140  1960-09         508\n",
              "141  1960-10         461\n",
              "142  1960-11         390\n",
              "143  1960-12         432\n",
              "\n",
              "[144 rows x 2 columns]"
            ],
            "text/html": [
              "\n",
              "  <div id=\"df-dfd57abc-4e24-4287-b555-0ef1d4142968\" class=\"colab-df-container\">\n",
              "    <div>\n",
              "<style scoped>\n",
              "    .dataframe tbody tr th:only-of-type {\n",
              "        vertical-align: middle;\n",
              "    }\n",
              "\n",
              "    .dataframe tbody tr th {\n",
              "        vertical-align: top;\n",
              "    }\n",
              "\n",
              "    .dataframe thead th {\n",
              "        text-align: right;\n",
              "    }\n",
              "</style>\n",
              "<table border=\"1\" class=\"dataframe\">\n",
              "  <thead>\n",
              "    <tr style=\"text-align: right;\">\n",
              "      <th></th>\n",
              "      <th>Month</th>\n",
              "      <th>Passengers</th>\n",
              "    </tr>\n",
              "  </thead>\n",
              "  <tbody>\n",
              "    <tr>\n",
              "      <th>0</th>\n",
              "      <td>1949-01</td>\n",
              "      <td>112</td>\n",
              "    </tr>\n",
              "    <tr>\n",
              "      <th>1</th>\n",
              "      <td>1949-02</td>\n",
              "      <td>118</td>\n",
              "    </tr>\n",
              "    <tr>\n",
              "      <th>2</th>\n",
              "      <td>1949-03</td>\n",
              "      <td>132</td>\n",
              "    </tr>\n",
              "    <tr>\n",
              "      <th>3</th>\n",
              "      <td>1949-04</td>\n",
              "      <td>129</td>\n",
              "    </tr>\n",
              "    <tr>\n",
              "      <th>4</th>\n",
              "      <td>1949-05</td>\n",
              "      <td>121</td>\n",
              "    </tr>\n",
              "    <tr>\n",
              "      <th>...</th>\n",
              "      <td>...</td>\n",
              "      <td>...</td>\n",
              "    </tr>\n",
              "    <tr>\n",
              "      <th>139</th>\n",
              "      <td>1960-08</td>\n",
              "      <td>606</td>\n",
              "    </tr>\n",
              "    <tr>\n",
              "      <th>140</th>\n",
              "      <td>1960-09</td>\n",
              "      <td>508</td>\n",
              "    </tr>\n",
              "    <tr>\n",
              "      <th>141</th>\n",
              "      <td>1960-10</td>\n",
              "      <td>461</td>\n",
              "    </tr>\n",
              "    <tr>\n",
              "      <th>142</th>\n",
              "      <td>1960-11</td>\n",
              "      <td>390</td>\n",
              "    </tr>\n",
              "    <tr>\n",
              "      <th>143</th>\n",
              "      <td>1960-12</td>\n",
              "      <td>432</td>\n",
              "    </tr>\n",
              "  </tbody>\n",
              "</table>\n",
              "<p>144 rows × 2 columns</p>\n",
              "</div>\n",
              "    <div class=\"colab-df-buttons\">\n",
              "\n",
              "  <div class=\"colab-df-container\">\n",
              "    <button class=\"colab-df-convert\" onclick=\"convertToInteractive('df-dfd57abc-4e24-4287-b555-0ef1d4142968')\"\n",
              "            title=\"Convert this dataframe to an interactive table.\"\n",
              "            style=\"display:none;\">\n",
              "\n",
              "  <svg xmlns=\"http://www.w3.org/2000/svg\" height=\"24px\" viewBox=\"0 -960 960 960\">\n",
              "    <path d=\"M120-120v-720h720v720H120Zm60-500h600v-160H180v160Zm220 220h160v-160H400v160Zm0 220h160v-160H400v160ZM180-400h160v-160H180v160Zm440 0h160v-160H620v160ZM180-180h160v-160H180v160Zm440 0h160v-160H620v160Z\"/>\n",
              "  </svg>\n",
              "    </button>\n",
              "\n",
              "  <style>\n",
              "    .colab-df-container {\n",
              "      display:flex;\n",
              "      gap: 12px;\n",
              "    }\n",
              "\n",
              "    .colab-df-convert {\n",
              "      background-color: #E8F0FE;\n",
              "      border: none;\n",
              "      border-radius: 50%;\n",
              "      cursor: pointer;\n",
              "      display: none;\n",
              "      fill: #1967D2;\n",
              "      height: 32px;\n",
              "      padding: 0 0 0 0;\n",
              "      width: 32px;\n",
              "    }\n",
              "\n",
              "    .colab-df-convert:hover {\n",
              "      background-color: #E2EBFA;\n",
              "      box-shadow: 0px 1px 2px rgba(60, 64, 67, 0.3), 0px 1px 3px 1px rgba(60, 64, 67, 0.15);\n",
              "      fill: #174EA6;\n",
              "    }\n",
              "\n",
              "    .colab-df-buttons div {\n",
              "      margin-bottom: 4px;\n",
              "    }\n",
              "\n",
              "    [theme=dark] .colab-df-convert {\n",
              "      background-color: #3B4455;\n",
              "      fill: #D2E3FC;\n",
              "    }\n",
              "\n",
              "    [theme=dark] .colab-df-convert:hover {\n",
              "      background-color: #434B5C;\n",
              "      box-shadow: 0px 1px 3px 1px rgba(0, 0, 0, 0.15);\n",
              "      filter: drop-shadow(0px 1px 2px rgba(0, 0, 0, 0.3));\n",
              "      fill: #FFFFFF;\n",
              "    }\n",
              "  </style>\n",
              "\n",
              "    <script>\n",
              "      const buttonEl =\n",
              "        document.querySelector('#df-dfd57abc-4e24-4287-b555-0ef1d4142968 button.colab-df-convert');\n",
              "      buttonEl.style.display =\n",
              "        google.colab.kernel.accessAllowed ? 'block' : 'none';\n",
              "\n",
              "      async function convertToInteractive(key) {\n",
              "        const element = document.querySelector('#df-dfd57abc-4e24-4287-b555-0ef1d4142968');\n",
              "        const dataTable =\n",
              "          await google.colab.kernel.invokeFunction('convertToInteractive',\n",
              "                                                    [key], {});\n",
              "        if (!dataTable) return;\n",
              "\n",
              "        const docLinkHtml = 'Like what you see? Visit the ' +\n",
              "          '<a target=\"_blank\" href=https://colab.research.google.com/notebooks/data_table.ipynb>data table notebook</a>'\n",
              "          + ' to learn more about interactive tables.';\n",
              "        element.innerHTML = '';\n",
              "        dataTable['output_type'] = 'display_data';\n",
              "        await google.colab.output.renderOutput(dataTable, element);\n",
              "        const docLink = document.createElement('div');\n",
              "        docLink.innerHTML = docLinkHtml;\n",
              "        element.appendChild(docLink);\n",
              "      }\n",
              "    </script>\n",
              "  </div>\n",
              "\n",
              "\n",
              "<div id=\"df-e0463113-8326-4601-be2f-27e40a6b5e5b\">\n",
              "  <button class=\"colab-df-quickchart\" onclick=\"quickchart('df-e0463113-8326-4601-be2f-27e40a6b5e5b')\"\n",
              "            title=\"Suggest charts.\"\n",
              "            style=\"display:none;\">\n",
              "\n",
              "<svg xmlns=\"http://www.w3.org/2000/svg\" height=\"24px\"viewBox=\"0 0 24 24\"\n",
              "     width=\"24px\">\n",
              "    <g>\n",
              "        <path d=\"M19 3H5c-1.1 0-2 .9-2 2v14c0 1.1.9 2 2 2h14c1.1 0 2-.9 2-2V5c0-1.1-.9-2-2-2zM9 17H7v-7h2v7zm4 0h-2V7h2v10zm4 0h-2v-4h2v4z\"/>\n",
              "    </g>\n",
              "</svg>\n",
              "  </button>\n",
              "\n",
              "<style>\n",
              "  .colab-df-quickchart {\n",
              "      --bg-color: #E8F0FE;\n",
              "      --fill-color: #1967D2;\n",
              "      --hover-bg-color: #E2EBFA;\n",
              "      --hover-fill-color: #174EA6;\n",
              "      --disabled-fill-color: #AAA;\n",
              "      --disabled-bg-color: #DDD;\n",
              "  }\n",
              "\n",
              "  [theme=dark] .colab-df-quickchart {\n",
              "      --bg-color: #3B4455;\n",
              "      --fill-color: #D2E3FC;\n",
              "      --hover-bg-color: #434B5C;\n",
              "      --hover-fill-color: #FFFFFF;\n",
              "      --disabled-bg-color: #3B4455;\n",
              "      --disabled-fill-color: #666;\n",
              "  }\n",
              "\n",
              "  .colab-df-quickchart {\n",
              "    background-color: var(--bg-color);\n",
              "    border: none;\n",
              "    border-radius: 50%;\n",
              "    cursor: pointer;\n",
              "    display: none;\n",
              "    fill: var(--fill-color);\n",
              "    height: 32px;\n",
              "    padding: 0;\n",
              "    width: 32px;\n",
              "  }\n",
              "\n",
              "  .colab-df-quickchart:hover {\n",
              "    background-color: var(--hover-bg-color);\n",
              "    box-shadow: 0 1px 2px rgba(60, 64, 67, 0.3), 0 1px 3px 1px rgba(60, 64, 67, 0.15);\n",
              "    fill: var(--button-hover-fill-color);\n",
              "  }\n",
              "\n",
              "  .colab-df-quickchart-complete:disabled,\n",
              "  .colab-df-quickchart-complete:disabled:hover {\n",
              "    background-color: var(--disabled-bg-color);\n",
              "    fill: var(--disabled-fill-color);\n",
              "    box-shadow: none;\n",
              "  }\n",
              "\n",
              "  .colab-df-spinner {\n",
              "    border: 2px solid var(--fill-color);\n",
              "    border-color: transparent;\n",
              "    border-bottom-color: var(--fill-color);\n",
              "    animation:\n",
              "      spin 1s steps(1) infinite;\n",
              "  }\n",
              "\n",
              "  @keyframes spin {\n",
              "    0% {\n",
              "      border-color: transparent;\n",
              "      border-bottom-color: var(--fill-color);\n",
              "      border-left-color: var(--fill-color);\n",
              "    }\n",
              "    20% {\n",
              "      border-color: transparent;\n",
              "      border-left-color: var(--fill-color);\n",
              "      border-top-color: var(--fill-color);\n",
              "    }\n",
              "    30% {\n",
              "      border-color: transparent;\n",
              "      border-left-color: var(--fill-color);\n",
              "      border-top-color: var(--fill-color);\n",
              "      border-right-color: var(--fill-color);\n",
              "    }\n",
              "    40% {\n",
              "      border-color: transparent;\n",
              "      border-right-color: var(--fill-color);\n",
              "      border-top-color: var(--fill-color);\n",
              "    }\n",
              "    60% {\n",
              "      border-color: transparent;\n",
              "      border-right-color: var(--fill-color);\n",
              "    }\n",
              "    80% {\n",
              "      border-color: transparent;\n",
              "      border-right-color: var(--fill-color);\n",
              "      border-bottom-color: var(--fill-color);\n",
              "    }\n",
              "    90% {\n",
              "      border-color: transparent;\n",
              "      border-bottom-color: var(--fill-color);\n",
              "    }\n",
              "  }\n",
              "</style>\n",
              "\n",
              "  <script>\n",
              "    async function quickchart(key) {\n",
              "      const quickchartButtonEl =\n",
              "        document.querySelector('#' + key + ' button');\n",
              "      quickchartButtonEl.disabled = true;  // To prevent multiple clicks.\n",
              "      quickchartButtonEl.classList.add('colab-df-spinner');\n",
              "      try {\n",
              "        const charts = await google.colab.kernel.invokeFunction(\n",
              "            'suggestCharts', [key], {});\n",
              "      } catch (error) {\n",
              "        console.error('Error during call to suggestCharts:', error);\n",
              "      }\n",
              "      quickchartButtonEl.classList.remove('colab-df-spinner');\n",
              "      quickchartButtonEl.classList.add('colab-df-quickchart-complete');\n",
              "    }\n",
              "    (() => {\n",
              "      let quickchartButtonEl =\n",
              "        document.querySelector('#df-e0463113-8326-4601-be2f-27e40a6b5e5b button');\n",
              "      quickchartButtonEl.style.display =\n",
              "        google.colab.kernel.accessAllowed ? 'block' : 'none';\n",
              "    })();\n",
              "  </script>\n",
              "</div>\n",
              "    </div>\n",
              "  </div>\n"
            ]
          },
          "metadata": {},
          "execution_count": 101
        }
      ]
    },
    {
      "cell_type": "code",
      "source": [
        "# plotting the dataset\n",
        "timeseries = df[[\"Passengers\"]].values.astype('float32')\n",
        "# plotting the dataset\n",
        "plt.plot(timeseries)\n",
        "plt.show()"
      ],
      "metadata": {
        "id": "mU3yiwrVpKhd",
        "colab": {
          "base_uri": "https://localhost:8080/",
          "height": 430
        },
        "outputId": "cda1c626-eda5-4c34-e635-0959dad60109"
      },
      "execution_count": null,
      "outputs": [
        {
          "output_type": "display_data",
          "data": {
            "text/plain": [
              "<Figure size 640x480 with 1 Axes>"
            ],
            "image/png": "[encoded data removed]"
          },
          "metadata": {}
        }
      ]
    },
    {
      "cell_type": "markdown",
      "source": [
        "1. Write the dataloader code to pre-process the data for pytorch tensors using any library of your choice. Here is a good resource for the dataloader [Video link](https://www.youtube.com/watch?v=PXOzkkB5eH0)\n"
      ],
      "metadata": {
        "id": "mcj0tuuUpQg0"
      }
    },
    {
      "cell_type": "code",
      "source": [
        "# Defining a function to load the data\n",
        "# Uses pandas instead of np.loadtxt to load and format the dataset\n",
        "def dateDataFormater(url:str):\n",
        "  \"\"\"Input: url with the airline dataset in csv format\n",
        "  Output: a numpy array with the dates in np.datetime64 and np.float32\"\"\"\n",
        "  file_url = 'https://raw.githubusercontent.com/jbrownlee/Datasets/master/airline-passengers.csv'\n",
        "  df = pd.read_csv(url)\n",
        "  for indx in range(len(df[\"Month\"])): # This for-loop adds the end of the month date. This would enable working with date data types (if needed)\n",
        "    currMonth = df.iloc[indx,0][-2:]\n",
        "    if currMonth == \"02\":\n",
        "      df.iloc[indx,0] = df.iloc[indx,0] + \"-28\"\n",
        "    elif currMonth in [\"04\",\"06\",\"09\",\"11\"]:\n",
        "      df.iloc[indx,0] = df.iloc[indx,0] + \"-30\"\n",
        "    else:\n",
        "      df.iloc[indx,0] = df.iloc[indx,0] + \"-31\"\n",
        "    df.iloc[indx,0] = np.datetime64(df.iloc[indx,0]) # to cast into np.datetime64\n",
        "    #df.iloc[indx,0] = datetime.strptime(df.iloc[indx,0],'%Y-%m-%d') # to cast into datetime.datetime\n",
        "  df[[\"Passengers\"]] = df[[\"Passengers\"]].values.astype('float32')\n",
        "  arr = df.to_numpy()\n",
        "  return arr,df"
      ],
      "metadata": {
        "id": "8RRpv0ewjsYS"
      },
      "execution_count": null,
      "outputs": []
    },
    {
      "cell_type": "code",
      "source": [
        "file_url = 'https://raw.githubusercontent.com/jbrownlee/Datasets/master/airline-passengers.csv'"
      ],
      "metadata": {
        "id": "6Z7vFNb-rueU"
      },
      "execution_count": null,
      "outputs": []
    },
    {
      "cell_type": "code",
      "source": [
        "# Write your code here for the dataloader in Pytorch\n",
        "\n",
        "class AirlineDataset(Dataset):\n",
        "\n",
        "  def __init__(self,arTerms):\n",
        "    # data loading\n",
        "\n",
        "    data,df = dateDataFormater(file_url)\n",
        "\n",
        "    arFeatures = [] # See explanation of these features in question 2\n",
        "    vals = df[[\"Passengers\"]].values.astype('float32')\n",
        "    seriesSize = len(vals)\n",
        "    discardThreshold = arTerms # In time series and panel data with autoregressive terms the series needs to be truncated.\n",
        "                               # This is because the oldestd terms in the data have no previous observations. That is,\n",
        "                               # to predict y_0 with 4 AR terms we would need observations [y_{-1} , y_{-2} , y_{-3} , y_{-4}]\n",
        "\n",
        "    for i in range(len(df[[\"Passengers\"]].values.astype('float32'))-arTerms):\n",
        "      feats = vals[i:i+arTerms]\n",
        "      feats = np.flip(feats)\n",
        "      arFeatures.append(np.array(feats,dtype=np.float32))\n",
        "\n",
        "    self.timeIndices = torch.from_numpy(df[[\"Month\"]].values.astype('float32')[discardThreshold:]) # This line converts np.datetime64 to numbers corresponding to the\n",
        "                                                                      # date. This is because pytorch does not support np.datetime64\n",
        "                                                                      # This number only represents the order of the data (it could be a unix timestamp).\n",
        "                                                                      # The order is very important in time series data and it could be a datetime or an\n",
        "                                                                      # ordered series. I used the second option given the limitation of data types.\n",
        "    arrArFeatures = np.array(arFeatures[:])\n",
        "    self.x = torch.from_numpy(arrArFeatures)\n",
        "    self.y = torch.from_numpy(data[discardThreshold:,[1]].astype(dtype=np.float32)) # number of samples = 1\n",
        "    self.n_samples = data.shape[0]-arTerms\n",
        "\n",
        "  def __getitem__(self,index):\n",
        "    # Allows for indexing - dataset[i]\n",
        "    return self.x[index],self.y[index]\n",
        "\n",
        "  def __len__(self):\n",
        "    # len(dataset)\n",
        "    return self.n_samples\n",
        "\n",
        "dataset = AirlineDataset(4)"
      ],
      "metadata": {
        "id": "YgA3HCO8pQ9L"
      },
      "execution_count": null,
      "outputs": []
    },
    {
      "cell_type": "code",
      "source": [
        "# The following lines of code are meant to test the class to crate the dataset."
      ],
      "metadata": {
        "id": "sbNEmWExYM5l"
      },
      "execution_count": null,
      "outputs": []
    },
    {
      "cell_type": "code",
      "source": [
        "### TESTS ###\n",
        "dataset.y[:10]"
      ],
      "metadata": {
        "colab": {
          "base_uri": "https://localhost:8080/"
        },
        "id": "vaIcAvy48llV",
        "outputId": "097d3429-935b-40bf-8561-10a2b195754d"
      },
      "execution_count": null,
      "outputs": [
        {
          "output_type": "execute_result",
          "data": {
            "text/plain": [
              "tensor([[121.],\n",
              "        [135.],\n",
              "        [148.],\n",
              "        [148.],\n",
              "        [136.],\n",
              "        [119.],\n",
              "        [104.],\n",
              "        [118.],\n",
              "        [115.],\n",
              "        [126.]])"
            ]
          },
          "metadata": {},
          "execution_count": 8
        }
      ]
    },
    {
      "cell_type": "code",
      "source": [
        "### TESTS ###\n",
        "dataset.timeIndices[:10]"
      ],
      "metadata": {
        "colab": {
          "base_uri": "https://localhost:8080/"
        },
        "id": "BLbVLVSe7lNF",
        "outputId": "7ec573ba-8684-4675-fca4-d25dfbf0031f"
      },
      "execution_count": null,
      "outputs": [
        {
          "output_type": "execute_result",
          "data": {
            "text/plain": [
              "tensor([[-7520.],\n",
              "        [-7490.],\n",
              "        [-7459.],\n",
              "        [-7428.],\n",
              "        [-7398.],\n",
              "        [-7367.],\n",
              "        [-7337.],\n",
              "        [-7306.],\n",
              "        [-7275.],\n",
              "        [-7247.]])"
            ]
          },
          "metadata": {},
          "execution_count": 9
        }
      ]
    },
    {
      "cell_type": "code",
      "source": [
        "### TESTS ###\n",
        "len(dataset),len(dataset.timeIndices),len(dataset.y),len(dataset.x)"
      ],
      "metadata": {
        "colab": {
          "base_uri": "https://localhost:8080/"
        },
        "id": "9AXbOM0-SXKn",
        "outputId": "43e29c20-f316-4557-a1fb-17bf78936b04"
      },
      "execution_count": null,
      "outputs": [
        {
          "output_type": "execute_result",
          "data": {
            "text/plain": [
              "(140, 140, 140, 140)"
            ]
          },
          "metadata": {},
          "execution_count": 10
        }
      ]
    },
    {
      "cell_type": "code",
      "source": [
        "### TESTS ###\n",
        "dataset[0]"
      ],
      "metadata": {
        "colab": {
          "base_uri": "https://localhost:8080/"
        },
        "id": "Km2hT7BpyJk8",
        "outputId": "5e671abf-42e0-40af-e176-350c5f9094af"
      },
      "execution_count": null,
      "outputs": [
        {
          "output_type": "execute_result",
          "data": {
            "text/plain": [
              "(tensor([[129.],\n",
              "         [132.],\n",
              "         [118.],\n",
              "         [112.]]),\n",
              " tensor([121.]))"
            ]
          },
          "metadata": {},
          "execution_count": 11
        }
      ]
    },
    {
      "cell_type": "code",
      "source": [
        "### TESTS ###\n",
        "dataset[1]"
      ],
      "metadata": {
        "colab": {
          "base_uri": "https://localhost:8080/"
        },
        "id": "P-rqwy6hycHM",
        "outputId": "3c1c5978-7474-4a24-b36a-4c8a6a08f2c5"
      },
      "execution_count": null,
      "outputs": [
        {
          "output_type": "execute_result",
          "data": {
            "text/plain": [
              "(tensor([[121.],\n",
              "         [129.],\n",
              "         [132.],\n",
              "         [118.]]),\n",
              " tensor([135.]))"
            ]
          },
          "metadata": {},
          "execution_count": 12
        }
      ]
    },
    {
      "cell_type": "code",
      "source": [
        "### TESTS ###\n",
        "arTerms,timeSeries = dataset[0] # testing the class with the first row\n",
        "print(arTerms,timeSeries)"
      ],
      "metadata": {
        "colab": {
          "base_uri": "https://localhost:8080/"
        },
        "id": "PxNWm0_FN1fP",
        "outputId": "68a3d8ad-8a41-4cc0-e37d-6c64fb785244"
      },
      "execution_count": null,
      "outputs": [
        {
          "output_type": "stream",
          "name": "stdout",
          "text": [
            "tensor([[129.],\n",
            "        [132.],\n",
            "        [118.],\n",
            "        [112.]]) tensor([121.])\n"
          ]
        }
      ]
    },
    {
      "cell_type": "code",
      "source": [
        "### TESTS ###\n",
        "dataloader = DataLoader(dataset=dataset,batch_size=4,shuffle=False,num_workers=2) # For time series order matters, hence data should not be shuffled\n",
        "                                                                                  # num_workers is optional"
      ],
      "metadata": {
        "id": "IOmkYUnlOrvO"
      },
      "execution_count": null,
      "outputs": []
    },
    {
      "cell_type": "code",
      "source": [
        "### TESTS ###\n",
        "dataiter = iter(dataloader)"
      ],
      "metadata": {
        "id": "-aUfisaPPSf2"
      },
      "execution_count": null,
      "outputs": []
    },
    {
      "cell_type": "code",
      "source": [
        "### TESTS ###\n",
        "iterTest = next(dataiter)\n",
        "timeData,timeSeries = iterTest\n",
        "print(timeData,timeSeries)"
      ],
      "metadata": {
        "colab": {
          "base_uri": "https://localhost:8080/"
        },
        "id": "fMzSIFTnPhPu",
        "outputId": "dd7c0411-c779-4963-ceca-e8a0701c4645"
      },
      "execution_count": null,
      "outputs": [
        {
          "output_type": "stream",
          "name": "stdout",
          "text": [
            "tensor([[[129.],\n",
            "         [132.],\n",
            "         [118.],\n",
            "         [112.]],\n",
            "\n",
            "        [[121.],\n",
            "         [129.],\n",
            "         [132.],\n",
            "         [118.]],\n",
            "\n",
            "        [[135.],\n",
            "         [121.],\n",
            "         [129.],\n",
            "         [132.]],\n",
            "\n",
            "        [[148.],\n",
            "         [135.],\n",
            "         [121.],\n",
            "         [129.]]]) tensor([[121.],\n",
            "        [135.],\n",
            "        [148.],\n",
            "        [148.]])\n"
          ]
        }
      ]
    },
    {
      "cell_type": "code",
      "source": [
        "### TESTS ###\n",
        "# Testing dummy training loop\n",
        "num_epochs = 2\n",
        "total_samples = len(dataset)\n",
        "n_iterations = math.ceil(total_samples/4) # total_samples/batch_size\n",
        "print(total_samples,n_iterations)\n",
        "\n",
        "for epoch in range(num_epochs):\n",
        "  for step, (arTerms,dataseries) in enumerate(dataloader): # gives batch data\n",
        "    # forward and backward pass, update weigths\n",
        "    if (step+1) % 5 == 0:\n",
        "      print(f'epoch {epoch+1}/{num_epochs}, step {step+1}/{n_iterations}, current timeseries value = [{dataseries}]')\n"
      ],
      "metadata": {
        "colab": {
          "base_uri": "https://localhost:8080/"
        },
        "id": "7VrzAPy7QvWO",
        "outputId": "a999a3b8-17ce-4102-8d28-235e020bcdab"
      },
      "execution_count": null,
      "outputs": [
        {
          "output_type": "stream",
          "name": "stdout",
          "text": [
            "140 35\n",
            "epoch 1/2, step 5/35, current timeseries value = [tensor([[158.],\n",
            "        [133.],\n",
            "        [114.],\n",
            "        [140.]])]\n",
            "epoch 1/2, step 10/35, current timeseries value = [tensor([[183.],\n",
            "        [218.],\n",
            "        [230.],\n",
            "        [242.]])]\n",
            "epoch 1/2, step 15/35, current timeseries value = [tensor([[204.],\n",
            "        [188.],\n",
            "        [235.],\n",
            "        [227.]])]\n",
            "epoch 1/2, step 20/35, current timeseries value = [tensor([[312.],\n",
            "        [274.],\n",
            "        [237.],\n",
            "        [278.]])]\n",
            "epoch 1/2, step 25/35, current timeseries value = [tensor([[355.],\n",
            "        [422.],\n",
            "        [465.],\n",
            "        [467.]])]\n",
            "epoch 1/2, step 30/35, current timeseries value = [tensor([[360.],\n",
            "        [342.],\n",
            "        [406.],\n",
            "        [396.]])]\n",
            "epoch 1/2, step 35/35, current timeseries value = [tensor([[508.],\n",
            "        [461.],\n",
            "        [390.],\n",
            "        [432.]])]\n",
            "epoch 2/2, step 5/35, current timeseries value = [tensor([[158.],\n",
            "        [133.],\n",
            "        [114.],\n",
            "        [140.]])]\n",
            "epoch 2/2, step 10/35, current timeseries value = [tensor([[183.],\n",
            "        [218.],\n",
            "        [230.],\n",
            "        [242.]])]\n",
            "epoch 2/2, step 15/35, current timeseries value = [tensor([[204.],\n",
            "        [188.],\n",
            "        [235.],\n",
            "        [227.]])]\n",
            "epoch 2/2, step 20/35, current timeseries value = [tensor([[312.],\n",
            "        [274.],\n",
            "        [237.],\n",
            "        [278.]])]\n",
            "epoch 2/2, step 25/35, current timeseries value = [tensor([[355.],\n",
            "        [422.],\n",
            "        [465.],\n",
            "        [467.]])]\n",
            "epoch 2/2, step 30/35, current timeseries value = [tensor([[360.],\n",
            "        [342.],\n",
            "        [406.],\n",
            "        [396.]])]\n",
            "epoch 2/2, step 35/35, current timeseries value = [tensor([[508.],\n",
            "        [461.],\n",
            "        [390.],\n",
            "        [432.]])]\n"
          ]
        }
      ]
    },
    {
      "cell_type": "code",
      "source": [
        "### TESTS END ###"
      ],
      "metadata": {
        "id": "8kUTiDkQFfUR"
      },
      "execution_count": null,
      "outputs": []
    },
    {
      "cell_type": "code",
      "source": [
        "# The first step is to create the training and test datasets. As mentioned above in time series the order matters,\n",
        "# thereby the data cannot  be suffled - the order of the data needs to be preserved.\n",
        "\n",
        "autoRegTerms = 2 # with value of 4 ==> Epoch 14900: train RMSE 97.6167, test RMSE 162.6247, Seasonality?\n",
        "dataset = AirlineDataset(autoRegTerms)\n",
        "train_size = int(len(dataset) * 0.7) # For the train-test split we will use 70% of the data for training and 30% for testing\n",
        "test_size = len(dataset) - train_size\n",
        "print(train_size,test_size)\n",
        "train_set, test_set = dataset[:train_size], dataset[train_size:]"
      ],
      "metadata": {
        "id": "68OT7VifzPsa",
        "colab": {
          "base_uri": "https://localhost:8080/"
        },
        "outputId": "fedad9fe-deea-4ad5-e613-e82f847c8dbf"
      },
      "execution_count": null,
      "outputs": [
        {
          "output_type": "stream",
          "name": "stdout",
          "text": [
            "99 43\n"
          ]
        }
      ]
    },
    {
      "cell_type": "code",
      "source": [
        "X_train_set = torch.swapaxes(train_set[0], 1, 2)\n",
        "X_test_set = torch.swapaxes(test_set[0], 1, 2)"
      ],
      "metadata": {
        "id": "avdmSDGbnkjx"
      },
      "execution_count": null,
      "outputs": []
    },
    {
      "cell_type": "code",
      "source": [
        "train_set[0].shape"
      ],
      "metadata": {
        "colab": {
          "base_uri": "https://localhost:8080/"
        },
        "id": "e5jCDwRlHmb5",
        "outputId": "9e5ec755-923e-4bfa-914f-7d9a671ca054"
      },
      "execution_count": null,
      "outputs": [
        {
          "output_type": "execute_result",
          "data": {
            "text/plain": [
              "torch.Size([99, 2, 1])"
            ]
          },
          "metadata": {},
          "execution_count": 20
        }
      ]
    },
    {
      "cell_type": "code",
      "source": [
        "X_train_set.shape"
      ],
      "metadata": {
        "colab": {
          "base_uri": "https://localhost:8080/"
        },
        "id": "OX8GQWdRnypj",
        "outputId": "81c6548f-3398-465a-9892-a7f2e3dcdd99"
      },
      "execution_count": null,
      "outputs": [
        {
          "output_type": "execute_result",
          "data": {
            "text/plain": [
              "torch.Size([99, 1, 2])"
            ]
          },
          "metadata": {},
          "execution_count": 21
        }
      ]
    },
    {
      "cell_type": "markdown",
      "source": [
        "**[Ric wrote]:** The following line is the answer to problem number 1"
      ],
      "metadata": {
        "id": "IX4O9SJ0YjLl"
      }
    },
    {
      "cell_type": "code",
      "source": [
        "trainloader = DataLoader(torch.utils.data.TensorDataset(X_train_set, train_set[1]), batch_size=8, shuffle=False)\n",
        "testloader = DataLoader(torch.utils.data.TensorDataset(X_test_set,test_set[1]), batch_size=8, shuffle=False)"
      ],
      "metadata": {
        "id": "jDmGGW20HUWZ"
      },
      "execution_count": null,
      "outputs": []
    },
    {
      "cell_type": "code",
      "source": [
        "print(X_train_set.shape, train_set[1].shape)\n",
        "print(X_test_set.shape, test_set[1].shape)"
      ],
      "metadata": {
        "colab": {
          "base_uri": "https://localhost:8080/"
        },
        "id": "acGaxI5-a21H",
        "outputId": "3ffa19b3-7b46-49b7-e17e-3658bf96d07f"
      },
      "execution_count": null,
      "outputs": [
        {
          "output_type": "stream",
          "name": "stdout",
          "text": [
            "torch.Size([99, 1, 2]) torch.Size([99, 1])\n",
            "torch.Size([43, 1, 2]) torch.Size([43, 1])\n"
          ]
        }
      ]
    },
    {
      "cell_type": "code",
      "source": [],
      "metadata": {
        "id": "tsyWHLkm0iE6"
      },
      "execution_count": null,
      "outputs": []
    },
    {
      "cell_type": "code",
      "source": [],
      "metadata": {
        "id": "kpqpNJGXFhIy"
      },
      "execution_count": null,
      "outputs": []
    },
    {
      "cell_type": "markdown",
      "source": [
        "2. Create the model in pytorch here uinsg 1. LSTM and 2. Wavenet. Here is a good resource for Custom model generation. [Video Link](https://www.youtube.com/watch?v=DkNIBBBvcPs) [Video Link](https://www.youtube.com/watch?v=KCk1i5xRxLA)\n",
        "\n",
        "  Train using the two models. Here is the resource for the same [Video link](https://www.youtube.com/watch?v=VVDHU_TWwUg)"
      ],
      "metadata": {
        "id": "XDyX4KRnpSv8"
      }
    },
    {
      "cell_type": "code",
      "source": [
        "# Some considerations"
      ],
      "metadata": {
        "id": "n2iW2H2SrEv3"
      },
      "execution_count": null,
      "outputs": []
    },
    {
      "cell_type": "markdown",
      "source": [
        "**[Ric wrote]:** With the data available in the dataset we can set up a deep neural network similar to an autoregresive (AR) model. The autoregressive model specifies that the output variable depends **linearly on its own previous values** and on a stochastic term (an imperfectly predictable term). In its simplest form the AR model has the following form:\n",
        "<br>\n",
        "$$\n",
        "y_t = \\alpha_0 + \\alpha_1*y_{t-1} + \\epsilon_t\n",
        "$$\n",
        "<br>\n",
        "it is assumed that the randomness of $y_t$ comes from the realizations of $\\epsilon_t$, which are assumed to be white noise - mean of zero, constant variance, and serially uncorrelated.\n",
        "\n",
        "This AR model admits more autoregressive terms, that is predict $y_t$ with observations from an even distant past, such as: $y_{t-2},y_{t-3},y_{t-4}...$ The AR model also admits the use of features, for flight passengers Gross National Income (GNI) per capita or average price of a train ticket may be good candidates to be included as predictors in the model. These features will not be included given that they are not available in the dataset.\n",
        "\n",
        "The deep neural network architecture that allows prediction on past observations of the dependent variable is recurrent neural networks (RNN).\n",
        "\n",
        "As required by the assignment i will start with an LSTM architecture, a variant of the RNN architecture. The first decision will be how many autorregressive terms will be used as input to predict $y_t$.\n",
        "\n"
      ],
      "metadata": {
        "id": "s61d1KRlrIHe"
      }
    },
    {
      "cell_type": "code",
      "source": [
        "# write your code here for the custom model creating for both the methods\n",
        "\n",
        "#### LSTM #####\n",
        "\n",
        "class AirlinePassengers(nn.Module):\n",
        "    def __init__(self):\n",
        "        super().__init__()\n",
        "        self.lstm = nn.LSTM(input_size=2, hidden_size=50, num_layers=1, batch_first=False) # Changed input_size=4 to 2\n",
        "        self.linear = nn.Linear(50, 1)\n",
        "    def forward(self, x):\n",
        "        x, _ = self.lstm(x) # he output of nn.LSTM() is a tuple. The first element is the\n",
        "                            # generated hidden states, one for each time step of the input.\n",
        "                            # The second element is the LSTM cell’s memory and hidden states, which is not used here.\n",
        "        x = self.linear(x)  # Fully connected layer\n",
        "        return x"
      ],
      "metadata": {
        "id": "JYc1omR4pWGz"
      },
      "execution_count": null,
      "outputs": []
    },
    {
      "cell_type": "code",
      "source": [
        "model = AirlinePassengers()\n",
        "optimizer = optim.Adam(model.parameters())\n",
        "loss_fn = nn.MSELoss()\n",
        "# Loader Names:\n",
        "# trainloader\n",
        "# testloader\n",
        "n_epochs = 15000\n",
        "for epoch in range(n_epochs):\n",
        "    model.train()\n",
        "    for X_batch, y_batch in trainloader:\n",
        "        y_pred = model(X_batch)\n",
        "        loss = loss_fn(y_pred, y_batch)\n",
        "        optimizer.zero_grad()\n",
        "        loss.backward()\n",
        "        optimizer.step()\n",
        "    # Validation\n",
        "    if epoch % 100 != 0:\n",
        "        continue\n",
        "    model.eval()\n",
        "    with torch.no_grad():\n",
        "        y_pred = model(X_train_set)\n",
        "        train_rmse = np.sqrt(loss_fn(y_pred, train_set[1]))\n",
        "        y_pred = model(X_test_set)\n",
        "        test_rmse = np.sqrt(loss_fn(y_pred, test_set[1]))\n",
        "    print(\"Epoch %d: train RMSE %.4f, test RMSE %.4f\" % (epoch, train_rmse, test_rmse))"
      ],
      "metadata": {
        "id": "l8IunL4Ky_ux",
        "colab": {
          "base_uri": "https://localhost:8080/"
        },
        "outputId": "b77f4085-d064-4ece-b5c5-af3891b82f2f"
      },
      "execution_count": null,
      "outputs": [
        {
          "output_type": "stream",
          "name": "stderr",
          "text": [
            "/usr/local/lib/python3.10/dist-packages/torch/nn/modules/loss.py:536: UserWarning: Using a target size (torch.Size([8, 1])) that is different to the input size (torch.Size([8, 1, 1])). This will likely lead to incorrect results due to broadcasting. Please ensure they have the same size.\n",
            "  return F.mse_loss(input, target, reduction=self.reduction)\n",
            "/usr/local/lib/python3.10/dist-packages/torch/nn/modules/loss.py:536: UserWarning: Using a target size (torch.Size([3, 1])) that is different to the input size (torch.Size([3, 1, 1])). This will likely lead to incorrect results due to broadcasting. Please ensure they have the same size.\n",
            "  return F.mse_loss(input, target, reduction=self.reduction)\n",
            "/usr/local/lib/python3.10/dist-packages/torch/nn/modules/loss.py:536: UserWarning: Using a target size (torch.Size([99, 1])) that is different to the input size (torch.Size([99, 1, 1])). This will likely lead to incorrect results due to broadcasting. Please ensure they have the same size.\n",
            "  return F.mse_loss(input, target, reduction=self.reduction)\n",
            "/usr/local/lib/python3.10/dist-packages/torch/nn/modules/loss.py:536: UserWarning: Using a target size (torch.Size([43, 1])) that is different to the input size (torch.Size([43, 1, 1])). This will likely lead to incorrect results due to broadcasting. Please ensure they have the same size.\n",
            "  return F.mse_loss(input, target, reduction=self.reduction)\n"
          ]
        },
        {
          "output_type": "stream",
          "name": "stdout",
          "text": [
            "Epoch 0: train RMSE 233.3404, test RMSE 428.9914\n",
            "Epoch 100: train RMSE 187.4989, test RMSE 381.0435\n",
            "Epoch 200: train RMSE 149.6889, test RMSE 340.0032\n",
            "Epoch 300: train RMSE 118.6909, test RMSE 303.8892\n",
            "Epoch 400: train RMSE 95.6103, test RMSE 272.8866\n",
            "Epoch 500: train RMSE 82.0477, test RMSE 248.8931\n",
            "Epoch 600: train RMSE 81.8050, test RMSE 246.2293\n",
            "Epoch 700: train RMSE 80.6747, test RMSE 234.7532\n",
            "Epoch 800: train RMSE 86.1006, test RMSE 213.4647\n",
            "Epoch 900: train RMSE 87.7512, test RMSE 194.7002\n",
            "Epoch 1000: train RMSE 90.5415, test RMSE 179.1739\n",
            "Epoch 1100: train RMSE 93.8676, test RMSE 165.3026\n",
            "Epoch 1200: train RMSE 94.6168, test RMSE 164.5385\n",
            "Epoch 1300: train RMSE 96.1987, test RMSE 159.5066\n",
            "Epoch 1400: train RMSE 95.1215, test RMSE 161.6347\n",
            "Epoch 1500: train RMSE 96.6581, test RMSE 151.4745\n",
            "Epoch 1600: train RMSE 97.1712, test RMSE 150.4912\n",
            "Epoch 1700: train RMSE 94.6648, test RMSE 143.3107\n",
            "Epoch 1800: train RMSE 96.1146, test RMSE 139.5756\n",
            "Epoch 1900: train RMSE 97.4990, test RMSE 135.2758\n",
            "Epoch 2000: train RMSE 99.2080, test RMSE 137.6558\n",
            "Epoch 2100: train RMSE 97.9101, test RMSE 132.9569\n",
            "Epoch 2200: train RMSE 98.3817, test RMSE 143.7867\n",
            "Epoch 2300: train RMSE 98.5089, test RMSE 145.5078\n",
            "Epoch 2400: train RMSE 100.4496, test RMSE 143.0658\n",
            "Epoch 2500: train RMSE 101.5264, test RMSE 135.8696\n",
            "Epoch 2600: train RMSE 98.0676, test RMSE 147.8936\n",
            "Epoch 2700: train RMSE 96.9796, test RMSE 139.2789\n",
            "Epoch 2800: train RMSE 99.8883, test RMSE 133.0094\n",
            "Epoch 2900: train RMSE 98.6048, test RMSE 127.2784\n",
            "Epoch 3000: train RMSE 97.9653, test RMSE 122.0564\n",
            "Epoch 3100: train RMSE 96.1133, test RMSE 117.7088\n",
            "Epoch 3200: train RMSE 91.3240, test RMSE 121.5755\n",
            "Epoch 3300: train RMSE 91.3999, test RMSE 117.4647\n",
            "Epoch 3400: train RMSE 92.1720, test RMSE 119.9507\n",
            "Epoch 3500: train RMSE 90.8308, test RMSE 115.4266\n",
            "Epoch 3600: train RMSE 91.0700, test RMSE 111.8270\n",
            "Epoch 3700: train RMSE 91.3514, test RMSE 111.0810\n",
            "Epoch 3800: train RMSE 91.1155, test RMSE 108.5993\n",
            "Epoch 3900: train RMSE 91.4768, test RMSE 107.3437\n",
            "Epoch 4000: train RMSE 94.8255, test RMSE 106.1115\n",
            "Epoch 4100: train RMSE 95.6255, test RMSE 101.6228\n",
            "Epoch 4200: train RMSE 94.7846, test RMSE 106.8881\n",
            "Epoch 4300: train RMSE 94.3058, test RMSE 103.2417\n",
            "Epoch 4400: train RMSE 94.3868, test RMSE 106.8742\n",
            "Epoch 4500: train RMSE 93.4509, test RMSE 98.6849\n",
            "Epoch 4600: train RMSE 92.5929, test RMSE 100.3767\n",
            "Epoch 4700: train RMSE 93.5126, test RMSE 98.8953\n",
            "Epoch 4800: train RMSE 91.3730, test RMSE 99.3415\n",
            "Epoch 4900: train RMSE 93.4247, test RMSE 106.0698\n",
            "Epoch 5000: train RMSE 94.1416, test RMSE 100.9061\n",
            "Epoch 5100: train RMSE 93.1476, test RMSE 98.3735\n",
            "Epoch 5200: train RMSE 92.2991, test RMSE 96.1917\n",
            "Epoch 5300: train RMSE 94.3309, test RMSE 98.6428\n",
            "Epoch 5400: train RMSE 93.1135, test RMSE 97.3503\n",
            "Epoch 5500: train RMSE 92.8283, test RMSE 95.9508\n",
            "Epoch 5600: train RMSE 97.5149, test RMSE 105.3651\n",
            "Epoch 5700: train RMSE 96.7851, test RMSE 103.4424\n",
            "Epoch 5800: train RMSE 97.4149, test RMSE 102.5587\n",
            "Epoch 5900: train RMSE 96.1659, test RMSE 102.5387\n",
            "Epoch 6000: train RMSE 95.4389, test RMSE 101.2466\n",
            "Epoch 6100: train RMSE 94.0801, test RMSE 106.0307\n",
            "Epoch 6200: train RMSE 93.7470, test RMSE 104.4239\n",
            "Epoch 6300: train RMSE 95.5508, test RMSE 102.9362\n",
            "Epoch 6400: train RMSE 93.9836, test RMSE 102.1506\n",
            "Epoch 6500: train RMSE 94.8416, test RMSE 101.7298\n",
            "Epoch 6600: train RMSE 95.2951, test RMSE 101.3249\n",
            "Epoch 6700: train RMSE 94.9980, test RMSE 99.6840\n",
            "Epoch 6800: train RMSE 91.2718, test RMSE 107.3675\n",
            "Epoch 6900: train RMSE 92.8130, test RMSE 103.7959\n",
            "Epoch 7000: train RMSE 90.0772, test RMSE 101.9729\n",
            "Epoch 7100: train RMSE 94.5058, test RMSE 105.3881\n",
            "Epoch 7200: train RMSE 94.1289, test RMSE 103.4129\n",
            "Epoch 7300: train RMSE 94.2847, test RMSE 106.2320\n",
            "Epoch 7400: train RMSE 94.4528, test RMSE 101.7453\n",
            "Epoch 7500: train RMSE 94.2315, test RMSE 107.2487\n",
            "Epoch 7600: train RMSE 92.9899, test RMSE 105.7315\n",
            "Epoch 7700: train RMSE 91.7586, test RMSE 112.4115\n",
            "Epoch 7800: train RMSE 92.0297, test RMSE 96.0849\n",
            "Epoch 7900: train RMSE 97.7669, test RMSE 98.4888\n",
            "Epoch 8000: train RMSE 94.4924, test RMSE 93.9963\n",
            "Epoch 8100: train RMSE 94.0116, test RMSE 95.0528\n",
            "Epoch 8200: train RMSE 94.2775, test RMSE 94.8612\n",
            "Epoch 8300: train RMSE 90.1602, test RMSE 99.5663\n",
            "Epoch 8400: train RMSE 88.9669, test RMSE 112.7066\n",
            "Epoch 8500: train RMSE 90.0671, test RMSE 106.8664\n",
            "Epoch 8600: train RMSE 88.9942, test RMSE 101.8444\n",
            "Epoch 8700: train RMSE 89.3312, test RMSE 99.1919\n",
            "Epoch 8800: train RMSE 88.8936, test RMSE 97.1082\n",
            "Epoch 8900: train RMSE 88.9994, test RMSE 95.9793\n",
            "Epoch 9000: train RMSE 89.1383, test RMSE 94.9958\n",
            "Epoch 9100: train RMSE 91.9106, test RMSE 94.5644\n",
            "Epoch 9200: train RMSE 92.9301, test RMSE 94.6528\n",
            "Epoch 9300: train RMSE 90.7961, test RMSE 103.3322\n",
            "Epoch 9400: train RMSE 86.9377, test RMSE 99.2614\n",
            "Epoch 9500: train RMSE 88.5685, test RMSE 99.3542\n",
            "Epoch 9600: train RMSE 91.1567, test RMSE 101.7998\n",
            "Epoch 9700: train RMSE 90.9414, test RMSE 103.0294\n",
            "Epoch 9800: train RMSE 91.8926, test RMSE 91.2222\n",
            "Epoch 9900: train RMSE 94.2128, test RMSE 98.9817\n",
            "Epoch 10000: train RMSE 93.3284, test RMSE 97.6894\n",
            "Epoch 10100: train RMSE 94.6365, test RMSE 103.4472\n",
            "Epoch 10200: train RMSE 94.0862, test RMSE 101.6736\n",
            "Epoch 10300: train RMSE 93.4420, test RMSE 100.5371\n",
            "Epoch 10400: train RMSE 97.6469, test RMSE 111.1157\n",
            "Epoch 10500: train RMSE 95.9452, test RMSE 103.8457\n",
            "Epoch 10600: train RMSE 95.2464, test RMSE 100.9068\n",
            "Epoch 10700: train RMSE 99.0830, test RMSE 111.6679\n",
            "Epoch 10800: train RMSE 97.2135, test RMSE 104.8901\n",
            "Epoch 10900: train RMSE 98.6625, test RMSE 102.7741\n",
            "Epoch 11000: train RMSE 98.9841, test RMSE 99.6804\n",
            "Epoch 11100: train RMSE 98.4258, test RMSE 100.9661\n",
            "Epoch 11200: train RMSE 98.3123, test RMSE 100.3820\n",
            "Epoch 11300: train RMSE 93.5977, test RMSE 92.3404\n",
            "Epoch 11400: train RMSE 95.3990, test RMSE 96.2392\n",
            "Epoch 11500: train RMSE 95.8005, test RMSE 92.5956\n",
            "Epoch 11600: train RMSE 94.7831, test RMSE 91.4216\n",
            "Epoch 11700: train RMSE 96.8073, test RMSE 95.5032\n",
            "Epoch 11800: train RMSE 97.0221, test RMSE 94.5035\n",
            "Epoch 11900: train RMSE 99.5113, test RMSE 100.3462\n",
            "Epoch 12000: train RMSE 101.1393, test RMSE 101.9370\n",
            "Epoch 12100: train RMSE 100.2774, test RMSE 100.8744\n",
            "Epoch 12200: train RMSE 97.3920, test RMSE 97.1079\n",
            "Epoch 12300: train RMSE 97.5090, test RMSE 94.5948\n",
            "Epoch 12400: train RMSE 98.3695, test RMSE 94.4122\n",
            "Epoch 12500: train RMSE 98.6627, test RMSE 94.0238\n",
            "Epoch 12600: train RMSE 99.7823, test RMSE 106.1553\n",
            "Epoch 12700: train RMSE 102.0435, test RMSE 105.6435\n",
            "Epoch 12800: train RMSE 102.6878, test RMSE 105.1633\n",
            "Epoch 12900: train RMSE 101.8346, test RMSE 103.7680\n",
            "Epoch 13000: train RMSE 89.6112, test RMSE 108.5782\n",
            "Epoch 13100: train RMSE 102.2887, test RMSE 103.6395\n",
            "Epoch 13200: train RMSE 102.2384, test RMSE 97.3803\n",
            "Epoch 13300: train RMSE 101.7275, test RMSE 96.1876\n",
            "Epoch 13400: train RMSE 100.4419, test RMSE 96.3554\n",
            "Epoch 13500: train RMSE 96.9384, test RMSE 99.9162\n",
            "Epoch 13600: train RMSE 95.7921, test RMSE 97.5328\n",
            "Epoch 13700: train RMSE 98.8199, test RMSE 93.4783\n",
            "Epoch 13800: train RMSE 94.8314, test RMSE 92.4323\n",
            "Epoch 13900: train RMSE 96.6160, test RMSE 92.2439\n",
            "Epoch 14000: train RMSE 97.3385, test RMSE 92.7001\n",
            "Epoch 14100: train RMSE 96.7984, test RMSE 92.2125\n",
            "Epoch 14200: train RMSE 95.7892, test RMSE 90.2893\n",
            "Epoch 14300: train RMSE 96.0683, test RMSE 90.2371\n",
            "Epoch 14400: train RMSE 98.0329, test RMSE 90.8669\n",
            "Epoch 14500: train RMSE 95.7391, test RMSE 89.8456\n",
            "Epoch 14600: train RMSE 98.2282, test RMSE 92.2261\n",
            "Epoch 14700: train RMSE 99.3757, test RMSE 93.8132\n",
            "Epoch 14800: train RMSE 97.7955, test RMSE 96.7263\n",
            "Epoch 14900: train RMSE 99.1570, test RMSE 96.3886\n"
          ]
        }
      ]
    },
    {
      "cell_type": "code",
      "source": [
        "with torch.no_grad():\n",
        "  trainPlot = np.ones_like(timeseries) * np.nan\n",
        "  predictedTrain = model(X_train_set)\n",
        "  trainPlot[:train_size] = np.squeeze(predictedTrain.detach().numpy()).reshape(train_size,1)\n",
        "  testPlot = np.ones_like(timeseries) * np.nan\n",
        "  predictedTest = model(X_test_set)\n",
        "  trainPlot[-test_size:] = np.squeeze(predictedTest.detach().numpy()).reshape(test_size,1)"
      ],
      "metadata": {
        "id": "aX-VYKfyq3Bi"
      },
      "execution_count": null,
      "outputs": []
    },
    {
      "cell_type": "code",
      "source": [
        "# plotting the dataset\n",
        "timeseries = df[[\"Passengers\"]].values.astype('float32')\n",
        "# plotting the dataset\n",
        "plt.plot(timeseries, c='b')\n",
        "plt.plot(trainPlot, c='r')\n",
        "plt.plot(testPlot, c='g')\n",
        "plt.show()"
      ],
      "metadata": {
        "colab": {
          "base_uri": "https://localhost:8080/",
          "height": 430
        },
        "id": "3d85D_e0qiAL",
        "outputId": "eb085ef1-0fd1-4a4d-9632-688d127b16ba"
      },
      "execution_count": null,
      "outputs": [
        {
          "output_type": "display_data",
          "data": {
            "text/plain": [
              "<Figure size 640x480 with 1 Axes>"
            ],
            "image/png": "[encoded data removed]"
          },
          "metadata": {}
        }
      ]
    },
    {
      "cell_type": "markdown",
      "source": [
        "**[Ric wrote]:** The model above is an LSTM model that follows the design of an AR model with two autoregresive terms. The model with 4 autoregressive terms predicted a line close to the mean of each set. This might be because this curve has not been neither detrended not it has have the seasonality removed. It can be seen that the demand for air tickets peaks in the summer months, these up and downs can result in a prediction close to the mean when using a large amount of autoregressive terms without removing the seasonality. However, going down to one autoregressive term would not be advisable because of the high correlation between two consecutive points - if it is cold yesterday it is highly likely that it will be cold today. A one-step-back prediction model may not be very useful in several scenarios (i.e. predicting a hurricane with one day notice may not be helpful given that there will not be time for evacuation)."
      ],
      "metadata": {
        "id": "ZdBZHxeYAHCY"
      }
    },
    {
      "cell_type": "code",
      "source": [
        "#### WaveNet #####\n",
        "\n",
        "class CasualDilatedConv1D(nn.Module):\n",
        "    def __init__(self, in_channels, out_channels, kernel_size, dilation, padding=1):\n",
        "        super().__init__()\n",
        "        self.conv1D = nn.Conv1d(in_channels, out_channels, kernel_size, dilation=dilation, bias=False, padding='same')\n",
        "        self.ignoreOutIndex = (kernel_size - 1) * dilation\n",
        "\n",
        "    def forward(self, x):\n",
        "        return self.conv1D(x)[..., :-self.ignoreOutIndex]\n",
        "\n",
        "\n",
        "class DenseLayer(nn.Module):\n",
        "    def __init__(self, in_channels):\n",
        "        super().__init__()\n",
        "        self.relu = nn.ReLU()\n",
        "        self.softmax = nn.Softmax(dim=2)\n",
        "        self.conv1d = nn.Conv1d(in_channels, in_channels, kernel_size=1, bias=False)\n",
        "\n",
        "    def forward(self, skipConnection):\n",
        "        # as b c outputsize -> skipConnection size\n",
        "        out = torch.mean(skipConnection, dim=0)\n",
        "\n",
        "        for i in range(2):\n",
        "            out = self.relu(out)\n",
        "            out = self.conv1d(out)\n",
        "        #return self.softmax(out)\n",
        "        return out # Because this is not a probablistic classifier but a liar regression model I eliminated the softmax function\n",
        "\n",
        "class ResBlock(nn.Module):\n",
        "    def __init__(self, res_channels, skip_channels, kernel_size, dilation):\n",
        "        super().__init__()\n",
        "        self.casualDilatedConv1D = CasualDilatedConv1D(res_channels, res_channels, kernel_size, dilation=dilation)\n",
        "        self.resConv1D = nn.Conv1d(res_channels, res_channels, kernel_size=1)\n",
        "        self.skipConv1D = nn.Conv1d(res_channels, skip_channels, kernel_size=1)\n",
        "        self.tanh = nn.Tanh()\n",
        "        self.sigmoid = nn.Sigmoid()\n",
        "\n",
        "    def forward(self, inputX, skipSize):\n",
        "        x = self.casualDilatedConv1D(inputX)\n",
        "        x1 = self.tanh(x)\n",
        "        x2 = self.sigmoid(x)\n",
        "        x = x1 * x2\n",
        "        resOutput = self.resConv1D(x)\n",
        "        resOutput = resOutput + inputX[..., -resOutput.size(2):]\n",
        "        skipOutput = self.skipConv1D(x)\n",
        "        skipOutput = skipOutput[..., -skipSize:]\n",
        "        return resOutput, skipOutput\n",
        "\n",
        "\n",
        "class StackOfResBlocks(nn.Module):\n",
        "\n",
        "    def __init__(self, stack_size, layer_size, res_channels, skip_channels, kernel_size):\n",
        "        super().__init__()\n",
        "        buildDilationFunc = np.vectorize(self.buildDilation)\n",
        "        dilations = buildDilationFunc(stack_size, layer_size)\n",
        "        self.resBlocks = []\n",
        "        for s,dilationPerStack in enumerate(dilations):\n",
        "            for l,dilation in enumerate(dilationPerStack):\n",
        "                resBlock=ResBlock(res_channels, skip_channels, kernel_size, dilation)\n",
        "                self.add_module(f'resBlock_{s}_{l}', resBlock) # Add modules manually\n",
        "                self.resBlocks.append(resBlock)\n",
        "\n",
        "    def buildDilation(self, stack_size, layer_size):\n",
        "        # stack1=[1,2,4,8,16,...512]\n",
        "        dilationsForAllStacks = []\n",
        "        for stack in range(stack_size):\n",
        "            dilations = []\n",
        "            for layer in range(layer_size):\n",
        "                dilations.append(2 ** layer)\n",
        "            dilationsForAllStacks.append(dilations)\n",
        "        return dilationsForAllStacks\n",
        "\n",
        "    def forward(self, x, skipSize):\n",
        "        resOutput = x\n",
        "        skipOutputs = []\n",
        "        for resBlock in self.resBlocks:\n",
        "            resOutput, skipOutput = resBlock(resOutput, skipSize)\n",
        "            skipOutputs.append(skipOutput)\n",
        "        return resOutput, torch.stack(skipOutputs)\n",
        "\n",
        "\n",
        "class WaveNet(nn.Module):\n",
        "    def __init__(self, in_channels, out_channels, kernel_size, stack_size, layer_size):\n",
        "        super().__init__()\n",
        "        self.stack_size = stack_size\n",
        "        self.layer_size = layer_size\n",
        "        self.kernel_size = kernel_size\n",
        "        self.casualConv1D = CasualDilatedConv1D(in_channels, in_channels, kernel_size, dilation=1)\n",
        "        self.stackResBlock = StackOfResBlocks(self.stack_size, self.layer_size, in_channels, out_channels, kernel_size)\n",
        "        self.denseLayer = DenseLayer(out_channels)\n",
        "\n",
        "    def calculateReceptiveField(self):\n",
        "        return np.sum([(self.kernel_size - 1) * (2 ** l) for l in range(self.layer_size)] * self.stack_size)\n",
        "\n",
        "    def calculateOutputSize(self, x):\n",
        "        return int(x.size(2)) - self.calculateReceptiveField()\n",
        "\n",
        "    def forward(self, x):\n",
        "        # x: b c t -> input data size\n",
        "        x = self.casualConv1D(x)\n",
        "        skipSize = self.calculateOutputSize(x)\n",
        "        _, skipConnections = self.stackResBlock(x, skipSize)\n",
        "        dense=self.denseLayer(skipConnections)\n",
        "        return dense\n",
        "\n",
        "\n",
        "class WaveNetLinearReg(nn.Module):\n",
        "    def __init__(self,output_size):\n",
        "        super().__init__()\n",
        "        self.output_size=output_size\n",
        "        self.wavenet=WaveNet(1,1,3,1,2)\n",
        "        #self.linear=nn.Linear(seqLen-self.wavenet.calculateReceptiveField(),output_size)\n",
        "        self.linear=nn.Linear(4,output_size)\n",
        "        self.softmax=nn.Softmax(-1)\n",
        "        #self.seqLen = seqLen\n",
        "        self.output_size = output_size\n",
        "\n",
        "    def forward(self,x):\n",
        "        x=self.wavenet(x)\n",
        "        x=torch.flatten(x,start_dim=1)\n",
        "        x=self.linear(x)\n",
        "        #return self.softmax(x) # Given that it is not a probabilistic model it needs to have a linear output instead of softmax\n",
        "        return x"
      ],
      "metadata": {
        "id": "qUXHTcKqccU_"
      },
      "execution_count": null,
      "outputs": []
    },
    {
      "cell_type": "code",
      "source": [
        "# Set the random seed for reproducibility\n",
        "torch.manual_seed(12)"
      ],
      "metadata": {
        "colab": {
          "base_uri": "https://localhost:8080/"
        },
        "id": "LGU77muRmjIb",
        "outputId": "b3264950-7b2a-4a72-e47f-45e13f5ca3fb"
      },
      "execution_count": null,
      "outputs": [
        {
          "output_type": "execute_result",
          "data": {
            "text/plain": [
              "<torch._C.Generator at 0x7f41c155d110>"
            ]
          },
          "metadata": {},
          "execution_count": 199
        }
      ]
    },
    {
      "cell_type": "markdown",
      "source": [
        "**[Ric wrote]:** For WaveNet I am going to build new data loaders. I am assuming that because of dilation it would be able to pick up information from the previous season. Assming this is true the number of AR terms will be 12."
      ],
      "metadata": {
        "id": "VrOhOE7_vFdS"
      }
    },
    {
      "cell_type": "code",
      "source": [
        "# The first step is to create the training and test datasets. As mentioned above in time series the order matters,\n",
        "# thereby the data cannot  be suffled - the order of the data needs to be preserved.\n",
        "\n",
        "autoRegTerms2 = 12\n",
        "dataset2 = AirlineDataset(autoRegTerms2)\n",
        "train_size2 = int(len(dataset2) * 0.7) # For the train-test split we will use 70% of the data for training and 30% for testing\n",
        "test_size2 = len(dataset2) - train_size2\n",
        "print(train_size2,test_size2)\n",
        "train_set2, test_set2 = dataset2[:train_size2], dataset2[train_size2:]"
      ],
      "metadata": {
        "colab": {
          "base_uri": "https://localhost:8080/"
        },
        "id": "QLY31SaOvEPi",
        "outputId": "346d1f11-ff93-4776-b3c6-b7800c78027b"
      },
      "execution_count": null,
      "outputs": [
        {
          "output_type": "stream",
          "name": "stdout",
          "text": [
            "92 40\n"
          ]
        }
      ]
    },
    {
      "cell_type": "code",
      "source": [
        "X_train_set2 = torch.swapaxes(train_set2[0], 1, 2)\n",
        "X_test_set2 = torch.swapaxes(test_set2[0], 1, 2)\n",
        "# X_train_set2 = train_set2[0]\n",
        "# X_test_set2 = test_set2[0]"
      ],
      "metadata": {
        "id": "U2w9sAEivhGC"
      },
      "execution_count": null,
      "outputs": []
    },
    {
      "cell_type": "code",
      "source": [
        "trainloader2 = DataLoader(torch.utils.data.TensorDataset(X_train_set2, train_set2[1]), batch_size=8, shuffle=False)\n",
        "testloader2 = DataLoader(torch.utils.data.TensorDataset(X_test_set2,test_set2[1]), batch_size=8, shuffle=False)"
      ],
      "metadata": {
        "id": "SVwVzvSzvg_z"
      },
      "execution_count": null,
      "outputs": []
    },
    {
      "cell_type": "code",
      "source": [
        "print(X_train_set2.shape, train_set2[1].shape)\n",
        "print(X_test_set2.shape, test_set2[1].shape)"
      ],
      "metadata": {
        "colab": {
          "base_uri": "https://localhost:8080/"
        },
        "id": "FFSpgNYyvgzT",
        "outputId": "a2d20681-75a6-48fb-d213-336e79d1c881"
      },
      "execution_count": null,
      "outputs": [
        {
          "output_type": "stream",
          "name": "stdout",
          "text": [
            "torch.Size([92, 1, 12]) torch.Size([92, 1])\n",
            "torch.Size([40, 1, 12]) torch.Size([40, 1])\n"
          ]
        }
      ]
    },
    {
      "cell_type": "code",
      "source": [
        "#model2 = WaveNet(in_channels=1, out_channels=1, kernel_size=3, stack_size=1,layer_size=2)\n",
        "model2 = WaveNetLinearReg(output_size=1)\n",
        "\n",
        "optimizer = optim.Adam(model2.parameters())\n",
        "loss_fn = nn.MSELoss()\n",
        "# Loader Names:\n",
        "# trainloader\n",
        "# testloader\n",
        "n_epochs2 = 1500\n",
        "\n",
        "for epoch in range(n_epochs2):\n",
        "    model2.train()\n",
        "    for X_batch2,y_batch2 in trainloader2:\n",
        "        #X_batch2 = torch.unsqueeze(X_batch2,dim=1).float()\n",
        "        y_pred2 = model2(X_batch2)\n",
        "        loss = loss_fn(y_pred2, y_batch2)\n",
        "        optimizer.zero_grad()\n",
        "        loss.backward()\n",
        "        optimizer.step()\n",
        "    # Validation\n",
        "    if epoch % 1 != 0:\n",
        "        continue\n",
        "    model2.eval()\n",
        "    with torch.no_grad():\n",
        "        y_pred2 = model2(X_train_set2)\n",
        "        train_rmse2 = np.sqrt(loss_fn(y_pred2, train_set2[1]))\n",
        "        y_pred2 = model2(X_test_set2)\n",
        "        test_rmse2 = np.sqrt(loss_fn(y_pred2, test_set2[1]))\n",
        "    print(\"Epoch %d: train RMSE %.4f, test RMSE %.4f\" % (epoch, train_rmse2, test_rmse2))"
      ],
      "metadata": {
        "colab": {
          "base_uri": "https://localhost:8080/"
        },
        "id": "9HHysry3wMAg",
        "outputId": "a1c1bae8-a6b1-4d54-e3a4-773709ad0ef1"
      },
      "execution_count": null,
      "outputs": [
        {
          "output_type": "stream",
          "name": "stdout",
          "text": [
            "Epoch 0: train RMSE 252.6939, test RMSE 428.1661\n",
            "Epoch 1: train RMSE 252.6799, test RMSE 428.1516\n",
            "Epoch 2: train RMSE 252.6653, test RMSE 428.1366\n",
            "Epoch 3: train RMSE 252.6500, test RMSE 428.1207\n",
            "Epoch 4: train RMSE 252.6337, test RMSE 428.1038\n",
            "Epoch 5: train RMSE 252.6160, test RMSE 428.0855\n",
            "Epoch 6: train RMSE 252.5967, test RMSE 428.0655\n",
            "Epoch 7: train RMSE 252.5754, test RMSE 428.0435\n",
            "Epoch 8: train RMSE 252.5517, test RMSE 428.0189\n",
            "Epoch 9: train RMSE 252.5250, test RMSE 427.9913\n",
            "Epoch 10: train RMSE 252.4949, test RMSE 427.9601\n",
            "Epoch 11: train RMSE 252.4606, test RMSE 427.9246\n",
            "Epoch 12: train RMSE 252.4216, test RMSE 427.8841\n",
            "Epoch 13: train RMSE 252.3770, test RMSE 427.8379\n",
            "Epoch 14: train RMSE 252.3259, test RMSE 427.7850\n",
            "Epoch 15: train RMSE 252.2676, test RMSE 427.7246\n",
            "Epoch 16: train RMSE 252.2009, test RMSE 427.6555\n",
            "Epoch 17: train RMSE 252.1249, test RMSE 427.5767\n",
            "Epoch 18: train RMSE 252.0383, test RMSE 427.4871\n",
            "Epoch 19: train RMSE 251.9401, test RMSE 427.3853\n",
            "Epoch 20: train RMSE 251.8289, test RMSE 427.2701\n",
            "Epoch 21: train RMSE 251.7035, test RMSE 427.1402\n",
            "Epoch 22: train RMSE 251.5624, test RMSE 426.9940\n",
            "Epoch 23: train RMSE 251.4041, test RMSE 426.8300\n",
            "Epoch 24: train RMSE 251.2272, test RMSE 426.6467\n",
            "Epoch 25: train RMSE 251.0302, test RMSE 426.4424\n",
            "Epoch 26: train RMSE 250.8113, test RMSE 426.2156\n",
            "Epoch 27: train RMSE 250.5689, test RMSE 425.9643\n",
            "Epoch 28: train RMSE 250.3013, test RMSE 425.6870\n",
            "Epoch 29: train RMSE 250.0067, test RMSE 425.3816\n",
            "Epoch 30: train RMSE 249.6834, test RMSE 425.0464\n",
            "Epoch 31: train RMSE 249.3295, test RMSE 424.6794\n",
            "Epoch 32: train RMSE 248.9431, test RMSE 424.2786\n",
            "Epoch 33: train RMSE 248.5223, test RMSE 423.8422\n",
            "Epoch 34: train RMSE 248.0653, test RMSE 423.3680\n",
            "Epoch 35: train RMSE 247.5700, test RMSE 422.8542\n",
            "Epoch 36: train RMSE 247.0346, test RMSE 422.2985\n",
            "Epoch 37: train RMSE 246.4570, test RMSE 421.6989\n",
            "Epoch 38: train RMSE 245.8353, test RMSE 421.0534\n",
            "Epoch 39: train RMSE 245.1676, test RMSE 420.3600\n",
            "Epoch 40: train RMSE 244.4518, test RMSE 419.6164\n",
            "Epoch 41: train RMSE 243.6861, test RMSE 418.8207\n",
            "Epoch 42: train RMSE 242.8684, test RMSE 417.9708\n",
            "Epoch 43: train RMSE 241.9970, test RMSE 417.0646\n",
            "Epoch 44: train RMSE 241.0698, test RMSE 416.1003\n",
            "Epoch 45: train RMSE 240.0853, test RMSE 415.0757\n",
            "Epoch 46: train RMSE 239.0414, test RMSE 413.9890\n",
            "Epoch 47: train RMSE 237.9365, test RMSE 412.8382\n",
            "Epoch 48: train RMSE 236.7689, test RMSE 411.6216\n",
            "Epoch 49: train RMSE 235.5371, test RMSE 410.3373\n",
            "Epoch 50: train RMSE 234.2395, test RMSE 408.9836\n",
            "Epoch 51: train RMSE 232.8748, test RMSE 407.5591\n",
            "Epoch 52: train RMSE 231.4414, test RMSE 406.0619\n",
            "Epoch 53: train RMSE 229.9384, test RMSE 404.4908\n",
            "Epoch 54: train RMSE 228.3644, test RMSE 402.8444\n",
            "Epoch 55: train RMSE 226.7187, test RMSE 401.1214\n",
            "Epoch 56: train RMSE 225.0002, test RMSE 399.3209\n",
            "Epoch 57: train RMSE 223.2084, test RMSE 397.4416\n",
            "Epoch 58: train RMSE 221.3427, test RMSE 395.4829\n",
            "Epoch 59: train RMSE 219.4027, test RMSE 393.4440\n",
            "Epoch 60: train RMSE 217.3882, test RMSE 391.3244\n",
            "Epoch 61: train RMSE 215.2992, test RMSE 389.1237\n",
            "Epoch 62: train RMSE 213.1359, test RMSE 386.8417\n",
            "Epoch 63: train RMSE 210.8988, test RMSE 384.4786\n",
            "Epoch 64: train RMSE 208.5885, test RMSE 382.0343\n",
            "Epoch 65: train RMSE 206.2059, test RMSE 379.5094\n",
            "Epoch 66: train RMSE 203.7520, test RMSE 376.9044\n",
            "Epoch 67: train RMSE 201.2283, test RMSE 374.2203\n",
            "Epoch 68: train RMSE 198.6364, test RMSE 371.4581\n",
            "Epoch 69: train RMSE 195.9782, test RMSE 368.6190\n",
            "Epoch 70: train RMSE 193.2561, test RMSE 365.7047\n",
            "Epoch 71: train RMSE 190.4724, test RMSE 362.7170\n",
            "Epoch 72: train RMSE 187.6300, test RMSE 359.6581\n",
            "Epoch 73: train RMSE 184.7321, test RMSE 356.5301\n",
            "Epoch 74: train RMSE 181.7821, test RMSE 353.3358\n",
            "Epoch 75: train RMSE 178.7838, test RMSE 350.0782\n",
            "Epoch 76: train RMSE 175.7413, test RMSE 346.7603\n",
            "Epoch 77: train RMSE 172.6590, test RMSE 343.3855\n",
            "Epoch 78: train RMSE 169.5417, test RMSE 339.9577\n",
            "Epoch 79: train RMSE 166.3945, test RMSE 336.4808\n",
            "Epoch 80: train RMSE 163.2229, test RMSE 332.9592\n",
            "Epoch 81: train RMSE 160.0324, test RMSE 329.3972\n",
            "Epoch 82: train RMSE 156.8292, test RMSE 325.7998\n",
            "Epoch 83: train RMSE 153.6196, test RMSE 322.1717\n",
            "Epoch 84: train RMSE 150.4100, test RMSE 318.5184\n",
            "Epoch 85: train RMSE 147.2074, test RMSE 314.8453\n",
            "Epoch 86: train RMSE 144.0188, test RMSE 311.1579\n",
            "Epoch 87: train RMSE 140.8512, test RMSE 307.4621\n",
            "Epoch 88: train RMSE 137.7121, test RMSE 303.7637\n",
            "Epoch 89: train RMSE 134.6088, test RMSE 300.0687\n",
            "Epoch 90: train RMSE 131.5488, test RMSE 296.3834\n",
            "Epoch 91: train RMSE 128.5395, test RMSE 292.7137\n",
            "Epoch 92: train RMSE 125.5883, test RMSE 289.0659\n",
            "Epoch 93: train RMSE 122.7024, test RMSE 285.4460\n",
            "Epoch 94: train RMSE 119.8887, test RMSE 281.8602\n",
            "Epoch 95: train RMSE 117.1541, test RMSE 278.3144\n",
            "Epoch 96: train RMSE 114.5048, test RMSE 274.8144\n",
            "Epoch 97: train RMSE 111.9467, test RMSE 271.3658\n",
            "Epoch 98: train RMSE 109.4853, test RMSE 267.9740\n",
            "Epoch 99: train RMSE 107.1252, test RMSE 264.6441\n",
            "Epoch 100: train RMSE 104.8708, test RMSE 261.3810\n",
            "Epoch 101: train RMSE 102.7253, test RMSE 258.1892\n",
            "Epoch 102: train RMSE 100.6915, test RMSE 255.0731\n",
            "Epoch 103: train RMSE 98.7711, test RMSE 252.0359\n",
            "Epoch 104: train RMSE 96.9654, test RMSE 249.0816\n",
            "Epoch 105: train RMSE 95.2743, test RMSE 246.2127\n",
            "Epoch 106: train RMSE 93.6974, test RMSE 243.4319\n",
            "Epoch 107: train RMSE 92.2330, test RMSE 240.7413\n",
            "Epoch 108: train RMSE 90.8791, test RMSE 238.1424\n",
            "Epoch 109: train RMSE 89.6326, test RMSE 235.6364\n",
            "Epoch 110: train RMSE 88.4902, test RMSE 233.2242\n",
            "Epoch 111: train RMSE 87.4475, test RMSE 230.9059\n",
            "Epoch 112: train RMSE 86.5002, test RMSE 228.6815\n",
            "Epoch 113: train RMSE 85.6432, test RMSE 226.5507\n",
            "Epoch 114: train RMSE 84.8713, test RMSE 224.5124\n",
            "Epoch 115: train RMSE 84.1791, test RMSE 222.5655\n",
            "Epoch 116: train RMSE 83.5611, test RMSE 220.7088\n",
            "Epoch 117: train RMSE 83.0118, test RMSE 218.9401\n",
            "Epoch 118: train RMSE 82.5258, test RMSE 217.2579\n",
            "Epoch 119: train RMSE 82.0975, test RMSE 215.6595\n",
            "Epoch 120: train RMSE 81.7221, test RMSE 214.1428\n",
            "Epoch 121: train RMSE 81.3944, test RMSE 212.7052\n",
            "Epoch 122: train RMSE 81.1099, test RMSE 211.3443\n",
            "Epoch 123: train RMSE 80.8641, test RMSE 210.0570\n",
            "Epoch 124: train RMSE 80.6529, test RMSE 208.8406\n",
            "Epoch 125: train RMSE 80.4725, test RMSE 207.6922\n",
            "Epoch 126: train RMSE 80.3194, test RMSE 206.6091\n",
            "Epoch 127: train RMSE 80.1904, test RMSE 205.5884\n",
            "Epoch 128: train RMSE 80.0826, test RMSE 204.6270\n",
            "Epoch 129: train RMSE 79.9933, test RMSE 203.7223\n",
            "Epoch 130: train RMSE 79.9202, test RMSE 202.8716\n",
            "Epoch 131: train RMSE 79.8611, test RMSE 202.0719\n",
            "Epoch 132: train RMSE 79.8141, test RMSE 201.3208\n",
            "Epoch 133: train RMSE 79.7776, test RMSE 200.6155\n",
            "Epoch 134: train RMSE 79.7500, test RMSE 199.9538\n",
            "Epoch 135: train RMSE 79.7299, test RMSE 199.3331\n",
            "Epoch 136: train RMSE 79.7164, test RMSE 198.7512\n",
            "Epoch 137: train RMSE 79.7082, test RMSE 198.2057\n",
            "Epoch 138: train RMSE 79.7046, test RMSE 197.6946\n",
            "Epoch 139: train RMSE 79.7047, test RMSE 197.2160\n",
            "Epoch 140: train RMSE 79.7080, test RMSE 196.7678\n",
            "Epoch 141: train RMSE 79.7137, test RMSE 196.3483\n",
            "Epoch 142: train RMSE 79.7215, test RMSE 195.9557\n",
            "Epoch 143: train RMSE 79.7308, test RMSE 195.5883\n",
            "Epoch 144: train RMSE 79.7414, test RMSE 195.2447\n",
            "Epoch 145: train RMSE 79.7529, test RMSE 194.9232\n",
            "Epoch 146: train RMSE 79.7651, test RMSE 194.6226\n",
            "Epoch 147: train RMSE 79.7777, test RMSE 194.3414\n",
            "Epoch 148: train RMSE 79.7905, test RMSE 194.0785\n",
            "Epoch 149: train RMSE 79.8035, test RMSE 193.8326\n",
            "Epoch 150: train RMSE 79.8165, test RMSE 193.6028\n",
            "Epoch 151: train RMSE 79.8293, test RMSE 193.3878\n",
            "Epoch 152: train RMSE 79.8419, test RMSE 193.1870\n",
            "Epoch 153: train RMSE 79.8542, test RMSE 192.9992\n",
            "Epoch 154: train RMSE 79.8662, test RMSE 192.8237\n",
            "Epoch 155: train RMSE 79.8778, test RMSE 192.6597\n",
            "Epoch 156: train RMSE 79.8790, test RMSE 192.5063\n",
            "Epoch 157: train RMSE 79.8012, test RMSE 192.3581\n",
            "Epoch 158: train RMSE 79.7068, test RMSE 192.2198\n",
            "Epoch 159: train RMSE 79.4646, test RMSE 186.5349\n",
            "Epoch 160: train RMSE 79.0285, test RMSE 187.7838\n",
            "Epoch 161: train RMSE 78.7368, test RMSE 188.2691\n",
            "Epoch 162: train RMSE 79.1474, test RMSE 186.1169\n",
            "Epoch 163: train RMSE 78.9683, test RMSE 187.7355\n",
            "Epoch 164: train RMSE 78.9426, test RMSE 187.4211\n",
            "Epoch 165: train RMSE 78.8588, test RMSE 186.9735\n",
            "Epoch 166: train RMSE 78.6031, test RMSE 187.3046\n",
            "Epoch 167: train RMSE 78.5760, test RMSE 187.0311\n",
            "Epoch 168: train RMSE 78.6423, test RMSE 186.9552\n",
            "Epoch 169: train RMSE 78.5358, test RMSE 186.8607\n",
            "Epoch 170: train RMSE 78.4964, test RMSE 186.8191\n",
            "Epoch 171: train RMSE 78.4967, test RMSE 186.7316\n",
            "Epoch 172: train RMSE 78.4619, test RMSE 186.6477\n",
            "Epoch 173: train RMSE 78.4345, test RMSE 186.6032\n",
            "Epoch 174: train RMSE 78.4171, test RMSE 186.5453\n",
            "Epoch 175: train RMSE 78.3964, test RMSE 186.4862\n",
            "Epoch 176: train RMSE 78.3747, test RMSE 186.4412\n",
            "Epoch 177: train RMSE 78.3549, test RMSE 186.3980\n",
            "Epoch 178: train RMSE 78.3355, test RMSE 186.3553\n",
            "Epoch 179: train RMSE 78.3161, test RMSE 186.3171\n",
            "Epoch 180: train RMSE 78.2970, test RMSE 186.2821\n",
            "Epoch 181: train RMSE 78.2783, test RMSE 186.2487\n",
            "Epoch 182: train RMSE 78.2598, test RMSE 186.2177\n",
            "Epoch 183: train RMSE 78.2415, test RMSE 186.1888\n",
            "Epoch 184: train RMSE 78.2235, test RMSE 186.1617\n",
            "Epoch 185: train RMSE 78.2058, test RMSE 186.1360\n",
            "Epoch 186: train RMSE 78.1882, test RMSE 186.1119\n",
            "Epoch 187: train RMSE 78.1708, test RMSE 186.0891\n",
            "Epoch 188: train RMSE 78.1537, test RMSE 186.0676\n",
            "Epoch 189: train RMSE 78.1367, test RMSE 186.0471\n",
            "Epoch 190: train RMSE 78.1199, test RMSE 186.0276\n",
            "Epoch 191: train RMSE 78.1032, test RMSE 186.0090\n",
            "Epoch 192: train RMSE 78.0868, test RMSE 185.9912\n",
            "Epoch 193: train RMSE 78.0705, test RMSE 185.9741\n",
            "Epoch 194: train RMSE 78.0544, test RMSE 185.9578\n",
            "Epoch 195: train RMSE 78.0384, test RMSE 185.9419\n",
            "Epoch 196: train RMSE 78.0226, test RMSE 185.9266\n",
            "Epoch 197: train RMSE 78.0069, test RMSE 185.9118\n",
            "Epoch 198: train RMSE 77.9914, test RMSE 185.8974\n",
            "Epoch 199: train RMSE 77.9760, test RMSE 185.8835\n",
            "Epoch 200: train RMSE 77.9608, test RMSE 185.8699\n",
            "Epoch 201: train RMSE 77.9457, test RMSE 185.8567\n",
            "Epoch 202: train RMSE 77.9307, test RMSE 185.8437\n",
            "Epoch 203: train RMSE 77.9158, test RMSE 185.8310\n",
            "Epoch 204: train RMSE 77.9011, test RMSE 185.8185\n",
            "Epoch 205: train RMSE 77.8865, test RMSE 185.8062\n",
            "Epoch 206: train RMSE 77.8720, test RMSE 185.7941\n",
            "Epoch 207: train RMSE 77.8576, test RMSE 185.7821\n",
            "Epoch 208: train RMSE 77.8433, test RMSE 185.7703\n",
            "Epoch 209: train RMSE 77.8291, test RMSE 185.7586\n",
            "Epoch 210: train RMSE 77.8151, test RMSE 185.7471\n",
            "Epoch 211: train RMSE 77.8011, test RMSE 185.7356\n",
            "Epoch 212: train RMSE 77.7873, test RMSE 185.7242\n",
            "Epoch 213: train RMSE 77.7735, test RMSE 185.7130\n",
            "Epoch 214: train RMSE 77.7599, test RMSE 185.7016\n",
            "Epoch 215: train RMSE 77.7463, test RMSE 185.6904\n",
            "Epoch 216: train RMSE 77.7329, test RMSE 185.6793\n",
            "Epoch 217: train RMSE 77.7195, test RMSE 185.6682\n",
            "Epoch 218: train RMSE 77.7062, test RMSE 185.6571\n",
            "Epoch 219: train RMSE 77.6930, test RMSE 185.6459\n",
            "Epoch 220: train RMSE 77.6799, test RMSE 185.6348\n",
            "Epoch 221: train RMSE 77.6668, test RMSE 185.6238\n",
            "Epoch 222: train RMSE 77.6539, test RMSE 185.6128\n",
            "Epoch 223: train RMSE 77.6410, test RMSE 185.6017\n",
            "Epoch 224: train RMSE 77.6282, test RMSE 185.5907\n",
            "Epoch 225: train RMSE 77.6155, test RMSE 185.5797\n",
            "Epoch 226: train RMSE 77.6028, test RMSE 185.5685\n",
            "Epoch 227: train RMSE 77.5902, test RMSE 185.5574\n",
            "Epoch 228: train RMSE 77.5777, test RMSE 185.5463\n",
            "Epoch 229: train RMSE 77.5653, test RMSE 185.5352\n",
            "Epoch 230: train RMSE 77.5529, test RMSE 185.5240\n",
            "Epoch 231: train RMSE 77.5406, test RMSE 185.5128\n",
            "Epoch 232: train RMSE 77.5283, test RMSE 185.5015\n",
            "Epoch 233: train RMSE 77.5162, test RMSE 185.4902\n",
            "Epoch 234: train RMSE 77.5040, test RMSE 185.4788\n",
            "Epoch 235: train RMSE 77.4920, test RMSE 185.4675\n",
            "Epoch 236: train RMSE 77.4800, test RMSE 185.4561\n",
            "Epoch 237: train RMSE 77.4680, test RMSE 185.4447\n",
            "Epoch 238: train RMSE 77.4561, test RMSE 185.4333\n",
            "Epoch 239: train RMSE 77.4443, test RMSE 185.4218\n",
            "Epoch 240: train RMSE 77.4325, test RMSE 185.4103\n",
            "Epoch 241: train RMSE 77.4208, test RMSE 185.3987\n",
            "Epoch 242: train RMSE 77.4091, test RMSE 185.3872\n",
            "Epoch 243: train RMSE 77.3975, test RMSE 185.3755\n",
            "Epoch 244: train RMSE 77.3859, test RMSE 185.3638\n",
            "Epoch 245: train RMSE 77.3743, test RMSE 185.3521\n",
            "Epoch 246: train RMSE 77.3629, test RMSE 185.3404\n",
            "Epoch 247: train RMSE 77.3514, test RMSE 185.3286\n",
            "Epoch 248: train RMSE 77.3400, test RMSE 185.3168\n",
            "Epoch 249: train RMSE 77.3287, test RMSE 185.3050\n",
            "Epoch 250: train RMSE 77.3174, test RMSE 185.2932\n",
            "Epoch 251: train RMSE 77.3061, test RMSE 185.2813\n",
            "Epoch 252: train RMSE 77.2949, test RMSE 185.2692\n",
            "Epoch 253: train RMSE 77.2837, test RMSE 185.2572\n",
            "Epoch 254: train RMSE 77.2726, test RMSE 185.2451\n",
            "Epoch 255: train RMSE 77.2615, test RMSE 185.2330\n",
            "Epoch 256: train RMSE 77.2504, test RMSE 185.2210\n",
            "Epoch 257: train RMSE 77.2394, test RMSE 185.2088\n",
            "Epoch 258: train RMSE 77.2284, test RMSE 185.1965\n",
            "Epoch 259: train RMSE 77.2175, test RMSE 185.1842\n",
            "Epoch 260: train RMSE 77.2065, test RMSE 185.1719\n",
            "Epoch 261: train RMSE 77.1957, test RMSE 185.1596\n",
            "Epoch 262: train RMSE 77.1848, test RMSE 185.1472\n",
            "Epoch 263: train RMSE 77.1740, test RMSE 185.1347\n",
            "Epoch 264: train RMSE 77.1633, test RMSE 185.1222\n",
            "Epoch 265: train RMSE 77.1525, test RMSE 185.1096\n",
            "Epoch 266: train RMSE 77.1418, test RMSE 185.0970\n",
            "Epoch 267: train RMSE 77.1312, test RMSE 185.0844\n",
            "Epoch 268: train RMSE 77.1205, test RMSE 185.0718\n",
            "Epoch 269: train RMSE 77.1099, test RMSE 185.0591\n",
            "Epoch 270: train RMSE 77.0993, test RMSE 185.0464\n",
            "Epoch 271: train RMSE 77.0888, test RMSE 185.0336\n",
            "Epoch 272: train RMSE 77.0783, test RMSE 185.0208\n",
            "Epoch 273: train RMSE 77.0678, test RMSE 185.0079\n",
            "Epoch 274: train RMSE 77.0573, test RMSE 184.9951\n",
            "Epoch 275: train RMSE 77.0469, test RMSE 184.9822\n",
            "Epoch 276: train RMSE 77.0365, test RMSE 184.9692\n",
            "Epoch 277: train RMSE 77.0261, test RMSE 184.9563\n",
            "Epoch 278: train RMSE 77.0157, test RMSE 184.9433\n",
            "Epoch 279: train RMSE 77.0054, test RMSE 184.9303\n",
            "Epoch 280: train RMSE 76.9951, test RMSE 184.9173\n",
            "Epoch 281: train RMSE 76.9848, test RMSE 184.9042\n",
            "Epoch 282: train RMSE 76.9746, test RMSE 184.8910\n",
            "Epoch 283: train RMSE 76.9643, test RMSE 184.8778\n",
            "Epoch 284: train RMSE 76.9542, test RMSE 184.8645\n",
            "Epoch 285: train RMSE 76.9440, test RMSE 184.8513\n",
            "Epoch 286: train RMSE 76.9338, test RMSE 184.8379\n",
            "Epoch 287: train RMSE 76.9237, test RMSE 184.8246\n",
            "Epoch 288: train RMSE 76.9136, test RMSE 184.8114\n",
            "Epoch 289: train RMSE 76.9035, test RMSE 184.7980\n",
            "Epoch 290: train RMSE 76.8934, test RMSE 184.7846\n",
            "Epoch 291: train RMSE 76.8834, test RMSE 184.7712\n",
            "Epoch 292: train RMSE 76.8733, test RMSE 184.7579\n",
            "Epoch 293: train RMSE 76.8633, test RMSE 184.7445\n",
            "Epoch 294: train RMSE 76.8534, test RMSE 184.7309\n",
            "Epoch 295: train RMSE 76.8434, test RMSE 184.7174\n",
            "Epoch 296: train RMSE 76.8335, test RMSE 184.7038\n",
            "Epoch 297: train RMSE 76.8235, test RMSE 184.6902\n",
            "Epoch 298: train RMSE 76.8136, test RMSE 184.6766\n",
            "Epoch 299: train RMSE 76.8038, test RMSE 184.6628\n",
            "Epoch 300: train RMSE 76.7939, test RMSE 184.6491\n",
            "Epoch 301: train RMSE 76.7841, test RMSE 184.6353\n",
            "Epoch 302: train RMSE 76.7743, test RMSE 184.6216\n",
            "Epoch 303: train RMSE 76.7645, test RMSE 184.6078\n",
            "Epoch 304: train RMSE 76.7547, test RMSE 184.5941\n",
            "Epoch 305: train RMSE 76.7449, test RMSE 184.5802\n",
            "Epoch 306: train RMSE 76.7352, test RMSE 184.5662\n",
            "Epoch 307: train RMSE 76.7254, test RMSE 184.5523\n",
            "Epoch 308: train RMSE 76.7157, test RMSE 184.5383\n",
            "Epoch 309: train RMSE 76.7060, test RMSE 184.5244\n",
            "Epoch 310: train RMSE 76.6964, test RMSE 184.5103\n",
            "Epoch 311: train RMSE 76.6867, test RMSE 184.4963\n",
            "Epoch 312: train RMSE 76.6771, test RMSE 184.4823\n",
            "Epoch 313: train RMSE 76.6675, test RMSE 184.4682\n",
            "Epoch 314: train RMSE 76.6579, test RMSE 184.4540\n",
            "Epoch 315: train RMSE 76.6483, test RMSE 184.4399\n",
            "Epoch 316: train RMSE 76.6387, test RMSE 184.4259\n",
            "Epoch 317: train RMSE 76.6291, test RMSE 184.4118\n",
            "Epoch 318: train RMSE 76.6196, test RMSE 184.3976\n",
            "Epoch 319: train RMSE 76.6100, test RMSE 184.3834\n",
            "Epoch 320: train RMSE 76.6005, test RMSE 184.3691\n",
            "Epoch 321: train RMSE 76.5910, test RMSE 184.3548\n",
            "Epoch 322: train RMSE 76.5815, test RMSE 184.3404\n",
            "Epoch 323: train RMSE 76.5721, test RMSE 184.3261\n",
            "Epoch 324: train RMSE 76.5626, test RMSE 184.3117\n",
            "Epoch 325: train RMSE 76.5532, test RMSE 184.2973\n",
            "Epoch 326: train RMSE 76.5438, test RMSE 184.2829\n",
            "Epoch 327: train RMSE 76.5344, test RMSE 184.2685\n",
            "Epoch 328: train RMSE 76.5250, test RMSE 184.2540\n",
            "Epoch 329: train RMSE 76.5156, test RMSE 184.2395\n",
            "Epoch 330: train RMSE 76.5062, test RMSE 184.2250\n",
            "Epoch 331: train RMSE 76.4969, test RMSE 184.2105\n",
            "Epoch 332: train RMSE 76.4875, test RMSE 184.1960\n",
            "Epoch 333: train RMSE 76.4782, test RMSE 184.1815\n",
            "Epoch 334: train RMSE 76.4689, test RMSE 184.1670\n",
            "Epoch 335: train RMSE 76.4596, test RMSE 184.1524\n",
            "Epoch 336: train RMSE 76.4503, test RMSE 184.1379\n",
            "Epoch 337: train RMSE 76.4410, test RMSE 184.1233\n",
            "Epoch 338: train RMSE 76.4317, test RMSE 184.1087\n",
            "Epoch 339: train RMSE 76.4225, test RMSE 184.0940\n",
            "Epoch 340: train RMSE 76.4132, test RMSE 184.0794\n",
            "Epoch 341: train RMSE 76.4040, test RMSE 184.0648\n",
            "Epoch 342: train RMSE 76.3948, test RMSE 184.0500\n",
            "Epoch 343: train RMSE 76.3856, test RMSE 184.0353\n",
            "Epoch 344: train RMSE 76.3764, test RMSE 184.0206\n",
            "Epoch 345: train RMSE 76.3672, test RMSE 184.0058\n",
            "Epoch 346: train RMSE 76.3581, test RMSE 183.9910\n",
            "Epoch 347: train RMSE 76.3489, test RMSE 183.9762\n",
            "Epoch 348: train RMSE 76.3398, test RMSE 183.9614\n",
            "Epoch 349: train RMSE 76.3306, test RMSE 183.9466\n",
            "Epoch 350: train RMSE 76.3215, test RMSE 183.9318\n",
            "Epoch 351: train RMSE 76.3124, test RMSE 183.9169\n",
            "Epoch 352: train RMSE 76.3033, test RMSE 183.9021\n",
            "Epoch 353: train RMSE 76.2942, test RMSE 183.8872\n",
            "Epoch 354: train RMSE 76.2851, test RMSE 183.8723\n",
            "Epoch 355: train RMSE 76.2761, test RMSE 183.8572\n",
            "Epoch 356: train RMSE 76.2670, test RMSE 183.8423\n",
            "Epoch 357: train RMSE 76.2580, test RMSE 183.8273\n",
            "Epoch 358: train RMSE 76.2490, test RMSE 183.8123\n",
            "Epoch 359: train RMSE 76.2400, test RMSE 183.7973\n",
            "Epoch 360: train RMSE 76.2310, test RMSE 183.7822\n",
            "Epoch 361: train RMSE 76.2220, test RMSE 183.7672\n",
            "Epoch 362: train RMSE 76.2130, test RMSE 183.7521\n",
            "Epoch 363: train RMSE 76.2040, test RMSE 183.7371\n",
            "Epoch 364: train RMSE 76.1950, test RMSE 183.7220\n",
            "Epoch 365: train RMSE 76.1861, test RMSE 183.7070\n",
            "Epoch 366: train RMSE 76.1771, test RMSE 183.6918\n",
            "Epoch 367: train RMSE 76.1682, test RMSE 183.6767\n",
            "Epoch 368: train RMSE 76.1593, test RMSE 183.6615\n",
            "Epoch 369: train RMSE 76.1504, test RMSE 183.6462\n",
            "Epoch 370: train RMSE 76.1415, test RMSE 183.6310\n",
            "Epoch 371: train RMSE 76.1326, test RMSE 183.6159\n",
            "Epoch 372: train RMSE 76.1237, test RMSE 183.6007\n",
            "Epoch 373: train RMSE 76.1148, test RMSE 183.5855\n",
            "Epoch 374: train RMSE 76.1060, test RMSE 183.5703\n",
            "Epoch 375: train RMSE 76.0971, test RMSE 183.5551\n",
            "Epoch 376: train RMSE 76.0882, test RMSE 183.5399\n",
            "Epoch 377: train RMSE 76.0794, test RMSE 183.5247\n",
            "Epoch 378: train RMSE 76.0706, test RMSE 183.5094\n",
            "Epoch 379: train RMSE 76.0618, test RMSE 183.4941\n",
            "Epoch 380: train RMSE 76.0529, test RMSE 183.4787\n",
            "Epoch 381: train RMSE 76.0441, test RMSE 183.4634\n",
            "Epoch 382: train RMSE 76.0354, test RMSE 183.4481\n",
            "Epoch 383: train RMSE 76.0266, test RMSE 183.4327\n",
            "Epoch 384: train RMSE 76.0178, test RMSE 183.4173\n",
            "Epoch 385: train RMSE 76.0090, test RMSE 183.4019\n",
            "Epoch 386: train RMSE 76.0003, test RMSE 183.3866\n",
            "Epoch 387: train RMSE 75.9915, test RMSE 183.3712\n",
            "Epoch 388: train RMSE 75.9828, test RMSE 183.3558\n",
            "Epoch 389: train RMSE 75.9741, test RMSE 183.3405\n",
            "Epoch 390: train RMSE 75.9653, test RMSE 183.3252\n",
            "Epoch 391: train RMSE 75.9566, test RMSE 183.3097\n",
            "Epoch 392: train RMSE 75.9479, test RMSE 183.2943\n",
            "Epoch 393: train RMSE 75.9392, test RMSE 183.2788\n",
            "Epoch 394: train RMSE 75.9305, test RMSE 183.2634\n",
            "Epoch 395: train RMSE 75.9219, test RMSE 183.2480\n",
            "Epoch 396: train RMSE 75.9132, test RMSE 183.2325\n",
            "Epoch 397: train RMSE 75.9045, test RMSE 183.2171\n",
            "Epoch 398: train RMSE 75.8959, test RMSE 183.2017\n",
            "Epoch 399: train RMSE 75.8872, test RMSE 183.1862\n",
            "Epoch 400: train RMSE 75.8786, test RMSE 183.1708\n",
            "Epoch 401: train RMSE 75.8699, test RMSE 183.1553\n",
            "Epoch 402: train RMSE 75.8613, test RMSE 183.1397\n",
            "Epoch 403: train RMSE 75.8527, test RMSE 183.1242\n",
            "Epoch 404: train RMSE 75.8441, test RMSE 183.1086\n",
            "Epoch 405: train RMSE 75.8355, test RMSE 183.0930\n",
            "Epoch 406: train RMSE 75.8269, test RMSE 183.0774\n",
            "Epoch 407: train RMSE 75.8183, test RMSE 183.0619\n",
            "Epoch 408: train RMSE 75.8097, test RMSE 183.0463\n",
            "Epoch 409: train RMSE 75.8012, test RMSE 183.0307\n",
            "Epoch 410: train RMSE 75.7926, test RMSE 183.0150\n",
            "Epoch 411: train RMSE 75.7841, test RMSE 182.9995\n",
            "Epoch 412: train RMSE 75.7755, test RMSE 182.9837\n",
            "Epoch 413: train RMSE 75.7670, test RMSE 182.9682\n",
            "Epoch 414: train RMSE 75.7584, test RMSE 182.9526\n",
            "Epoch 415: train RMSE 75.7499, test RMSE 182.9370\n",
            "Epoch 416: train RMSE 75.7414, test RMSE 182.9214\n",
            "Epoch 417: train RMSE 75.7329, test RMSE 182.9058\n",
            "Epoch 418: train RMSE 75.7244, test RMSE 182.8902\n",
            "Epoch 419: train RMSE 75.7159, test RMSE 182.8745\n",
            "Epoch 420: train RMSE 75.7074, test RMSE 182.8588\n",
            "Epoch 421: train RMSE 75.6989, test RMSE 182.8432\n",
            "Epoch 422: train RMSE 75.6904, test RMSE 182.8274\n",
            "Epoch 423: train RMSE 75.6820, test RMSE 182.8116\n",
            "Epoch 424: train RMSE 75.6735, test RMSE 182.7958\n",
            "Epoch 425: train RMSE 75.6651, test RMSE 182.7801\n",
            "Epoch 426: train RMSE 75.6566, test RMSE 182.7643\n",
            "Epoch 427: train RMSE 75.6482, test RMSE 182.7486\n",
            "Epoch 428: train RMSE 75.6397, test RMSE 182.7328\n",
            "Epoch 429: train RMSE 75.6313, test RMSE 182.7171\n",
            "Epoch 430: train RMSE 75.6229, test RMSE 182.7014\n",
            "Epoch 431: train RMSE 75.6145, test RMSE 182.6856\n",
            "Epoch 432: train RMSE 75.6061, test RMSE 182.6698\n",
            "Epoch 433: train RMSE 75.5977, test RMSE 182.6539\n",
            "Epoch 434: train RMSE 75.5893, test RMSE 182.6381\n",
            "Epoch 435: train RMSE 75.5809, test RMSE 182.6222\n",
            "Epoch 436: train RMSE 75.5725, test RMSE 182.6062\n",
            "Epoch 437: train RMSE 75.5642, test RMSE 182.5904\n",
            "Epoch 438: train RMSE 75.5558, test RMSE 182.5745\n",
            "Epoch 439: train RMSE 75.5475, test RMSE 182.5587\n",
            "Epoch 440: train RMSE 75.5391, test RMSE 182.5428\n",
            "Epoch 441: train RMSE 75.5308, test RMSE 182.5269\n",
            "Epoch 442: train RMSE 75.5224, test RMSE 182.5110\n",
            "Epoch 443: train RMSE 75.5141, test RMSE 182.4951\n",
            "Epoch 444: train RMSE 75.5058, test RMSE 182.4792\n",
            "Epoch 445: train RMSE 75.4974, test RMSE 182.4633\n",
            "Epoch 446: train RMSE 75.4891, test RMSE 182.4474\n",
            "Epoch 447: train RMSE 75.4808, test RMSE 182.4314\n",
            "Epoch 448: train RMSE 75.4725, test RMSE 182.4155\n",
            "Epoch 449: train RMSE 75.4642, test RMSE 182.3995\n",
            "Epoch 450: train RMSE 75.4559, test RMSE 182.3836\n",
            "Epoch 451: train RMSE 75.4476, test RMSE 182.3676\n",
            "Epoch 452: train RMSE 75.4394, test RMSE 182.3516\n",
            "Epoch 453: train RMSE 75.4311, test RMSE 182.3356\n",
            "Epoch 454: train RMSE 75.4228, test RMSE 182.3196\n",
            "Epoch 455: train RMSE 75.4146, test RMSE 182.3035\n",
            "Epoch 456: train RMSE 75.4063, test RMSE 182.2875\n",
            "Epoch 457: train RMSE 75.3980, test RMSE 182.2715\n",
            "Epoch 458: train RMSE 75.3898, test RMSE 182.2555\n",
            "Epoch 459: train RMSE 75.3816, test RMSE 182.2394\n",
            "Epoch 460: train RMSE 75.3733, test RMSE 182.2234\n",
            "Epoch 461: train RMSE 75.3651, test RMSE 182.2073\n",
            "Epoch 462: train RMSE 75.3569, test RMSE 182.1912\n",
            "Epoch 463: train RMSE 75.3487, test RMSE 182.1750\n",
            "Epoch 464: train RMSE 75.3405, test RMSE 182.1588\n",
            "Epoch 465: train RMSE 75.3323, test RMSE 182.1427\n",
            "Epoch 466: train RMSE 75.3241, test RMSE 182.1265\n",
            "Epoch 467: train RMSE 75.3159, test RMSE 182.1103\n",
            "Epoch 468: train RMSE 75.3077, test RMSE 182.0941\n",
            "Epoch 469: train RMSE 75.2995, test RMSE 182.0779\n",
            "Epoch 470: train RMSE 75.2914, test RMSE 182.0617\n",
            "Epoch 471: train RMSE 75.2832, test RMSE 182.0455\n",
            "Epoch 472: train RMSE 75.2750, test RMSE 182.0292\n",
            "Epoch 473: train RMSE 75.2669, test RMSE 182.0130\n",
            "Epoch 474: train RMSE 75.2587, test RMSE 181.9967\n",
            "Epoch 475: train RMSE 75.2506, test RMSE 181.9805\n",
            "Epoch 476: train RMSE 75.2424, test RMSE 181.9642\n",
            "Epoch 477: train RMSE 75.2343, test RMSE 181.9480\n",
            "Epoch 478: train RMSE 75.2262, test RMSE 181.9317\n",
            "Epoch 479: train RMSE 75.2180, test RMSE 181.9154\n",
            "Epoch 480: train RMSE 75.2099, test RMSE 181.8991\n",
            "Epoch 481: train RMSE 75.2018, test RMSE 181.8826\n",
            "Epoch 482: train RMSE 75.1937, test RMSE 181.8662\n",
            "Epoch 483: train RMSE 75.1856, test RMSE 181.8498\n",
            "Epoch 484: train RMSE 75.1775, test RMSE 181.8334\n",
            "Epoch 485: train RMSE 75.1694, test RMSE 181.8170\n",
            "Epoch 486: train RMSE 75.1613, test RMSE 181.8005\n",
            "Epoch 487: train RMSE 75.1532, test RMSE 181.7841\n",
            "Epoch 488: train RMSE 75.1451, test RMSE 181.7676\n",
            "Epoch 489: train RMSE 75.1370, test RMSE 181.7511\n",
            "Epoch 490: train RMSE 75.1290, test RMSE 181.7345\n",
            "Epoch 491: train RMSE 75.1209, test RMSE 181.7178\n",
            "Epoch 492: train RMSE 75.1129, test RMSE 181.7013\n",
            "Epoch 493: train RMSE 75.1048, test RMSE 181.6846\n",
            "Epoch 494: train RMSE 75.0968, test RMSE 181.6680\n",
            "Epoch 495: train RMSE 75.0887, test RMSE 181.6514\n",
            "Epoch 496: train RMSE 75.0807, test RMSE 181.6348\n",
            "Epoch 497: train RMSE 75.0727, test RMSE 181.6181\n",
            "Epoch 498: train RMSE 75.0646, test RMSE 181.6014\n",
            "Epoch 499: train RMSE 75.0566, test RMSE 181.5847\n",
            "Epoch 500: train RMSE 75.0486, test RMSE 181.5681\n",
            "Epoch 501: train RMSE 75.0406, test RMSE 181.5513\n",
            "Epoch 502: train RMSE 75.0326, test RMSE 181.5344\n",
            "Epoch 503: train RMSE 75.0246, test RMSE 181.5177\n",
            "Epoch 504: train RMSE 75.0165, test RMSE 181.5009\n",
            "Epoch 505: train RMSE 75.0086, test RMSE 181.4841\n",
            "Epoch 506: train RMSE 75.0006, test RMSE 181.4673\n",
            "Epoch 507: train RMSE 74.9926, test RMSE 181.4504\n",
            "Epoch 508: train RMSE 74.9846, test RMSE 181.4335\n",
            "Epoch 509: train RMSE 74.9766, test RMSE 181.4165\n",
            "Epoch 510: train RMSE 74.9686, test RMSE 181.3996\n",
            "Epoch 511: train RMSE 74.9607, test RMSE 181.3826\n",
            "Epoch 512: train RMSE 74.9527, test RMSE 181.3656\n",
            "Epoch 513: train RMSE 74.9447, test RMSE 181.3485\n",
            "Epoch 514: train RMSE 74.9368, test RMSE 181.3315\n",
            "Epoch 515: train RMSE 74.9288, test RMSE 181.3144\n",
            "Epoch 516: train RMSE 74.9209, test RMSE 181.2973\n",
            "Epoch 517: train RMSE 74.9129, test RMSE 181.2801\n",
            "Epoch 518: train RMSE 74.9050, test RMSE 181.2629\n",
            "Epoch 519: train RMSE 74.8970, test RMSE 181.2458\n",
            "Epoch 520: train RMSE 74.8891, test RMSE 181.2285\n",
            "Epoch 521: train RMSE 74.8812, test RMSE 181.2112\n",
            "Epoch 522: train RMSE 74.8733, test RMSE 181.1940\n",
            "Epoch 523: train RMSE 74.8653, test RMSE 181.1767\n",
            "Epoch 524: train RMSE 74.8574, test RMSE 181.1593\n",
            "Epoch 525: train RMSE 74.8495, test RMSE 181.1419\n",
            "Epoch 526: train RMSE 74.8416, test RMSE 181.1246\n",
            "Epoch 527: train RMSE 74.8337, test RMSE 181.1072\n",
            "Epoch 528: train RMSE 74.8258, test RMSE 181.0897\n",
            "Epoch 529: train RMSE 74.8179, test RMSE 181.0722\n",
            "Epoch 530: train RMSE 74.8100, test RMSE 181.0546\n",
            "Epoch 531: train RMSE 74.8021, test RMSE 181.0369\n",
            "Epoch 532: train RMSE 74.7942, test RMSE 181.0193\n",
            "Epoch 533: train RMSE 74.7863, test RMSE 181.0015\n",
            "Epoch 534: train RMSE 74.7785, test RMSE 180.9838\n",
            "Epoch 535: train RMSE 74.7706, test RMSE 180.9660\n",
            "Epoch 536: train RMSE 74.7627, test RMSE 180.9483\n",
            "Epoch 537: train RMSE 74.7549, test RMSE 180.9306\n",
            "Epoch 538: train RMSE 74.7470, test RMSE 180.9128\n",
            "Epoch 539: train RMSE 74.7391, test RMSE 180.8949\n",
            "Epoch 540: train RMSE 74.7312, test RMSE 180.8770\n",
            "Epoch 541: train RMSE 74.7234, test RMSE 180.8590\n",
            "Epoch 542: train RMSE 74.7155, test RMSE 180.8409\n",
            "Epoch 543: train RMSE 74.7077, test RMSE 180.8228\n",
            "Epoch 544: train RMSE 74.6998, test RMSE 180.8047\n",
            "Epoch 545: train RMSE 74.6920, test RMSE 180.7865\n",
            "Epoch 546: train RMSE 74.6842, test RMSE 180.7683\n",
            "Epoch 547: train RMSE 74.6763, test RMSE 180.7500\n",
            "Epoch 548: train RMSE 74.6685, test RMSE 180.7317\n",
            "Epoch 549: train RMSE 74.6607, test RMSE 180.7134\n",
            "Epoch 550: train RMSE 74.6528, test RMSE 180.6950\n",
            "Epoch 551: train RMSE 74.6450, test RMSE 180.6764\n",
            "Epoch 552: train RMSE 74.6372, test RMSE 180.6578\n",
            "Epoch 553: train RMSE 74.6294, test RMSE 180.6392\n",
            "Epoch 554: train RMSE 74.6216, test RMSE 180.6205\n",
            "Epoch 555: train RMSE 74.6137, test RMSE 180.6017\n",
            "Epoch 556: train RMSE 74.6059, test RMSE 180.5830\n",
            "Epoch 557: train RMSE 74.5981, test RMSE 180.5642\n",
            "Epoch 558: train RMSE 74.5903, test RMSE 180.5453\n",
            "Epoch 559: train RMSE 74.5825, test RMSE 180.5264\n",
            "Epoch 560: train RMSE 74.5747, test RMSE 180.5074\n",
            "Epoch 561: train RMSE 74.5669, test RMSE 180.4883\n",
            "Epoch 562: train RMSE 74.5591, test RMSE 180.4691\n",
            "Epoch 563: train RMSE 74.5513, test RMSE 180.4499\n",
            "Epoch 564: train RMSE 74.5435, test RMSE 180.4307\n",
            "Epoch 565: train RMSE 74.5357, test RMSE 180.4113\n",
            "Epoch 566: train RMSE 74.5279, test RMSE 180.3920\n",
            "Epoch 567: train RMSE 74.5201, test RMSE 180.3724\n",
            "Epoch 568: train RMSE 74.5124, test RMSE 180.3528\n",
            "Epoch 569: train RMSE 74.5046, test RMSE 180.3331\n",
            "Epoch 570: train RMSE 74.4968, test RMSE 180.3134\n",
            "Epoch 571: train RMSE 74.4890, test RMSE 180.2936\n",
            "Epoch 572: train RMSE 74.4812, test RMSE 180.2737\n",
            "Epoch 573: train RMSE 74.4734, test RMSE 180.2536\n",
            "Epoch 574: train RMSE 74.4657, test RMSE 180.2336\n",
            "Epoch 575: train RMSE 74.4579, test RMSE 180.2133\n",
            "Epoch 576: train RMSE 74.4501, test RMSE 180.1929\n",
            "Epoch 577: train RMSE 74.4424, test RMSE 180.1725\n",
            "Epoch 578: train RMSE 74.4346, test RMSE 180.1519\n",
            "Epoch 579: train RMSE 74.4268, test RMSE 180.1313\n",
            "Epoch 580: train RMSE 74.4190, test RMSE 180.1106\n",
            "Epoch 581: train RMSE 74.4113, test RMSE 180.0898\n",
            "Epoch 582: train RMSE 74.4035, test RMSE 180.0689\n",
            "Epoch 583: train RMSE 74.3957, test RMSE 180.0478\n",
            "Epoch 584: train RMSE 74.3880, test RMSE 180.0266\n",
            "Epoch 585: train RMSE 74.3802, test RMSE 180.0054\n",
            "Epoch 586: train RMSE 74.3724, test RMSE 179.9840\n",
            "Epoch 587: train RMSE 74.3647, test RMSE 179.9625\n",
            "Epoch 588: train RMSE 74.3569, test RMSE 179.9409\n",
            "Epoch 589: train RMSE 74.3491, test RMSE 179.9191\n",
            "Epoch 590: train RMSE 74.3413, test RMSE 179.8972\n",
            "Epoch 591: train RMSE 74.3335, test RMSE 179.8752\n",
            "Epoch 592: train RMSE 74.3257, test RMSE 179.8531\n",
            "Epoch 593: train RMSE 74.3180, test RMSE 179.8308\n",
            "Epoch 594: train RMSE 74.3102, test RMSE 179.8084\n",
            "Epoch 595: train RMSE 74.3024, test RMSE 179.7859\n",
            "Epoch 596: train RMSE 74.2946, test RMSE 179.7631\n",
            "Epoch 597: train RMSE 74.2868, test RMSE 179.7402\n",
            "Epoch 598: train RMSE 74.2790, test RMSE 179.7171\n",
            "Epoch 599: train RMSE 74.2712, test RMSE 179.6938\n",
            "Epoch 600: train RMSE 74.2634, test RMSE 179.6704\n",
            "Epoch 601: train RMSE 74.2555, test RMSE 179.6468\n",
            "Epoch 602: train RMSE 74.2477, test RMSE 179.6230\n",
            "Epoch 603: train RMSE 74.2399, test RMSE 179.5990\n",
            "Epoch 604: train RMSE 74.2321, test RMSE 179.5749\n",
            "Epoch 605: train RMSE 74.2242, test RMSE 179.5506\n",
            "Epoch 606: train RMSE 74.2164, test RMSE 179.5260\n",
            "Epoch 607: train RMSE 74.2085, test RMSE 179.5013\n",
            "Epoch 608: train RMSE 74.2006, test RMSE 179.4762\n",
            "Epoch 609: train RMSE 74.1928, test RMSE 179.4509\n",
            "Epoch 610: train RMSE 74.1849, test RMSE 179.4255\n",
            "Epoch 611: train RMSE 74.1770, test RMSE 179.3998\n",
            "Epoch 612: train RMSE 74.1691, test RMSE 179.3739\n",
            "Epoch 613: train RMSE 74.1612, test RMSE 179.3479\n",
            "Epoch 614: train RMSE 74.1532, test RMSE 179.3215\n",
            "Epoch 615: train RMSE 74.1453, test RMSE 179.2949\n",
            "Epoch 616: train RMSE 74.1373, test RMSE 179.2681\n",
            "Epoch 617: train RMSE 74.1293, test RMSE 179.2409\n",
            "Epoch 618: train RMSE 74.1214, test RMSE 179.2135\n",
            "Epoch 619: train RMSE 74.1133, test RMSE 179.1858\n",
            "Epoch 620: train RMSE 74.1053, test RMSE 179.1579\n",
            "Epoch 621: train RMSE 74.0972, test RMSE 179.1298\n",
            "Epoch 622: train RMSE 74.0891, test RMSE 179.1014\n",
            "Epoch 623: train RMSE 74.0810, test RMSE 179.0727\n",
            "Epoch 624: train RMSE 74.0728, test RMSE 179.0437\n",
            "Epoch 625: train RMSE 74.0646, test RMSE 179.0144\n",
            "Epoch 626: train RMSE 74.0564, test RMSE 178.9848\n",
            "Epoch 627: train RMSE 74.0482, test RMSE 178.9550\n",
            "Epoch 628: train RMSE 74.0399, test RMSE 178.9249\n",
            "Epoch 629: train RMSE 74.0315, test RMSE 178.8945\n",
            "Epoch 630: train RMSE 74.0232, test RMSE 178.8639\n",
            "Epoch 631: train RMSE 74.0147, test RMSE 178.8331\n",
            "Epoch 632: train RMSE 74.0062, test RMSE 178.8022\n",
            "Epoch 633: train RMSE 73.9977, test RMSE 178.7711\n",
            "Epoch 634: train RMSE 73.9891, test RMSE 178.7398\n",
            "Epoch 635: train RMSE 73.9804, test RMSE 178.7083\n",
            "Epoch 636: train RMSE 73.9717, test RMSE 178.6768\n",
            "Epoch 637: train RMSE 73.9628, test RMSE 178.6453\n",
            "Epoch 638: train RMSE 73.9539, test RMSE 178.6140\n",
            "Epoch 639: train RMSE 73.9449, test RMSE 178.5827\n",
            "Epoch 640: train RMSE 73.9358, test RMSE 178.5518\n",
            "Epoch 641: train RMSE 73.9266, test RMSE 178.5210\n",
            "Epoch 642: train RMSE 73.9172, test RMSE 178.4908\n",
            "Epoch 643: train RMSE 73.9078, test RMSE 178.4611\n",
            "Epoch 644: train RMSE 73.8982, test RMSE 178.4321\n",
            "Epoch 645: train RMSE 73.8885, test RMSE 178.4041\n",
            "Epoch 646: train RMSE 73.8786, test RMSE 178.3771\n",
            "Epoch 647: train RMSE 73.8685, test RMSE 178.3514\n",
            "Epoch 648: train RMSE 73.8583, test RMSE 178.3273\n",
            "Epoch 649: train RMSE 73.8478, test RMSE 178.3048\n",
            "Epoch 650: train RMSE 73.8371, test RMSE 178.2841\n",
            "Epoch 651: train RMSE 73.8262, test RMSE 178.2653\n",
            "Epoch 652: train RMSE 73.8151, test RMSE 178.2486\n",
            "Epoch 653: train RMSE 73.8037, test RMSE 178.2337\n",
            "Epoch 654: train RMSE 73.7920, test RMSE 178.2203\n",
            "Epoch 655: train RMSE 73.7800, test RMSE 178.2082\n",
            "Epoch 656: train RMSE 73.7677, test RMSE 178.1965\n",
            "Epoch 657: train RMSE 73.7551, test RMSE 178.1846\n",
            "Epoch 658: train RMSE 73.7421, test RMSE 178.1714\n",
            "Epoch 659: train RMSE 73.7287, test RMSE 178.1557\n",
            "Epoch 660: train RMSE 73.7149, test RMSE 178.1360\n",
            "Epoch 661: train RMSE 73.7007, test RMSE 178.1117\n",
            "Epoch 662: train RMSE 73.6860, test RMSE 178.0817\n",
            "Epoch 663: train RMSE 73.6709, test RMSE 178.0455\n",
            "Epoch 664: train RMSE 73.6554, test RMSE 178.0029\n",
            "Epoch 665: train RMSE 73.6393, test RMSE 177.9543\n",
            "Epoch 666: train RMSE 73.6227, test RMSE 177.9002\n",
            "Epoch 667: train RMSE 73.6057, test RMSE 177.8416\n",
            "Epoch 668: train RMSE 73.5880, test RMSE 177.7793\n",
            "Epoch 669: train RMSE 73.5699, test RMSE 177.7142\n",
            "Epoch 670: train RMSE 73.5513, test RMSE 177.6475\n",
            "Epoch 671: train RMSE 73.5321, test RMSE 177.5799\n",
            "Epoch 672: train RMSE 73.5124, test RMSE 177.5124\n",
            "Epoch 673: train RMSE 73.4921, test RMSE 177.4454\n",
            "Epoch 674: train RMSE 73.4714, test RMSE 177.3795\n",
            "Epoch 675: train RMSE 73.4501, test RMSE 177.3152\n",
            "Epoch 676: train RMSE 73.4284, test RMSE 177.2527\n",
            "Epoch 677: train RMSE 73.4061, test RMSE 177.1923\n",
            "Epoch 678: train RMSE 73.3834, test RMSE 177.1341\n",
            "Epoch 679: train RMSE 73.3603, test RMSE 177.0783\n",
            "Epoch 680: train RMSE 73.3367, test RMSE 177.0248\n",
            "Epoch 681: train RMSE 73.3126, test RMSE 176.9738\n",
            "Epoch 682: train RMSE 73.2882, test RMSE 176.9252\n",
            "Epoch 683: train RMSE 73.2634, test RMSE 176.8790\n",
            "Epoch 684: train RMSE 73.2383, test RMSE 176.8352\n",
            "Epoch 685: train RMSE 73.2127, test RMSE 176.7938\n",
            "Epoch 686: train RMSE 73.1869, test RMSE 176.7548\n",
            "Epoch 687: train RMSE 73.1607, test RMSE 176.7181\n",
            "Epoch 688: train RMSE 73.1343, test RMSE 176.6838\n",
            "Epoch 689: train RMSE 73.1075, test RMSE 176.6518\n",
            "Epoch 690: train RMSE 73.0805, test RMSE 176.6221\n",
            "Epoch 691: train RMSE 73.0532, test RMSE 176.5949\n",
            "Epoch 692: train RMSE 73.0256, test RMSE 176.5703\n",
            "Epoch 693: train RMSE 72.9978, test RMSE 176.5481\n",
            "Epoch 694: train RMSE 72.9697, test RMSE 176.5287\n",
            "Epoch 695: train RMSE 72.9414, test RMSE 176.5122\n",
            "Epoch 696: train RMSE 72.9129, test RMSE 176.4988\n",
            "Epoch 697: train RMSE 72.8841, test RMSE 176.4888\n",
            "Epoch 698: train RMSE 72.8551, test RMSE 176.4826\n",
            "Epoch 699: train RMSE 72.8257, test RMSE 176.4810\n",
            "Epoch 700: train RMSE 72.7962, test RMSE 176.4842\n",
            "Epoch 701: train RMSE 72.7663, test RMSE 176.4937\n",
            "Epoch 702: train RMSE 72.7363, test RMSE 176.5099\n",
            "Epoch 703: train RMSE 72.7057, test RMSE 176.5351\n",
            "Epoch 704: train RMSE 72.6751, test RMSE 176.5690\n",
            "Epoch 705: train RMSE 72.6437, test RMSE 176.6162\n",
            "Epoch 706: train RMSE 72.6125, test RMSE 176.6735\n",
            "Epoch 707: train RMSE 72.5800, test RMSE 176.7497\n",
            "Epoch 708: train RMSE 72.5482, test RMSE 176.8314\n",
            "Epoch 709: train RMSE 72.5148, test RMSE 176.9310\n",
            "Epoch 710: train RMSE 72.4843, test RMSE 177.0141\n",
            "Epoch 711: train RMSE 72.4644, test RMSE 177.0177\n",
            "Epoch 712: train RMSE 72.5148, test RMSE 176.6770\n",
            "Epoch 713: train RMSE 72.3389, test RMSE 177.5294\n",
            "Epoch 714: train RMSE 72.8565, test RMSE 176.0390\n",
            "Epoch 715: train RMSE 72.2432, test RMSE 177.7823\n",
            "Epoch 716: train RMSE 72.2264, test RMSE 177.6792\n",
            "Epoch 717: train RMSE 72.6117, test RMSE 176.3120\n",
            "Epoch 718: train RMSE 72.1387, test RMSE 177.7794\n",
            "Epoch 719: train RMSE 72.1543, test RMSE 177.6022\n",
            "Epoch 720: train RMSE 71.9996, test RMSE 177.9104\n",
            "Epoch 721: train RMSE 72.2067, test RMSE 177.2420\n",
            "Epoch 722: train RMSE 71.7467, test RMSE 178.1320\n",
            "Epoch 723: train RMSE 72.0310, test RMSE 177.4792\n",
            "Epoch 724: train RMSE 71.5373, test RMSE 178.2440\n",
            "Epoch 725: train RMSE 71.8121, test RMSE 177.6415\n",
            "Epoch 726: train RMSE 71.3330, test RMSE 178.3001\n",
            "Epoch 727: train RMSE 71.4223, test RMSE 177.7858\n",
            "Epoch 728: train RMSE 71.1851, test RMSE 178.1056\n",
            "Epoch 729: train RMSE 70.8472, test RMSE 178.8029\n",
            "Epoch 730: train RMSE 70.8391, test RMSE 178.4189\n",
            "Epoch 731: train RMSE 70.5746, test RMSE 178.5138\n",
            "Epoch 732: train RMSE 70.7016, test RMSE 178.0932\n",
            "Epoch 733: train RMSE 70.3592, test RMSE 178.1419\n",
            "Epoch 734: train RMSE 70.6348, test RMSE 177.7615\n",
            "Epoch 735: train RMSE 70.1456, test RMSE 177.8295\n",
            "Epoch 736: train RMSE 70.5241, test RMSE 177.5241\n",
            "Epoch 737: train RMSE 69.9105, test RMSE 177.5780\n",
            "Epoch 738: train RMSE 70.6918, test RMSE 177.1728\n",
            "Epoch 739: train RMSE 69.6856, test RMSE 177.4440\n",
            "Epoch 740: train RMSE 72.1096, test RMSE 175.4884\n",
            "Epoch 741: train RMSE 69.7204, test RMSE 177.3983\n",
            "Epoch 742: train RMSE 69.6388, test RMSE 177.1390\n",
            "Epoch 743: train RMSE 73.3040, test RMSE 174.9887\n",
            "Epoch 744: train RMSE 73.2328, test RMSE 175.0938\n",
            "Epoch 745: train RMSE 72.5269, test RMSE 175.1776\n",
            "Epoch 746: train RMSE 69.7244, test RMSE 177.4416\n",
            "Epoch 747: train RMSE 69.2537, test RMSE 177.5175\n",
            "Epoch 748: train RMSE 73.2270, test RMSE 174.9719\n",
            "Epoch 749: train RMSE 73.2406, test RMSE 174.9815\n",
            "Epoch 750: train RMSE 72.8323, test RMSE 175.3600\n",
            "Epoch 751: train RMSE 71.3437, test RMSE 176.2403\n",
            "Epoch 752: train RMSE 68.9967, test RMSE 178.3186\n",
            "Epoch 753: train RMSE 68.9779, test RMSE 177.8135\n",
            "Epoch 754: train RMSE 69.4458, test RMSE 176.9842\n",
            "Epoch 755: train RMSE 68.7714, test RMSE 177.4081\n",
            "Epoch 756: train RMSE 68.9757, test RMSE 176.5952\n",
            "Epoch 757: train RMSE 68.6107, test RMSE 176.8857\n",
            "Epoch 758: train RMSE 68.8626, test RMSE 176.0531\n",
            "Epoch 759: train RMSE 68.4379, test RMSE 176.4921\n",
            "Epoch 760: train RMSE 68.8282, test RMSE 175.5458\n",
            "Epoch 761: train RMSE 68.2725, test RMSE 176.1727\n",
            "Epoch 762: train RMSE 68.7947, test RMSE 175.1418\n",
            "Epoch 763: train RMSE 68.1182, test RMSE 175.9002\n",
            "Epoch 764: train RMSE 68.8100, test RMSE 174.8087\n",
            "Epoch 765: train RMSE 67.9806, test RMSE 175.6554\n",
            "Epoch 766: train RMSE 69.0172, test RMSE 174.5620\n",
            "Epoch 767: train RMSE 67.8496, test RMSE 175.5301\n",
            "Epoch 768: train RMSE 69.4000, test RMSE 174.4693\n",
            "Epoch 769: train RMSE 67.6832, test RMSE 175.7437\n",
            "Epoch 770: train RMSE 68.8239, test RMSE 174.3471\n",
            "Epoch 771: train RMSE 67.5854, test RMSE 175.5192\n",
            "Epoch 772: train RMSE 68.9844, test RMSE 174.1662\n",
            "Epoch 773: train RMSE 67.4559, test RMSE 175.5122\n",
            "Epoch 774: train RMSE 68.7148, test RMSE 173.9985\n",
            "Epoch 775: train RMSE 67.3525, test RMSE 175.3581\n",
            "Epoch 776: train RMSE 68.6641, test RMSE 173.8147\n",
            "Epoch 777: train RMSE 67.2451, test RMSE 175.2574\n",
            "Epoch 778: train RMSE 68.4941, test RMSE 173.6440\n",
            "Epoch 779: train RMSE 67.1477, test RMSE 175.1147\n",
            "Epoch 780: train RMSE 68.3733, test RMSE 173.4723\n",
            "Epoch 781: train RMSE 67.0537, test RMSE 174.9769\n",
            "Epoch 782: train RMSE 68.2328, test RMSE 173.3105\n",
            "Epoch 783: train RMSE 66.9655, test RMSE 174.8283\n",
            "Epoch 784: train RMSE 68.0936, test RMSE 173.1563\n",
            "Epoch 785: train RMSE 66.8825, test RMSE 174.6740\n",
            "Epoch 786: train RMSE 67.9553, test RMSE 173.0107\n",
            "Epoch 787: train RMSE 66.8046, test RMSE 174.5162\n",
            "Epoch 788: train RMSE 67.8191, test RMSE 172.8745\n",
            "Epoch 789: train RMSE 66.7314, test RMSE 174.3579\n",
            "Epoch 790: train RMSE 67.6875, test RMSE 172.7479\n",
            "Epoch 791: train RMSE 66.6625, test RMSE 174.2032\n",
            "Epoch 792: train RMSE 67.5616, test RMSE 172.6309\n",
            "Epoch 793: train RMSE 66.5974, test RMSE 174.0559\n",
            "Epoch 794: train RMSE 67.4418, test RMSE 172.5239\n",
            "Epoch 795: train RMSE 66.5356, test RMSE 173.9190\n",
            "Epoch 796: train RMSE 67.3275, test RMSE 172.4268\n",
            "Epoch 797: train RMSE 66.4767, test RMSE 173.7940\n",
            "Epoch 798: train RMSE 67.2183, test RMSE 172.3393\n",
            "Epoch 799: train RMSE 66.4203, test RMSE 173.6808\n",
            "Epoch 800: train RMSE 67.1129, test RMSE 172.2617\n",
            "Epoch 801: train RMSE 66.3662, test RMSE 173.5782\n",
            "Epoch 802: train RMSE 67.0108, test RMSE 172.1936\n",
            "Epoch 803: train RMSE 66.3142, test RMSE 173.4849\n",
            "Epoch 804: train RMSE 66.9112, test RMSE 172.1353\n",
            "Epoch 805: train RMSE 66.2644, test RMSE 173.3983\n",
            "Epoch 806: train RMSE 66.8138, test RMSE 172.0871\n",
            "Epoch 807: train RMSE 66.2165, test RMSE 173.3165\n",
            "Epoch 808: train RMSE 66.7182, test RMSE 172.0492\n",
            "Epoch 809: train RMSE 66.1705, test RMSE 173.2374\n",
            "Epoch 810: train RMSE 66.6242, test RMSE 172.0230\n",
            "Epoch 811: train RMSE 66.1264, test RMSE 173.1589\n",
            "Epoch 812: train RMSE 66.5316, test RMSE 172.0090\n",
            "Epoch 813: train RMSE 66.0842, test RMSE 173.0791\n",
            "Epoch 814: train RMSE 66.4402, test RMSE 172.0083\n",
            "Epoch 815: train RMSE 66.0439, test RMSE 172.9966\n",
            "Epoch 816: train RMSE 66.3502, test RMSE 172.0217\n",
            "Epoch 817: train RMSE 66.0054, test RMSE 172.9104\n",
            "Epoch 818: train RMSE 66.2615, test RMSE 172.0491\n",
            "Epoch 819: train RMSE 65.9686, test RMSE 172.8206\n",
            "Epoch 820: train RMSE 66.1746, test RMSE 172.0887\n",
            "Epoch 821: train RMSE 65.9330, test RMSE 172.7283\n",
            "Epoch 822: train RMSE 66.0899, test RMSE 172.1370\n",
            "Epoch 823: train RMSE 65.8979, test RMSE 172.6362\n",
            "Epoch 824: train RMSE 66.0081, test RMSE 172.1877\n",
            "Epoch 825: train RMSE 65.8615, test RMSE 172.5485\n",
            "Epoch 826: train RMSE 65.9297, test RMSE 172.2331\n",
            "Epoch 827: train RMSE 65.8224, test RMSE 172.4688\n",
            "Epoch 828: train RMSE 65.8550, test RMSE 172.2659\n",
            "Epoch 829: train RMSE 65.7785, test RMSE 172.3998\n",
            "Epoch 830: train RMSE 65.7837, test RMSE 172.2800\n",
            "Epoch 831: train RMSE 65.7286, test RMSE 172.3406\n",
            "Epoch 832: train RMSE 65.7150, test RMSE 172.2731\n",
            "Epoch 833: train RMSE 65.6724, test RMSE 172.2869\n",
            "Epoch 834: train RMSE 65.6474, test RMSE 172.2452\n",
            "Epoch 835: train RMSE 65.6106, test RMSE 172.2318\n",
            "Epoch 836: train RMSE 65.5792, test RMSE 172.1977\n",
            "Epoch 837: train RMSE 65.5438, test RMSE 172.1686\n",
            "Epoch 838: train RMSE 65.5089, test RMSE 172.1313\n",
            "Epoch 839: train RMSE 65.4725, test RMSE 172.0913\n",
            "Epoch 840: train RMSE 65.4352, test RMSE 172.0463\n",
            "Epoch 841: train RMSE 65.3969, test RMSE 171.9964\n",
            "Epoch 842: train RMSE 65.3572, test RMSE 171.9416\n",
            "Epoch 843: train RMSE 65.3164, test RMSE 171.8816\n",
            "Epoch 844: train RMSE 65.2741, test RMSE 171.8163\n",
            "Epoch 845: train RMSE 65.2304, test RMSE 171.7456\n",
            "Epoch 846: train RMSE 65.1852, test RMSE 171.6692\n",
            "Epoch 847: train RMSE 65.1383, test RMSE 171.5876\n",
            "Epoch 848: train RMSE 65.0896, test RMSE 171.5001\n",
            "Epoch 849: train RMSE 65.0391, test RMSE 171.4071\n",
            "Epoch 850: train RMSE 64.9865, test RMSE 171.3085\n",
            "Epoch 851: train RMSE 64.9318, test RMSE 171.2043\n",
            "Epoch 852: train RMSE 64.8750, test RMSE 171.0946\n",
            "Epoch 853: train RMSE 64.8157, test RMSE 170.9799\n",
            "Epoch 854: train RMSE 64.7541, test RMSE 170.8604\n",
            "Epoch 855: train RMSE 64.6899, test RMSE 170.7368\n",
            "Epoch 856: train RMSE 64.6232, test RMSE 170.6100\n",
            "Epoch 857: train RMSE 64.5538, test RMSE 170.4812\n",
            "Epoch 858: train RMSE 64.4817, test RMSE 170.3521\n",
            "Epoch 859: train RMSE 64.4069, test RMSE 170.2248\n",
            "Epoch 860: train RMSE 64.3293, test RMSE 170.1015\n",
            "Epoch 861: train RMSE 64.2491, test RMSE 169.9850\n",
            "Epoch 862: train RMSE 64.1661, test RMSE 169.8777\n",
            "Epoch 863: train RMSE 64.0805, test RMSE 169.7807\n",
            "Epoch 864: train RMSE 63.9922, test RMSE 169.6950\n",
            "Epoch 865: train RMSE 63.9013, test RMSE 169.6186\n",
            "Epoch 866: train RMSE 63.8079, test RMSE 169.5487\n",
            "Epoch 867: train RMSE 63.7120, test RMSE 169.4823\n",
            "Epoch 868: train RMSE 63.6137, test RMSE 169.4167\n",
            "Epoch 869: train RMSE 63.5130, test RMSE 169.3517\n",
            "Epoch 870: train RMSE 63.4102, test RMSE 169.2888\n",
            "Epoch 871: train RMSE 63.3053, test RMSE 169.2299\n",
            "Epoch 872: train RMSE 63.1988, test RMSE 169.1758\n",
            "Epoch 873: train RMSE 63.0908, test RMSE 169.1255\n",
            "Epoch 874: train RMSE 62.9820, test RMSE 169.0751\n",
            "Epoch 875: train RMSE 62.8728, test RMSE 169.0190\n",
            "Epoch 876: train RMSE 62.7639, test RMSE 168.9503\n",
            "Epoch 877: train RMSE 62.6561, test RMSE 168.8615\n",
            "Epoch 878: train RMSE 62.5504, test RMSE 168.7453\n",
            "Epoch 879: train RMSE 62.4475, test RMSE 168.5958\n",
            "Epoch 880: train RMSE 62.3484, test RMSE 168.4097\n",
            "Epoch 881: train RMSE 62.2539, test RMSE 168.1874\n",
            "Epoch 882: train RMSE 62.1648, test RMSE 167.9329\n",
            "Epoch 883: train RMSE 62.0816, test RMSE 167.6535\n",
            "Epoch 884: train RMSE 62.0045, test RMSE 167.3568\n",
            "Epoch 885: train RMSE 61.9337, test RMSE 167.0516\n",
            "Epoch 886: train RMSE 61.8690, test RMSE 166.7450\n",
            "Epoch 887: train RMSE 61.8101, test RMSE 166.4426\n",
            "Epoch 888: train RMSE 61.7566, test RMSE 166.1489\n",
            "Epoch 889: train RMSE 61.7080, test RMSE 165.8665\n",
            "Epoch 890: train RMSE 61.6638, test RMSE 165.5972\n",
            "Epoch 891: train RMSE 61.6235, test RMSE 165.3412\n",
            "Epoch 892: train RMSE 61.5866, test RMSE 165.0986\n",
            "Epoch 893: train RMSE 61.5526, test RMSE 164.8690\n",
            "Epoch 894: train RMSE 61.5210, test RMSE 164.6517\n",
            "Epoch 895: train RMSE 61.4916, test RMSE 164.4455\n",
            "Epoch 896: train RMSE 61.4641, test RMSE 164.2498\n",
            "Epoch 897: train RMSE 61.4380, test RMSE 164.0637\n",
            "Epoch 898: train RMSE 61.4133, test RMSE 163.8862\n",
            "Epoch 899: train RMSE 61.3897, test RMSE 163.7165\n",
            "Epoch 900: train RMSE 61.3670, test RMSE 163.5542\n",
            "Epoch 901: train RMSE 61.3450, test RMSE 163.3985\n",
            "Epoch 902: train RMSE 61.3237, test RMSE 163.2488\n",
            "Epoch 903: train RMSE 61.3029, test RMSE 163.1048\n",
            "Epoch 904: train RMSE 61.2826, test RMSE 162.9659\n",
            "Epoch 905: train RMSE 61.2626, test RMSE 162.8317\n",
            "Epoch 906: train RMSE 61.2429, test RMSE 162.7021\n",
            "Epoch 907: train RMSE 61.2234, test RMSE 162.5765\n",
            "Epoch 908: train RMSE 61.2041, test RMSE 162.4548\n",
            "Epoch 909: train RMSE 61.1849, test RMSE 162.3367\n",
            "Epoch 910: train RMSE 61.1659, test RMSE 162.2220\n",
            "Epoch 911: train RMSE 61.1468, test RMSE 162.1106\n",
            "Epoch 912: train RMSE 61.1278, test RMSE 162.0021\n",
            "Epoch 913: train RMSE 61.1088, test RMSE 161.8965\n",
            "Epoch 914: train RMSE 61.0898, test RMSE 161.7935\n",
            "Epoch 915: train RMSE 61.0708, test RMSE 161.6931\n",
            "Epoch 916: train RMSE 61.0516, test RMSE 161.5952\n",
            "Epoch 917: train RMSE 61.0324, test RMSE 161.4995\n",
            "Epoch 918: train RMSE 61.0132, test RMSE 161.4059\n",
            "Epoch 919: train RMSE 60.9938, test RMSE 161.3144\n",
            "Epoch 920: train RMSE 60.9743, test RMSE 161.2247\n",
            "Epoch 921: train RMSE 60.9547, test RMSE 161.1370\n",
            "Epoch 922: train RMSE 60.9350, test RMSE 161.0509\n",
            "Epoch 923: train RMSE 60.9151, test RMSE 160.9664\n",
            "Epoch 924: train RMSE 60.8950, test RMSE 160.8835\n",
            "Epoch 925: train RMSE 60.8749, test RMSE 160.8021\n",
            "Epoch 926: train RMSE 60.8545, test RMSE 160.7220\n",
            "Epoch 927: train RMSE 60.8340, test RMSE 160.6432\n",
            "Epoch 928: train RMSE 60.8134, test RMSE 160.5657\n",
            "Epoch 929: train RMSE 60.7925, test RMSE 160.4893\n",
            "Epoch 930: train RMSE 60.7715, test RMSE 160.4139\n",
            "Epoch 931: train RMSE 60.7502, test RMSE 160.3397\n",
            "Epoch 932: train RMSE 60.7288, test RMSE 160.2663\n",
            "Epoch 933: train RMSE 60.7072, test RMSE 160.1939\n",
            "Epoch 934: train RMSE 60.6853, test RMSE 160.1224\n",
            "Epoch 935: train RMSE 60.6633, test RMSE 160.0515\n",
            "Epoch 936: train RMSE 60.6411, test RMSE 159.9815\n",
            "Epoch 937: train RMSE 60.6186, test RMSE 159.9121\n",
            "Epoch 938: train RMSE 60.5959, test RMSE 159.8434\n",
            "Epoch 939: train RMSE 60.5729, test RMSE 159.7753\n",
            "Epoch 940: train RMSE 60.5498, test RMSE 159.7074\n",
            "Epoch 941: train RMSE 60.5263, test RMSE 159.6402\n",
            "Epoch 942: train RMSE 60.5027, test RMSE 159.5734\n",
            "Epoch 943: train RMSE 60.4788, test RMSE 159.5071\n",
            "Epoch 944: train RMSE 60.4546, test RMSE 159.4410\n",
            "Epoch 945: train RMSE 60.4301, test RMSE 159.3753\n",
            "Epoch 946: train RMSE 60.4054, test RMSE 159.3097\n",
            "Epoch 947: train RMSE 60.3804, test RMSE 159.2444\n",
            "Epoch 948: train RMSE 60.3551, test RMSE 159.1793\n",
            "Epoch 949: train RMSE 60.3295, test RMSE 159.1144\n",
            "Epoch 950: train RMSE 60.3036, test RMSE 159.0494\n",
            "Epoch 951: train RMSE 60.2773, test RMSE 158.9846\n",
            "Epoch 952: train RMSE 60.2508, test RMSE 158.9198\n",
            "Epoch 953: train RMSE 60.2239, test RMSE 158.8548\n",
            "Epoch 954: train RMSE 60.1967, test RMSE 158.7899\n",
            "Epoch 955: train RMSE 60.1691, test RMSE 158.7248\n",
            "Epoch 956: train RMSE 60.1412, test RMSE 158.6596\n",
            "Epoch 957: train RMSE 60.1129, test RMSE 158.5942\n",
            "Epoch 958: train RMSE 60.0842, test RMSE 158.5286\n",
            "Epoch 959: train RMSE 60.0551, test RMSE 158.4628\n",
            "Epoch 960: train RMSE 60.0256, test RMSE 158.3965\n",
            "Epoch 961: train RMSE 59.9957, test RMSE 158.3300\n",
            "Epoch 962: train RMSE 59.9654, test RMSE 158.2631\n",
            "Epoch 963: train RMSE 59.9346, test RMSE 158.1958\n",
            "Epoch 964: train RMSE 59.9033, test RMSE 158.1279\n",
            "Epoch 965: train RMSE 59.8716, test RMSE 158.0596\n",
            "Epoch 966: train RMSE 59.8393, test RMSE 157.9908\n",
            "Epoch 967: train RMSE 59.8066, test RMSE 157.9213\n",
            "Epoch 968: train RMSE 59.7733, test RMSE 157.8511\n",
            "Epoch 969: train RMSE 59.7395, test RMSE 157.7803\n",
            "Epoch 970: train RMSE 59.7051, test RMSE 157.7088\n",
            "Epoch 971: train RMSE 59.6702, test RMSE 157.6364\n",
            "Epoch 972: train RMSE 59.6346, test RMSE 157.5634\n",
            "Epoch 973: train RMSE 59.5984, test RMSE 157.4894\n",
            "Epoch 974: train RMSE 59.5616, test RMSE 157.4145\n",
            "Epoch 975: train RMSE 59.5241, test RMSE 157.3387\n",
            "Epoch 976: train RMSE 59.4860, test RMSE 157.2618\n",
            "Epoch 977: train RMSE 59.4471, test RMSE 157.1840\n",
            "Epoch 978: train RMSE 59.4075, test RMSE 157.1050\n",
            "Epoch 979: train RMSE 59.3671, test RMSE 157.0248\n",
            "Epoch 980: train RMSE 59.3260, test RMSE 156.9436\n",
            "Epoch 981: train RMSE 59.2840, test RMSE 156.8611\n",
            "Epoch 982: train RMSE 59.2412, test RMSE 156.7773\n",
            "Epoch 983: train RMSE 59.1976, test RMSE 156.6921\n",
            "Epoch 984: train RMSE 59.1531, test RMSE 156.6056\n",
            "Epoch 985: train RMSE 59.1077, test RMSE 156.5177\n",
            "Epoch 986: train RMSE 59.0613, test RMSE 156.4284\n",
            "Epoch 987: train RMSE 59.0140, test RMSE 156.3376\n",
            "Epoch 988: train RMSE 58.9657, test RMSE 156.2453\n",
            "Epoch 989: train RMSE 58.9164, test RMSE 156.1512\n",
            "Epoch 990: train RMSE 58.8660, test RMSE 156.0556\n",
            "Epoch 991: train RMSE 58.8147, test RMSE 155.9584\n",
            "Epoch 992: train RMSE 58.7622, test RMSE 155.8596\n",
            "Epoch 993: train RMSE 58.7086, test RMSE 155.7591\n",
            "Epoch 994: train RMSE 58.6539, test RMSE 155.6569\n",
            "Epoch 995: train RMSE 58.5981, test RMSE 155.5528\n",
            "Epoch 996: train RMSE 58.5412, test RMSE 155.4471\n",
            "Epoch 997: train RMSE 58.4832, test RMSE 155.3397\n",
            "Epoch 998: train RMSE 58.4240, test RMSE 155.2304\n",
            "Epoch 999: train RMSE 58.3637, test RMSE 155.1197\n",
            "Epoch 1000: train RMSE 58.3023, test RMSE 155.0070\n",
            "Epoch 1001: train RMSE 58.2398, test RMSE 154.8925\n",
            "Epoch 1002: train RMSE 58.1762, test RMSE 154.7766\n",
            "Epoch 1003: train RMSE 58.1116, test RMSE 154.6588\n",
            "Epoch 1004: train RMSE 58.0461, test RMSE 154.5395\n",
            "Epoch 1005: train RMSE 57.9797, test RMSE 154.4187\n",
            "Epoch 1006: train RMSE 57.9124, test RMSE 154.2962\n",
            "Epoch 1007: train RMSE 57.8444, test RMSE 154.1723\n",
            "Epoch 1008: train RMSE 57.7757, test RMSE 154.0472\n",
            "Epoch 1009: train RMSE 57.7064, test RMSE 153.9209\n",
            "Epoch 1010: train RMSE 57.6367, test RMSE 153.7934\n",
            "Epoch 1011: train RMSE 57.5667, test RMSE 153.6649\n",
            "Epoch 1012: train RMSE 57.4966, test RMSE 153.5354\n",
            "Epoch 1013: train RMSE 57.4264, test RMSE 153.4053\n",
            "Epoch 1014: train RMSE 57.3563, test RMSE 153.2747\n",
            "Epoch 1015: train RMSE 57.2866, test RMSE 153.1439\n",
            "Epoch 1016: train RMSE 57.2172, test RMSE 153.0132\n",
            "Epoch 1017: train RMSE 57.1485, test RMSE 152.8824\n",
            "Epoch 1018: train RMSE 57.0806, test RMSE 152.7520\n",
            "Epoch 1019: train RMSE 57.0135, test RMSE 152.6224\n",
            "Epoch 1020: train RMSE 56.9474, test RMSE 152.4938\n",
            "Epoch 1021: train RMSE 56.8826, test RMSE 152.3665\n",
            "Epoch 1022: train RMSE 56.8189, test RMSE 152.2406\n",
            "Epoch 1023: train RMSE 56.7566, test RMSE 152.1166\n",
            "Epoch 1024: train RMSE 56.6957, test RMSE 151.9947\n",
            "Epoch 1025: train RMSE 56.6362, test RMSE 151.8749\n",
            "Epoch 1026: train RMSE 56.5782, test RMSE 151.7577\n",
            "Epoch 1027: train RMSE 56.5217, test RMSE 151.6432\n",
            "Epoch 1028: train RMSE 56.4666, test RMSE 151.5317\n",
            "Epoch 1029: train RMSE 56.4130, test RMSE 151.4230\n",
            "Epoch 1030: train RMSE 56.3607, test RMSE 151.3175\n",
            "Epoch 1031: train RMSE 56.3098, test RMSE 151.2153\n",
            "Epoch 1032: train RMSE 56.2602, test RMSE 151.1160\n",
            "Epoch 1033: train RMSE 56.2117, test RMSE 151.0201\n",
            "Epoch 1034: train RMSE 56.1644, test RMSE 150.9273\n",
            "Epoch 1035: train RMSE 56.1182, test RMSE 150.8377\n",
            "Epoch 1036: train RMSE 56.0730, test RMSE 150.7511\n",
            "Epoch 1037: train RMSE 56.0287, test RMSE 150.6672\n",
            "Epoch 1038: train RMSE 55.9853, test RMSE 150.5862\n",
            "Epoch 1039: train RMSE 55.9427, test RMSE 150.5082\n",
            "Epoch 1040: train RMSE 55.9008, test RMSE 150.4327\n",
            "Epoch 1041: train RMSE 55.8596, test RMSE 150.3594\n",
            "Epoch 1042: train RMSE 55.8190, test RMSE 150.2886\n",
            "Epoch 1043: train RMSE 55.7791, test RMSE 150.2198\n",
            "Epoch 1044: train RMSE 55.7397, test RMSE 150.1531\n",
            "Epoch 1045: train RMSE 55.7008, test RMSE 150.0883\n",
            "Epoch 1046: train RMSE 55.6625, test RMSE 150.0252\n",
            "Epoch 1047: train RMSE 55.6245, test RMSE 149.9636\n",
            "Epoch 1048: train RMSE 55.5870, test RMSE 149.9037\n",
            "Epoch 1049: train RMSE 55.5500, test RMSE 149.8451\n",
            "Epoch 1050: train RMSE 55.5133, test RMSE 149.7877\n",
            "Epoch 1051: train RMSE 55.4769, test RMSE 149.7315\n",
            "Epoch 1052: train RMSE 55.4409, test RMSE 149.6764\n",
            "Epoch 1053: train RMSE 55.4052, test RMSE 149.6225\n",
            "Epoch 1054: train RMSE 55.3699, test RMSE 149.5691\n",
            "Epoch 1055: train RMSE 55.3349, test RMSE 149.5166\n",
            "Epoch 1056: train RMSE 55.3001, test RMSE 149.4649\n",
            "Epoch 1057: train RMSE 55.2656, test RMSE 149.4139\n",
            "Epoch 1058: train RMSE 55.2314, test RMSE 149.3635\n",
            "Epoch 1059: train RMSE 55.1974, test RMSE 149.3136\n",
            "Epoch 1060: train RMSE 55.1637, test RMSE 149.2641\n",
            "Epoch 1061: train RMSE 55.1302, test RMSE 149.2149\n",
            "Epoch 1062: train RMSE 55.0969, test RMSE 149.1663\n",
            "Epoch 1063: train RMSE 55.0638, test RMSE 149.1181\n",
            "Epoch 1064: train RMSE 55.0309, test RMSE 149.0699\n",
            "Epoch 1065: train RMSE 54.9982, test RMSE 149.0220\n",
            "Epoch 1066: train RMSE 54.9657, test RMSE 148.9744\n",
            "Epoch 1067: train RMSE 54.9334, test RMSE 148.9268\n",
            "Epoch 1068: train RMSE 54.9012, test RMSE 148.8795\n",
            "Epoch 1069: train RMSE 54.8692, test RMSE 148.8322\n",
            "Epoch 1070: train RMSE 54.8373, test RMSE 148.7851\n",
            "Epoch 1071: train RMSE 54.8056, test RMSE 148.7378\n",
            "Epoch 1072: train RMSE 54.7740, test RMSE 148.6908\n",
            "Epoch 1073: train RMSE 54.7426, test RMSE 148.6437\n",
            "Epoch 1074: train RMSE 54.7112, test RMSE 148.5965\n",
            "Epoch 1075: train RMSE 54.6800, test RMSE 148.5494\n",
            "Epoch 1076: train RMSE 54.6489, test RMSE 148.5022\n",
            "Epoch 1077: train RMSE 54.6179, test RMSE 148.4549\n",
            "Epoch 1078: train RMSE 54.5870, test RMSE 148.4075\n",
            "Epoch 1079: train RMSE 54.5562, test RMSE 148.3601\n",
            "Epoch 1080: train RMSE 54.5255, test RMSE 148.3124\n",
            "Epoch 1081: train RMSE 54.4948, test RMSE 148.2648\n",
            "Epoch 1082: train RMSE 54.4643, test RMSE 148.2169\n",
            "Epoch 1083: train RMSE 54.4338, test RMSE 148.1690\n",
            "Epoch 1084: train RMSE 54.4034, test RMSE 148.1208\n",
            "Epoch 1085: train RMSE 54.3731, test RMSE 148.0725\n",
            "Epoch 1086: train RMSE 54.3428, test RMSE 148.0242\n",
            "Epoch 1087: train RMSE 54.3126, test RMSE 147.9754\n",
            "Epoch 1088: train RMSE 54.2824, test RMSE 147.9267\n",
            "Epoch 1089: train RMSE 54.2523, test RMSE 147.8777\n",
            "Epoch 1090: train RMSE 54.2223, test RMSE 147.8287\n",
            "Epoch 1091: train RMSE 54.1923, test RMSE 147.7793\n",
            "Epoch 1092: train RMSE 54.1623, test RMSE 147.7299\n",
            "Epoch 1093: train RMSE 54.1324, test RMSE 147.6802\n",
            "Epoch 1094: train RMSE 54.1026, test RMSE 147.6305\n",
            "Epoch 1095: train RMSE 54.0728, test RMSE 147.5804\n",
            "Epoch 1096: train RMSE 54.0430, test RMSE 147.5302\n",
            "Epoch 1097: train RMSE 54.0133, test RMSE 147.4799\n",
            "Epoch 1098: train RMSE 53.9836, test RMSE 147.4292\n",
            "Epoch 1099: train RMSE 53.9539, test RMSE 147.3784\n",
            "Epoch 1100: train RMSE 53.9243, test RMSE 147.3276\n",
            "Epoch 1101: train RMSE 53.8947, test RMSE 147.2765\n",
            "Epoch 1102: train RMSE 53.8652, test RMSE 147.2251\n",
            "Epoch 1103: train RMSE 53.8357, test RMSE 147.1737\n",
            "Epoch 1104: train RMSE 53.8062, test RMSE 147.1220\n",
            "Epoch 1105: train RMSE 53.7768, test RMSE 147.0704\n",
            "Epoch 1106: train RMSE 53.7474, test RMSE 147.0183\n",
            "Epoch 1107: train RMSE 53.7180, test RMSE 146.9660\n",
            "Epoch 1108: train RMSE 53.6886, test RMSE 146.9140\n",
            "Epoch 1109: train RMSE 53.6593, test RMSE 146.8615\n",
            "Epoch 1110: train RMSE 53.6301, test RMSE 146.8089\n",
            "Epoch 1111: train RMSE 53.6008, test RMSE 146.7562\n",
            "Epoch 1112: train RMSE 53.5716, test RMSE 146.7034\n",
            "Epoch 1113: train RMSE 53.5424, test RMSE 146.6503\n",
            "Epoch 1114: train RMSE 53.5133, test RMSE 146.5973\n",
            "Epoch 1115: train RMSE 53.4842, test RMSE 146.5441\n",
            "Epoch 1116: train RMSE 53.4551, test RMSE 146.4907\n",
            "Epoch 1117: train RMSE 53.4261, test RMSE 146.4373\n",
            "Epoch 1118: train RMSE 53.3971, test RMSE 146.3837\n",
            "Epoch 1119: train RMSE 53.3681, test RMSE 146.3301\n",
            "Epoch 1120: train RMSE 53.3391, test RMSE 146.2764\n",
            "Epoch 1121: train RMSE 53.3102, test RMSE 146.2225\n",
            "Epoch 1122: train RMSE 53.2814, test RMSE 146.1685\n",
            "Epoch 1123: train RMSE 53.2525, test RMSE 146.1146\n",
            "Epoch 1124: train RMSE 53.2238, test RMSE 146.0605\n",
            "Epoch 1125: train RMSE 53.1950, test RMSE 146.0064\n",
            "Epoch 1126: train RMSE 53.1663, test RMSE 145.9520\n",
            "Epoch 1127: train RMSE 53.1376, test RMSE 145.8978\n",
            "Epoch 1128: train RMSE 53.1090, test RMSE 145.8436\n",
            "Epoch 1129: train RMSE 53.0804, test RMSE 145.7891\n",
            "Epoch 1130: train RMSE 53.0518, test RMSE 145.7346\n",
            "Epoch 1131: train RMSE 53.0233, test RMSE 145.6801\n",
            "Epoch 1132: train RMSE 52.9948, test RMSE 145.6254\n",
            "Epoch 1133: train RMSE 52.9664, test RMSE 145.5709\n",
            "Epoch 1134: train RMSE 52.9380, test RMSE 145.5163\n",
            "Epoch 1135: train RMSE 52.9097, test RMSE 145.4617\n",
            "Epoch 1136: train RMSE 52.8814, test RMSE 145.4069\n",
            "Epoch 1137: train RMSE 52.8531, test RMSE 145.3521\n",
            "Epoch 1138: train RMSE 52.8249, test RMSE 145.2974\n",
            "Epoch 1139: train RMSE 52.7967, test RMSE 145.2428\n",
            "Epoch 1140: train RMSE 52.7686, test RMSE 145.1879\n",
            "Epoch 1141: train RMSE 52.7405, test RMSE 145.1331\n",
            "Epoch 1142: train RMSE 52.7124, test RMSE 145.0782\n",
            "Epoch 1143: train RMSE 52.6844, test RMSE 145.0235\n",
            "Epoch 1144: train RMSE 52.6565, test RMSE 144.9687\n",
            "Epoch 1145: train RMSE 52.6286, test RMSE 144.9140\n",
            "Epoch 1146: train RMSE 52.6007, test RMSE 144.8590\n",
            "Epoch 1147: train RMSE 52.5729, test RMSE 144.8042\n",
            "Epoch 1148: train RMSE 52.5451, test RMSE 144.7495\n",
            "Epoch 1149: train RMSE 52.5174, test RMSE 144.6948\n",
            "Epoch 1150: train RMSE 52.4898, test RMSE 144.6399\n",
            "Epoch 1151: train RMSE 52.4621, test RMSE 144.5851\n",
            "Epoch 1152: train RMSE 52.4346, test RMSE 144.5302\n",
            "Epoch 1153: train RMSE 52.4070, test RMSE 144.4756\n",
            "Epoch 1154: train RMSE 52.3795, test RMSE 144.4206\n",
            "Epoch 1155: train RMSE 52.3521, test RMSE 144.3660\n",
            "Epoch 1156: train RMSE 52.3247, test RMSE 144.3112\n",
            "Epoch 1157: train RMSE 52.2974, test RMSE 144.2564\n",
            "Epoch 1158: train RMSE 52.2701, test RMSE 144.2016\n",
            "Epoch 1159: train RMSE 52.2428, test RMSE 144.1471\n",
            "Epoch 1160: train RMSE 52.2157, test RMSE 144.0922\n",
            "Epoch 1161: train RMSE 52.1885, test RMSE 144.0376\n",
            "Epoch 1162: train RMSE 52.1614, test RMSE 143.9829\n",
            "Epoch 1163: train RMSE 52.1344, test RMSE 143.9282\n",
            "Epoch 1164: train RMSE 52.1074, test RMSE 143.8735\n",
            "Epoch 1165: train RMSE 52.0804, test RMSE 143.8188\n",
            "Epoch 1166: train RMSE 52.0535, test RMSE 143.7643\n",
            "Epoch 1167: train RMSE 52.0266, test RMSE 143.7095\n",
            "Epoch 1168: train RMSE 51.9998, test RMSE 143.6548\n",
            "Epoch 1169: train RMSE 51.9730, test RMSE 143.6001\n",
            "Epoch 1170: train RMSE 51.9463, test RMSE 143.5455\n",
            "Epoch 1171: train RMSE 51.9196, test RMSE 143.4909\n",
            "Epoch 1172: train RMSE 51.8930, test RMSE 143.4362\n",
            "Epoch 1173: train RMSE 51.8664, test RMSE 143.3816\n",
            "Epoch 1174: train RMSE 51.8398, test RMSE 143.3269\n",
            "Epoch 1175: train RMSE 51.8133, test RMSE 143.2723\n",
            "Epoch 1176: train RMSE 51.7869, test RMSE 143.2176\n",
            "Epoch 1177: train RMSE 51.7604, test RMSE 143.1629\n",
            "Epoch 1178: train RMSE 51.7340, test RMSE 143.1084\n",
            "Epoch 1179: train RMSE 51.7077, test RMSE 143.0534\n",
            "Epoch 1180: train RMSE 51.6814, test RMSE 142.9988\n",
            "Epoch 1181: train RMSE 51.6551, test RMSE 142.9440\n",
            "Epoch 1182: train RMSE 51.6289, test RMSE 142.8893\n",
            "Epoch 1183: train RMSE 51.6027, test RMSE 142.8344\n",
            "Epoch 1184: train RMSE 51.5766, test RMSE 142.7796\n",
            "Epoch 1185: train RMSE 51.5505, test RMSE 142.7247\n",
            "Epoch 1186: train RMSE 51.5244, test RMSE 142.6699\n",
            "Epoch 1187: train RMSE 51.4984, test RMSE 142.6150\n",
            "Epoch 1188: train RMSE 51.4724, test RMSE 142.5602\n",
            "Epoch 1189: train RMSE 51.4464, test RMSE 142.5052\n",
            "Epoch 1190: train RMSE 51.4205, test RMSE 142.4500\n",
            "Epoch 1191: train RMSE 51.3946, test RMSE 142.3950\n",
            "Epoch 1192: train RMSE 51.3687, test RMSE 142.3399\n",
            "Epoch 1193: train RMSE 51.3428, test RMSE 142.2848\n",
            "Epoch 1194: train RMSE 51.3171, test RMSE 142.2295\n",
            "Epoch 1195: train RMSE 51.2912, test RMSE 142.1747\n",
            "Epoch 1196: train RMSE 51.2655, test RMSE 142.1190\n",
            "Epoch 1197: train RMSE 51.2398, test RMSE 142.0638\n",
            "Epoch 1198: train RMSE 51.2141, test RMSE 142.0084\n",
            "Epoch 1199: train RMSE 51.1884, test RMSE 141.9530\n",
            "Epoch 1200: train RMSE 51.1628, test RMSE 141.8974\n",
            "Epoch 1201: train RMSE 51.1372, test RMSE 141.8419\n",
            "Epoch 1202: train RMSE 51.1116, test RMSE 141.7861\n",
            "Epoch 1203: train RMSE 51.0860, test RMSE 141.7306\n",
            "Epoch 1204: train RMSE 51.0604, test RMSE 141.6749\n",
            "Epoch 1205: train RMSE 51.0349, test RMSE 141.6191\n",
            "Epoch 1206: train RMSE 51.0094, test RMSE 141.5632\n",
            "Epoch 1207: train RMSE 50.9839, test RMSE 141.5072\n",
            "Epoch 1208: train RMSE 50.9584, test RMSE 141.4511\n",
            "Epoch 1209: train RMSE 50.9329, test RMSE 141.3952\n",
            "Epoch 1210: train RMSE 50.9075, test RMSE 141.3389\n",
            "Epoch 1211: train RMSE 50.8821, test RMSE 141.2829\n",
            "Epoch 1212: train RMSE 50.8567, test RMSE 141.2264\n",
            "Epoch 1213: train RMSE 50.8313, test RMSE 141.1701\n",
            "Epoch 1214: train RMSE 50.8059, test RMSE 141.1136\n",
            "Epoch 1215: train RMSE 50.7805, test RMSE 141.0573\n",
            "Epoch 1216: train RMSE 50.7551, test RMSE 141.0007\n",
            "Epoch 1217: train RMSE 50.7298, test RMSE 140.9438\n",
            "Epoch 1218: train RMSE 50.7044, test RMSE 140.8871\n",
            "Epoch 1219: train RMSE 50.6791, test RMSE 140.8303\n",
            "Epoch 1220: train RMSE 50.6538, test RMSE 140.7735\n",
            "Epoch 1221: train RMSE 50.6284, test RMSE 140.7164\n",
            "Epoch 1222: train RMSE 50.6031, test RMSE 140.6594\n",
            "Epoch 1223: train RMSE 50.5778, test RMSE 140.6022\n",
            "Epoch 1224: train RMSE 50.5525, test RMSE 140.5452\n",
            "Epoch 1225: train RMSE 50.5272, test RMSE 140.4878\n",
            "Epoch 1226: train RMSE 50.5019, test RMSE 140.4304\n",
            "Epoch 1227: train RMSE 50.4766, test RMSE 140.3730\n",
            "Epoch 1228: train RMSE 50.4513, test RMSE 140.3155\n",
            "Epoch 1229: train RMSE 50.4260, test RMSE 140.2578\n",
            "Epoch 1230: train RMSE 50.4007, test RMSE 140.2001\n",
            "Epoch 1231: train RMSE 50.3753, test RMSE 140.1423\n",
            "Epoch 1232: train RMSE 50.3500, test RMSE 140.0846\n",
            "Epoch 1233: train RMSE 50.3247, test RMSE 140.0266\n",
            "Epoch 1234: train RMSE 50.2994, test RMSE 139.9686\n",
            "Epoch 1235: train RMSE 50.2741, test RMSE 139.9107\n",
            "Epoch 1236: train RMSE 50.2487, test RMSE 139.8526\n",
            "Epoch 1237: train RMSE 50.2234, test RMSE 139.7943\n",
            "Epoch 1238: train RMSE 50.1981, test RMSE 139.7362\n",
            "Epoch 1239: train RMSE 50.1728, test RMSE 139.6776\n",
            "Epoch 1240: train RMSE 50.1474, test RMSE 139.6193\n",
            "Epoch 1241: train RMSE 50.1220, test RMSE 139.5609\n",
            "Epoch 1242: train RMSE 50.0967, test RMSE 139.5024\n",
            "Epoch 1243: train RMSE 50.0713, test RMSE 139.4437\n",
            "Epoch 1244: train RMSE 50.0459, test RMSE 139.3850\n",
            "Epoch 1245: train RMSE 50.0205, test RMSE 139.3264\n",
            "Epoch 1246: train RMSE 49.9951, test RMSE 139.2675\n",
            "Epoch 1247: train RMSE 49.9697, test RMSE 139.2088\n",
            "Epoch 1248: train RMSE 49.9442, test RMSE 139.1499\n",
            "Epoch 1249: train RMSE 49.9188, test RMSE 139.0907\n",
            "Epoch 1250: train RMSE 49.8934, test RMSE 139.0316\n",
            "Epoch 1251: train RMSE 49.8679, test RMSE 138.9727\n",
            "Epoch 1252: train RMSE 49.8424, test RMSE 138.9134\n",
            "Epoch 1253: train RMSE 49.8169, test RMSE 138.8542\n",
            "Epoch 1254: train RMSE 49.7914, test RMSE 138.7950\n",
            "Epoch 1255: train RMSE 49.7658, test RMSE 138.7357\n",
            "Epoch 1256: train RMSE 49.7403, test RMSE 138.6765\n",
            "Epoch 1257: train RMSE 49.7147, test RMSE 138.6168\n",
            "Epoch 1258: train RMSE 49.6892, test RMSE 138.5575\n",
            "Epoch 1259: train RMSE 49.6636, test RMSE 138.4980\n",
            "Epoch 1260: train RMSE 49.6380, test RMSE 138.4385\n",
            "Epoch 1261: train RMSE 49.6123, test RMSE 138.3791\n",
            "Epoch 1262: train RMSE 49.5867, test RMSE 138.3192\n",
            "Epoch 1263: train RMSE 49.5610, test RMSE 138.2597\n",
            "Epoch 1264: train RMSE 49.5353, test RMSE 138.1999\n",
            "Epoch 1265: train RMSE 49.5096, test RMSE 138.1402\n",
            "Epoch 1266: train RMSE 49.4839, test RMSE 138.0805\n",
            "Epoch 1267: train RMSE 49.4582, test RMSE 138.0208\n",
            "Epoch 1268: train RMSE 49.4324, test RMSE 137.9609\n",
            "Epoch 1269: train RMSE 49.4067, test RMSE 137.9011\n",
            "Epoch 1270: train RMSE 49.3809, test RMSE 137.8412\n",
            "Epoch 1271: train RMSE 49.3551, test RMSE 137.7815\n",
            "Epoch 1272: train RMSE 49.3292, test RMSE 137.7215\n",
            "Epoch 1273: train RMSE 49.3034, test RMSE 137.6615\n",
            "Epoch 1274: train RMSE 49.2775, test RMSE 137.6017\n",
            "Epoch 1275: train RMSE 49.2516, test RMSE 137.5418\n",
            "Epoch 1276: train RMSE 49.2257, test RMSE 137.4819\n",
            "Epoch 1277: train RMSE 49.1998, test RMSE 137.4219\n",
            "Epoch 1278: train RMSE 49.1738, test RMSE 137.3620\n",
            "Epoch 1279: train RMSE 49.1479, test RMSE 137.3019\n",
            "Epoch 1280: train RMSE 49.1219, test RMSE 137.2418\n",
            "Epoch 1281: train RMSE 49.0959, test RMSE 137.1820\n",
            "Epoch 1282: train RMSE 49.0699, test RMSE 137.1219\n",
            "Epoch 1283: train RMSE 49.0438, test RMSE 137.0619\n",
            "Epoch 1284: train RMSE 49.0177, test RMSE 137.0019\n",
            "Epoch 1285: train RMSE 48.9917, test RMSE 136.9419\n",
            "Epoch 1286: train RMSE 48.9655, test RMSE 136.8819\n",
            "Epoch 1287: train RMSE 48.9394, test RMSE 136.8220\n",
            "Epoch 1288: train RMSE 48.9133, test RMSE 136.7620\n",
            "Epoch 1289: train RMSE 48.8871, test RMSE 136.7020\n",
            "Epoch 1290: train RMSE 48.8610, test RMSE 136.6421\n",
            "Epoch 1291: train RMSE 48.8348, test RMSE 136.5822\n",
            "Epoch 1292: train RMSE 48.8085, test RMSE 136.5222\n",
            "Epoch 1293: train RMSE 48.7823, test RMSE 136.4623\n",
            "Epoch 1294: train RMSE 48.7561, test RMSE 136.4023\n",
            "Epoch 1295: train RMSE 48.7298, test RMSE 136.3425\n",
            "Epoch 1296: train RMSE 48.7035, test RMSE 136.2826\n",
            "Epoch 1297: train RMSE 48.6772, test RMSE 136.2228\n",
            "Epoch 1298: train RMSE 48.6509, test RMSE 136.1631\n",
            "Epoch 1299: train RMSE 48.6245, test RMSE 136.1033\n",
            "Epoch 1300: train RMSE 48.5982, test RMSE 136.0435\n",
            "Epoch 1301: train RMSE 48.5718, test RMSE 135.9838\n",
            "Epoch 1302: train RMSE 48.5454, test RMSE 135.9240\n",
            "Epoch 1303: train RMSE 48.5190, test RMSE 135.8644\n",
            "Epoch 1304: train RMSE 48.4926, test RMSE 135.8047\n",
            "Epoch 1305: train RMSE 48.4661, test RMSE 135.7452\n",
            "Epoch 1306: train RMSE 48.4397, test RMSE 135.6857\n",
            "Epoch 1307: train RMSE 48.4132, test RMSE 135.6260\n",
            "Epoch 1308: train RMSE 48.3867, test RMSE 135.5666\n",
            "Epoch 1309: train RMSE 48.3602, test RMSE 135.5070\n",
            "Epoch 1310: train RMSE 48.3337, test RMSE 135.4476\n",
            "Epoch 1311: train RMSE 48.3072, test RMSE 135.3882\n",
            "Epoch 1312: train RMSE 48.2806, test RMSE 135.3290\n",
            "Epoch 1313: train RMSE 48.2541, test RMSE 135.2695\n",
            "Epoch 1314: train RMSE 48.2275, test RMSE 135.2105\n",
            "Epoch 1315: train RMSE 48.2009, test RMSE 135.1512\n",
            "Epoch 1316: train RMSE 48.1744, test RMSE 135.0919\n",
            "Epoch 1317: train RMSE 48.1478, test RMSE 135.0328\n",
            "Epoch 1318: train RMSE 48.1211, test RMSE 134.9738\n",
            "Epoch 1319: train RMSE 48.0945, test RMSE 134.9148\n",
            "Epoch 1320: train RMSE 48.0679, test RMSE 134.8557\n",
            "Epoch 1321: train RMSE 48.0412, test RMSE 134.7967\n",
            "Epoch 1322: train RMSE 48.0145, test RMSE 134.7380\n",
            "Epoch 1323: train RMSE 47.9879, test RMSE 134.6792\n",
            "Epoch 1324: train RMSE 47.9612, test RMSE 134.6203\n",
            "Epoch 1325: train RMSE 47.9345, test RMSE 134.5616\n",
            "Epoch 1326: train RMSE 47.9078, test RMSE 134.5030\n",
            "Epoch 1327: train RMSE 47.8811, test RMSE 134.4443\n",
            "Epoch 1328: train RMSE 47.8544, test RMSE 134.3855\n",
            "Epoch 1329: train RMSE 47.8277, test RMSE 134.3271\n",
            "Epoch 1330: train RMSE 47.8009, test RMSE 134.2688\n",
            "Epoch 1331: train RMSE 47.7742, test RMSE 134.2100\n",
            "Epoch 1332: train RMSE 47.7474, test RMSE 134.1519\n",
            "Epoch 1333: train RMSE 47.7207, test RMSE 134.0932\n",
            "Epoch 1334: train RMSE 47.6939, test RMSE 134.0351\n",
            "Epoch 1335: train RMSE 47.6672, test RMSE 133.9769\n",
            "Epoch 1336: train RMSE 47.6404, test RMSE 133.9187\n",
            "Epoch 1337: train RMSE 47.6136, test RMSE 133.8606\n",
            "Epoch 1338: train RMSE 47.5868, test RMSE 133.8024\n",
            "Epoch 1339: train RMSE 47.5600, test RMSE 133.7445\n",
            "Epoch 1340: train RMSE 47.5332, test RMSE 133.6865\n",
            "Epoch 1341: train RMSE 47.5065, test RMSE 133.6285\n",
            "Epoch 1342: train RMSE 47.4796, test RMSE 133.5707\n",
            "Epoch 1343: train RMSE 47.4528, test RMSE 133.5129\n",
            "Epoch 1344: train RMSE 47.4260, test RMSE 133.4551\n",
            "Epoch 1345: train RMSE 47.3992, test RMSE 133.3973\n",
            "Epoch 1346: train RMSE 47.3724, test RMSE 133.3399\n",
            "Epoch 1347: train RMSE 47.3456, test RMSE 133.2822\n",
            "Epoch 1348: train RMSE 47.3188, test RMSE 133.2243\n",
            "Epoch 1349: train RMSE 47.2919, test RMSE 133.1671\n",
            "Epoch 1350: train RMSE 47.2651, test RMSE 133.1095\n",
            "Epoch 1351: train RMSE 47.2383, test RMSE 133.0521\n",
            "Epoch 1352: train RMSE 47.2115, test RMSE 132.9945\n",
            "Epoch 1353: train RMSE 47.1846, test RMSE 132.9376\n",
            "Epoch 1354: train RMSE 47.1578, test RMSE 132.8802\n",
            "Epoch 1355: train RMSE 47.1310, test RMSE 132.8227\n",
            "Epoch 1356: train RMSE 47.1042, test RMSE 132.7658\n",
            "Epoch 1357: train RMSE 47.0773, test RMSE 132.7085\n",
            "Epoch 1358: train RMSE 47.0505, test RMSE 132.6514\n",
            "Epoch 1359: train RMSE 47.0237, test RMSE 132.5944\n",
            "Epoch 1360: train RMSE 46.9969, test RMSE 132.5373\n",
            "Epoch 1361: train RMSE 46.9700, test RMSE 132.4806\n",
            "Epoch 1362: train RMSE 46.9432, test RMSE 132.4236\n",
            "Epoch 1363: train RMSE 46.9164, test RMSE 132.3667\n",
            "Epoch 1364: train RMSE 46.8896, test RMSE 132.3098\n",
            "Epoch 1365: train RMSE 46.8628, test RMSE 132.2530\n",
            "Epoch 1366: train RMSE 46.8360, test RMSE 132.1962\n",
            "Epoch 1367: train RMSE 46.8091, test RMSE 132.1397\n",
            "Epoch 1368: train RMSE 46.7823, test RMSE 132.0829\n",
            "Epoch 1369: train RMSE 46.7556, test RMSE 132.0262\n",
            "Epoch 1370: train RMSE 46.7287, test RMSE 131.9698\n",
            "Epoch 1371: train RMSE 46.7020, test RMSE 131.9130\n",
            "Epoch 1372: train RMSE 46.6752, test RMSE 131.8566\n",
            "Epoch 1373: train RMSE 46.6484, test RMSE 131.8001\n",
            "Epoch 1374: train RMSE 46.6216, test RMSE 131.7438\n",
            "Epoch 1375: train RMSE 46.5948, test RMSE 131.6873\n",
            "Epoch 1376: train RMSE 46.5680, test RMSE 131.6309\n",
            "Epoch 1377: train RMSE 46.5413, test RMSE 131.5747\n",
            "Epoch 1378: train RMSE 46.5145, test RMSE 131.5183\n",
            "Epoch 1379: train RMSE 46.4878, test RMSE 131.4619\n",
            "Epoch 1380: train RMSE 46.4610, test RMSE 131.4059\n",
            "Epoch 1381: train RMSE 46.4342, test RMSE 131.3497\n",
            "Epoch 1382: train RMSE 46.4075, test RMSE 131.2931\n",
            "Epoch 1383: train RMSE 46.3808, test RMSE 131.2372\n",
            "Epoch 1384: train RMSE 46.3541, test RMSE 131.1810\n",
            "Epoch 1385: train RMSE 46.3273, test RMSE 131.1249\n",
            "Epoch 1386: train RMSE 46.3006, test RMSE 131.0690\n",
            "Epoch 1387: train RMSE 46.2739, test RMSE 131.0127\n",
            "Epoch 1388: train RMSE 46.2472, test RMSE 130.9567\n",
            "Epoch 1389: train RMSE 46.2205, test RMSE 130.9008\n",
            "Epoch 1390: train RMSE 46.1938, test RMSE 130.8447\n",
            "Epoch 1391: train RMSE 46.1672, test RMSE 130.7888\n",
            "Epoch 1392: train RMSE 46.1405, test RMSE 130.7329\n",
            "Epoch 1393: train RMSE 46.1138, test RMSE 130.6771\n",
            "Epoch 1394: train RMSE 46.0872, test RMSE 130.6211\n",
            "Epoch 1395: train RMSE 46.0605, test RMSE 130.5650\n",
            "Epoch 1396: train RMSE 46.0339, test RMSE 130.5094\n",
            "Epoch 1397: train RMSE 46.0072, test RMSE 130.4536\n",
            "Epoch 1398: train RMSE 45.9806, test RMSE 130.3977\n",
            "Epoch 1399: train RMSE 45.9540, test RMSE 130.3419\n",
            "Epoch 1400: train RMSE 45.9274, test RMSE 130.2861\n",
            "Epoch 1401: train RMSE 45.9008, test RMSE 130.2304\n",
            "Epoch 1402: train RMSE 45.8742, test RMSE 130.1746\n",
            "Epoch 1403: train RMSE 45.8477, test RMSE 130.1188\n",
            "Epoch 1404: train RMSE 45.8211, test RMSE 130.0631\n",
            "Epoch 1405: train RMSE 45.7945, test RMSE 130.0074\n",
            "Epoch 1406: train RMSE 45.7680, test RMSE 129.9517\n",
            "Epoch 1407: train RMSE 45.7415, test RMSE 129.8960\n",
            "Epoch 1408: train RMSE 45.7149, test RMSE 129.8402\n",
            "Epoch 1409: train RMSE 45.6884, test RMSE 129.7845\n",
            "Epoch 1410: train RMSE 45.6619, test RMSE 129.7290\n",
            "Epoch 1411: train RMSE 45.6354, test RMSE 129.6734\n",
            "Epoch 1412: train RMSE 45.6089, test RMSE 129.6176\n",
            "Epoch 1413: train RMSE 45.5825, test RMSE 129.5620\n",
            "Epoch 1414: train RMSE 45.5560, test RMSE 129.5064\n",
            "Epoch 1415: train RMSE 45.5295, test RMSE 129.4509\n",
            "Epoch 1416: train RMSE 45.5031, test RMSE 129.3952\n",
            "Epoch 1417: train RMSE 45.4767, test RMSE 129.3396\n",
            "Epoch 1418: train RMSE 45.4503, test RMSE 129.2839\n",
            "Epoch 1419: train RMSE 45.4239, test RMSE 129.2283\n",
            "Epoch 1420: train RMSE 45.3975, test RMSE 129.1728\n",
            "Epoch 1421: train RMSE 45.3711, test RMSE 129.1172\n",
            "Epoch 1422: train RMSE 45.3447, test RMSE 129.0616\n",
            "Epoch 1423: train RMSE 45.3184, test RMSE 129.0060\n",
            "Epoch 1424: train RMSE 45.2920, test RMSE 128.9504\n",
            "Epoch 1425: train RMSE 45.2657, test RMSE 128.8947\n",
            "Epoch 1426: train RMSE 45.2394, test RMSE 128.8392\n",
            "Epoch 1427: train RMSE 45.2131, test RMSE 128.7836\n",
            "Epoch 1428: train RMSE 45.1868, test RMSE 128.7279\n",
            "Epoch 1429: train RMSE 45.1605, test RMSE 128.6723\n",
            "Epoch 1430: train RMSE 45.1342, test RMSE 128.6168\n",
            "Epoch 1431: train RMSE 45.1080, test RMSE 128.5612\n",
            "Epoch 1432: train RMSE 45.0817, test RMSE 128.5054\n",
            "Epoch 1433: train RMSE 45.0555, test RMSE 128.4498\n",
            "Epoch 1434: train RMSE 45.0293, test RMSE 128.3943\n",
            "Epoch 1435: train RMSE 45.0031, test RMSE 128.3385\n",
            "Epoch 1436: train RMSE 44.9769, test RMSE 128.2832\n",
            "Epoch 1437: train RMSE 44.9507, test RMSE 128.2275\n",
            "Epoch 1438: train RMSE 44.9246, test RMSE 128.1719\n",
            "Epoch 1439: train RMSE 44.8984, test RMSE 128.1161\n",
            "Epoch 1440: train RMSE 44.8723, test RMSE 128.0606\n",
            "Epoch 1441: train RMSE 44.8462, test RMSE 128.0049\n",
            "Epoch 1442: train RMSE 44.8201, test RMSE 127.9493\n",
            "Epoch 1443: train RMSE 44.7940, test RMSE 127.8937\n",
            "Epoch 1444: train RMSE 44.7679, test RMSE 127.8380\n",
            "Epoch 1445: train RMSE 44.7418, test RMSE 127.7824\n",
            "Epoch 1446: train RMSE 44.7158, test RMSE 127.7266\n",
            "Epoch 1447: train RMSE 44.6898, test RMSE 127.6710\n",
            "Epoch 1448: train RMSE 44.6638, test RMSE 127.6152\n",
            "Epoch 1449: train RMSE 44.6378, test RMSE 127.5596\n",
            "Epoch 1450: train RMSE 44.6118, test RMSE 127.5038\n",
            "Epoch 1451: train RMSE 44.5858, test RMSE 127.4482\n",
            "Epoch 1452: train RMSE 44.5599, test RMSE 127.3925\n",
            "Epoch 1453: train RMSE 44.5339, test RMSE 127.3366\n",
            "Epoch 1454: train RMSE 44.5080, test RMSE 127.2810\n",
            "Epoch 1455: train RMSE 44.4821, test RMSE 127.2253\n",
            "Epoch 1456: train RMSE 44.4562, test RMSE 127.1695\n",
            "Epoch 1457: train RMSE 44.4303, test RMSE 127.1136\n",
            "Epoch 1458: train RMSE 44.4045, test RMSE 127.0579\n",
            "Epoch 1459: train RMSE 44.3787, test RMSE 127.0020\n",
            "Epoch 1460: train RMSE 44.3528, test RMSE 126.9463\n",
            "Epoch 1461: train RMSE 44.3270, test RMSE 126.8904\n",
            "Epoch 1462: train RMSE 44.3012, test RMSE 126.8346\n",
            "Epoch 1463: train RMSE 44.2755, test RMSE 126.7788\n",
            "Epoch 1464: train RMSE 44.2497, test RMSE 126.7229\n",
            "Epoch 1465: train RMSE 44.2240, test RMSE 126.6671\n",
            "Epoch 1466: train RMSE 44.1983, test RMSE 126.6111\n",
            "Epoch 1467: train RMSE 44.1726, test RMSE 126.5552\n",
            "Epoch 1468: train RMSE 44.1469, test RMSE 126.4993\n",
            "Epoch 1469: train RMSE 44.1212, test RMSE 126.4432\n",
            "Epoch 1470: train RMSE 44.0956, test RMSE 126.3874\n",
            "Epoch 1471: train RMSE 44.0699, test RMSE 126.3314\n",
            "Epoch 1472: train RMSE 44.0443, test RMSE 126.2754\n",
            "Epoch 1473: train RMSE 44.0187, test RMSE 126.2194\n",
            "Epoch 1474: train RMSE 43.9932, test RMSE 126.1633\n",
            "Epoch 1475: train RMSE 43.9676, test RMSE 126.1074\n",
            "Epoch 1476: train RMSE 43.9420, test RMSE 126.0514\n",
            "Epoch 1477: train RMSE 43.9165, test RMSE 125.9952\n",
            "Epoch 1478: train RMSE 43.8910, test RMSE 125.9392\n",
            "Epoch 1479: train RMSE 43.8655, test RMSE 125.8830\n",
            "Epoch 1480: train RMSE 43.8401, test RMSE 125.8270\n",
            "Epoch 1481: train RMSE 43.8146, test RMSE 125.7709\n",
            "Epoch 1482: train RMSE 43.7892, test RMSE 125.7146\n",
            "Epoch 1483: train RMSE 43.7638, test RMSE 125.6587\n",
            "Epoch 1484: train RMSE 43.7384, test RMSE 125.6023\n",
            "Epoch 1485: train RMSE 43.7130, test RMSE 125.5462\n",
            "Epoch 1486: train RMSE 43.6877, test RMSE 125.4900\n",
            "Epoch 1487: train RMSE 43.6623, test RMSE 125.4339\n",
            "Epoch 1488: train RMSE 43.6370, test RMSE 125.3775\n",
            "Epoch 1489: train RMSE 43.6118, test RMSE 125.3213\n",
            "Epoch 1490: train RMSE 43.5865, test RMSE 125.2650\n",
            "Epoch 1491: train RMSE 43.5612, test RMSE 125.2087\n",
            "Epoch 1492: train RMSE 43.5360, test RMSE 125.1525\n",
            "Epoch 1493: train RMSE 43.5108, test RMSE 125.0959\n",
            "Epoch 1494: train RMSE 43.4856, test RMSE 125.0398\n",
            "Epoch 1495: train RMSE 43.4604, test RMSE 124.9834\n",
            "Epoch 1496: train RMSE 43.4353, test RMSE 124.9270\n",
            "Epoch 1497: train RMSE 43.4101, test RMSE 124.8708\n",
            "Epoch 1498: train RMSE 43.3850, test RMSE 124.8142\n",
            "Epoch 1499: train RMSE 43.3599, test RMSE 124.7578\n"
          ]
        }
      ]
    },
    {
      "cell_type": "code",
      "source": [
        "with torch.no_grad():\n",
        "  trainPlot = np.ones_like(timeseries) * np.nan\n",
        "  predictedTrain = model2(X_train_set2)\n",
        "  trainPlot[:train_size2] = np.squeeze(predictedTrain.detach().numpy()).reshape(train_size2,1)\n",
        "  testPlot = np.ones_like(timeseries) * np.nan\n",
        "  predictedTest = model2(X_test_set2)\n",
        "  trainPlot[-test_size2:] = np.squeeze(predictedTest.detach().numpy()).reshape(test_size2,1)"
      ],
      "metadata": {
        "id": "cQjoq4adwL3a"
      },
      "execution_count": null,
      "outputs": []
    },
    {
      "cell_type": "code",
      "source": [
        "# plotting the dataset\n",
        "timeseries = df[[\"Passengers\"]].values.astype('float32')\n",
        "# plotting the dataset\n",
        "plt.plot(timeseries, c='b')\n",
        "plt.plot(trainPlot, c='r')\n",
        "plt.plot(testPlot, c='g')\n",
        "plt.show()"
      ],
      "metadata": {
        "id": "FKVAsVbNvt15",
        "colab": {
          "base_uri": "https://localhost:8080/",
          "height": 430
        },
        "outputId": "27505175-cb24-4216-820c-59de81e2de44"
      },
      "execution_count": null,
      "outputs": [
        {
          "output_type": "display_data",
          "data": {
            "text/plain": [
              "<Figure size 640x480 with 1 Axes>"
            ],
            "image/png": "[encoded data removed]"
          },
          "metadata": {}
        }
      ]
    },
    {
      "cell_type": "markdown",
      "source": [
        "**[Ric wrote]:** I is worthwile mention that it seems that the WaveNet architechture is highly dependent on initial conditions. Some runs led to no improvement of the RSME whereas a handful of runs resulted in rapid improvement of the RSME."
      ],
      "metadata": {
        "id": "zbcBX8ce0Kk_"
      }
    },
    {
      "cell_type": "code",
      "source": [],
      "metadata": {
        "id": "TfJxN-F_vtya"
      },
      "execution_count": null,
      "outputs": []
    },
    {
      "cell_type": "markdown",
      "source": [
        "3. Evaluate and Compare the result using proper metric. Justify the metrics used.\n"
      ],
      "metadata": {
        "id": "8lv8qXvNpetv"
      }
    },
    {
      "cell_type": "markdown",
      "source": [
        "The selected metric to evaluate the forecast of the time series was Root Mean Squared Error (RMSE). I implemented it by selecting nn.MSELoss() as the loss function and then taking the square root of the loss function.\n",
        "<br>\n",
        "<br>\n",
        "The Root Mean Squared Error, or RMSE, is an extension of the mean squared error. The mean squared error is calculated as the mean of the **squared** differences between values predicted by a given model and target values in the original dataset. The square operation removes negative signs, hence it results in a positive error value.\n",
        "<br>\n",
        "<br>\n",
        "The squaring also has the effect of inflating or magnifying large errors. That is, the larger the difference between the predicted and expected values, the larger the resulting squared positive error. This has the effect of “punishing” models more for larger errors when MSE is used as a loss function. It also has the effect of “punishing” models by inflating the average error score when used as a metric.\n",
        "<br>\n",
        "<br>\n",
        "ImportantlyWhen using RSME, the square root of the MSE is calculated, which means that the units of the RMSE are the same as the original units of the target value that is being predicted.\n",
        "<br>\n",
        "<br>\n",
        "When the RMSE value is equal to 0.0 the result means that all predictions matched the expected values exactly. This is result is unlikely, and it suggests the predictive modeling problem is trivial.\n",
        "<br>\n",
        "<br>\n",
        "It is a good idea to first establish a baseline RMSE for a given dataset using a naive predictive model, such as predicting the mean target value from the training dataset. A model that achieves an RMSE better than the RMSE for the naive model has skill.\n",
        "<br>\n",
        "<br>\n",
        "In this exercise we had the following results for the LSTM and the WaveNet architectures:\n",
        "\n",
        "|Model Architecture | Training Set RSME | Test Set RSME |\n",
        "|-------------------|-------------------|---------------|\n",
        "|LSTM               | 99.1570           | 96.3886       |\n",
        "|WaveNet            | 43.3599           |  124.7578     |\n",
        "\n",
        "<br>\n",
        "WaveNet performed much better than LSTM in the training set. Notwitstanding, LSTM performed better with the test set. In a high-level view one would say that LSTM would generalize better than WaveNet, however, LSTM was predicting using only two autoregressive terms (that is, using the previous two periods). Meanwhile, WaveNet was using 12 autoregressive terms - because it was hypothesized that by using the dilation and the causal convulutional layers would allow the model to pick up the seasonality effect. It is known that autoregressive terms closer to the target value in time would show high correlation. The LSTM model that used 4 autoregressive terms preformed not as well in the test set (RSME = 162.6247), it is reasonable to assume that the LSTM with 12 autoregressive terms would perform way worse. So, in a way it can be argued that the WaveNet would be the model that will generalize better.\n",
        "<br>\n",
        "<br>\n",
        "The only disadvantage of WaveNet was the high variability shown at training time (which is assumed to be because dependance in initial conditions)."
      ],
      "metadata": {
        "id": "qoUnJyqs1zyI"
      }
    },
    {
      "cell_type": "code",
      "source": [],
      "metadata": {
        "id": "fM5_hgRzqGuk"
      },
      "execution_count": null,
      "outputs": []
    },
    {
      "cell_type": "markdown",
      "source": [
        "[Bonus 5 points] Suggest some things that could be done to improve the results.\n"
      ],
      "metadata": {
        "id": "TCy6QBvLqHgr"
      }
    },
    {
      "cell_type": "markdown",
      "source": [
        "Being a time series model there are a few things that comes to mind:\n",
        "* Remove the seasonality from the data\n",
        "* Detrend the time series to remove the linear trend component\n",
        "* Test for stationarity. A stationary process has the property that the mean, variance and autocorrelation structure do not change over time. If a model is not stationary it might need first diferencing or second diferencing to transform the non-stationary data into a stationary one. *Note that first differencing is not the same thing as differentiating. The later is taking a derivate.*\n",
        "Other items that might help to improve performance are:\n",
        "* As these are two machine learning models the performance might improve if we normalize the data.\n",
        "* Gathering more data observations (international passenger data post 1960) as well asgathering some interesting features that have information about the target variables (median income of the population, GNI per capita, among others), might improve the performance of the models.\n"
      ],
      "metadata": {
        "id": "FYy4MmZZ81bP"
      }
    },
    {
      "cell_type": "markdown",
      "source": [
        "[Bonus 5 points] Suggest where this could be used in Robotics other than the example given in the beginning."
      ],
      "metadata": {
        "id": "ZiMFuijvpkC0"
      }
    },
    {
      "cell_type": "markdown",
      "source": [
        "* A robot that needs to perform an action when a given variable reaches a peak or a valley may use time series to predict the times when it needs to be ready to perform that action. For example, a robot that applies a chemical to reduce the levels of pollution in wastewater during peak discharge hours.\n",
        "* A robot with flying capabilities might infer best routes to fly or even when to stay on the ground by using a local time series model to predict the weather.\n",
        "* The predicting weather above may apply to a mining robot we send to a given location with unkown weather. For example, a mining robot in one of saturn moons (say Titan that has a methane ocean - this is a wheather we don't fully know).\n",
        "* A defense robot that detects threats by listening to anomalous sounds will use a time series model to detect anomalies in the sound waves."
      ],
      "metadata": {
        "id": "uq_3q1OW_7NB"
      }
    },
    {
      "cell_type": "code",
      "source": [],
      "metadata": {
        "id": "D34K-sg2peHi"
      },
      "execution_count": null,
      "outputs": []
    }
  ],
  "metadata": {
    "colab": {
      "provenance": []
    },
    "kernelspec": {
      "display_name": "Python 3",
      "name": "python3"
    },
    "language_info": {
      "name": "python"
    }
  },
  "nbformat": 4,
  "nbformat_minor": 0
}